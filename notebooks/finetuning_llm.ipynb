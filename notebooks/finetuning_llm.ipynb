{
 "cells": [
  {
   "cell_type": "code",
   "execution_count": null,
   "metadata": {
    "colab": {
     "base_uri": "https://localhost:8080/"
    },
    "id": "QlW4Rw-I7nL4",
    "outputId": "32c6b5b5-5d21-46f7-bb4d-410f282b31a2"
   },
   "outputs": [
    {
     "name": "stdout",
     "output_type": "stream",
     "text": [
      "Requirement already satisfied: typing_extensions in /usr/local/lib/python3.10/dist-packages (4.12.2)\n",
      "Collecting openai\n",
      "  Downloading openai-1.44.0-py3-none-any.whl.metadata (22 kB)\n",
      "Requirement already satisfied: anyio<5,>=3.5.0 in /usr/local/lib/python3.10/dist-packages (from openai) (3.7.1)\n",
      "Requirement already satisfied: distro<2,>=1.7.0 in /usr/lib/python3/dist-packages (from openai) (1.7.0)\n",
      "Collecting httpx<1,>=0.23.0 (from openai)\n",
      "  Downloading httpx-0.27.2-py3-none-any.whl.metadata (7.1 kB)\n",
      "Collecting jiter<1,>=0.4.0 (from openai)\n",
      "  Downloading jiter-0.5.0-cp310-cp310-manylinux_2_17_x86_64.manylinux2014_x86_64.whl.metadata (3.6 kB)\n",
      "Requirement already satisfied: pydantic<3,>=1.9.0 in /usr/local/lib/python3.10/dist-packages (from openai) (2.8.2)\n",
      "Requirement already satisfied: sniffio in /usr/local/lib/python3.10/dist-packages (from openai) (1.3.1)\n",
      "Requirement already satisfied: tqdm>4 in /usr/local/lib/python3.10/dist-packages (from openai) (4.66.5)\n",
      "Requirement already satisfied: idna>=2.8 in /usr/local/lib/python3.10/dist-packages (from anyio<5,>=3.5.0->openai) (3.8)\n",
      "Requirement already satisfied: exceptiongroup in /usr/local/lib/python3.10/dist-packages (from anyio<5,>=3.5.0->openai) (1.2.2)\n",
      "Requirement already satisfied: certifi in /usr/local/lib/python3.10/dist-packages (from httpx<1,>=0.23.0->openai) (2024.8.30)\n",
      "Collecting httpcore==1.* (from httpx<1,>=0.23.0->openai)\n",
      "  Downloading httpcore-1.0.5-py3-none-any.whl.metadata (20 kB)\n",
      "Collecting h11<0.15,>=0.13 (from httpcore==1.*->httpx<1,>=0.23.0->openai)\n",
      "  Downloading h11-0.14.0-py3-none-any.whl.metadata (8.2 kB)\n",
      "Requirement already satisfied: annotated-types>=0.4.0 in /usr/local/lib/python3.10/dist-packages (from pydantic<3,>=1.9.0->openai) (0.7.0)\n",
      "Requirement already satisfied: pydantic-core==2.20.1 in /usr/local/lib/python3.10/dist-packages (from pydantic<3,>=1.9.0->openai) (2.20.1)\n",
      "Downloading openai-1.44.0-py3-none-any.whl (367 kB)\n",
      "\u001b[2K   \u001b[90m━━━━━━━━━━━━━━━━━━━━━━━━━━━━━━━━━━━━━━━━\u001b[0m \u001b[32m367.8/367.8 kB\u001b[0m \u001b[31m2.8 MB/s\u001b[0m eta \u001b[36m0:00:00\u001b[0m\n",
      "\u001b[?25hDownloading httpx-0.27.2-py3-none-any.whl (76 kB)\n",
      "\u001b[2K   \u001b[90m━━━━━━━━━━━━━━━━━━━━━━━━━━━━━━━━━━━━━━━━\u001b[0m \u001b[32m76.4/76.4 kB\u001b[0m \u001b[31m4.7 MB/s\u001b[0m eta \u001b[36m0:00:00\u001b[0m\n",
      "\u001b[?25hDownloading httpcore-1.0.5-py3-none-any.whl (77 kB)\n",
      "\u001b[2K   \u001b[90m━━━━━━━━━━━━━━━━━━━━━━━━━━━━━━━━━━━━━━━━\u001b[0m \u001b[32m77.9/77.9 kB\u001b[0m \u001b[31m4.5 MB/s\u001b[0m eta \u001b[36m0:00:00\u001b[0m\n",
      "\u001b[?25hDownloading jiter-0.5.0-cp310-cp310-manylinux_2_17_x86_64.manylinux2014_x86_64.whl (318 kB)\n",
      "\u001b[2K   \u001b[90m━━━━━━━━━━━━━━━━━━━━━━━━━━━━━━━━━━━━━━━━\u001b[0m \u001b[32m318.9/318.9 kB\u001b[0m \u001b[31m12.2 MB/s\u001b[0m eta \u001b[36m0:00:00\u001b[0m\n",
      "\u001b[?25hDownloading h11-0.14.0-py3-none-any.whl (58 kB)\n",
      "\u001b[2K   \u001b[90m━━━━━━━━━━━━━━━━━━━━━━━━━━━━━━━━━━━━━━━━\u001b[0m \u001b[32m58.3/58.3 kB\u001b[0m \u001b[31m3.4 MB/s\u001b[0m eta \u001b[36m0:00:00\u001b[0m\n",
      "\u001b[?25hInstalling collected packages: jiter, h11, httpcore, httpx, openai\n",
      "Successfully installed h11-0.14.0 httpcore-1.0.5 httpx-0.27.2 jiter-0.5.0 openai-1.44.0\n"
     ]
    }
   ],
   "source": [
    "!pip install -U typing_extensions openai"
   ]
  },
  {
   "cell_type": "code",
   "execution_count": null,
   "metadata": {
    "colab": {
     "base_uri": "https://localhost:8080/"
    },
    "id": "jTVoPW0Enp9b",
    "outputId": "7913ca9b-3d5a-4743-c494-4a791e5af5b3"
   },
   "outputs": [
    {
     "name": "stdout",
     "output_type": "stream",
     "text": [
      "Collecting bitsandbytes\n",
      "  Downloading bitsandbytes-0.43.3-py3-none-manylinux_2_24_x86_64.whl.metadata (3.5 kB)\n",
      "Requirement already satisfied: torch in /usr/local/lib/python3.10/dist-packages (from bitsandbytes) (2.4.0+cu121)\n",
      "Requirement already satisfied: numpy in /usr/local/lib/python3.10/dist-packages (from bitsandbytes) (1.26.4)\n",
      "Requirement already satisfied: filelock in /usr/local/lib/python3.10/dist-packages (from torch->bitsandbytes) (3.15.4)\n",
      "Requirement already satisfied: typing-extensions>=4.8.0 in /usr/local/lib/python3.10/dist-packages (from torch->bitsandbytes) (4.12.2)\n",
      "Requirement already satisfied: sympy in /usr/local/lib/python3.10/dist-packages (from torch->bitsandbytes) (1.13.2)\n",
      "Requirement already satisfied: networkx in /usr/local/lib/python3.10/dist-packages (from torch->bitsandbytes) (3.3)\n",
      "Requirement already satisfied: jinja2 in /usr/local/lib/python3.10/dist-packages (from torch->bitsandbytes) (3.1.4)\n",
      "Requirement already satisfied: fsspec in /usr/local/lib/python3.10/dist-packages (from torch->bitsandbytes) (2024.6.1)\n",
      "Requirement already satisfied: MarkupSafe>=2.0 in /usr/local/lib/python3.10/dist-packages (from jinja2->torch->bitsandbytes) (2.1.5)\n",
      "Requirement already satisfied: mpmath<1.4,>=1.1.0 in /usr/local/lib/python3.10/dist-packages (from sympy->torch->bitsandbytes) (1.3.0)\n",
      "Downloading bitsandbytes-0.43.3-py3-none-manylinux_2_24_x86_64.whl (137.5 MB)\n",
      "\u001b[2K   \u001b[90m━━━━━━━━━━━━━━━━━━━━━━━━━━━━━━━━━━━━━━━━\u001b[0m \u001b[32m137.5/137.5 MB\u001b[0m \u001b[31m884.1 kB/s\u001b[0m eta \u001b[36m0:00:00\u001b[0m\n",
      "\u001b[?25hInstalling collected packages: bitsandbytes\n",
      "Successfully installed bitsandbytes-0.43.3\n"
     ]
    }
   ],
   "source": [
    "!pip install -U bitsandbytes"
   ]
  },
  {
   "cell_type": "markdown",
   "metadata": {
    "id": "Pza4wur6FFXy"
   },
   "source": [
    "# Finetuning LLama 2\n"
   ]
  },
  {
   "cell_type": "code",
   "execution_count": null,
   "metadata": {
    "colab": {
     "base_uri": "https://localhost:8080/",
     "height": 1000
    },
    "id": "RaKH2UASFITA",
    "outputId": "2cf8bd5e-a2a6-4d23-8f3f-3b9e911206ee"
   },
   "outputs": [
    {
     "data": {
      "text/html": [
       "\n",
       "  <style>\n",
       "    pre {\n",
       "        white-space: pre-wrap;\n",
       "    }\n",
       "  </style>\n",
       "  "
      ],
      "text/plain": [
       "<IPython.core.display.HTML object>"
      ]
     },
     "metadata": {},
     "output_type": "display_data"
    },
    {
     "name": "stdout",
     "output_type": "stream",
     "text": [
      "Requirement already satisfied: transformers in /usr/local/lib/python3.10/dist-packages (4.42.4)\n",
      "Collecting transformers\n",
      "  Downloading transformers-4.44.2-py3-none-any.whl.metadata (43 kB)\n",
      "\u001b[2K     \u001b[90m━━━━━━━━━━━━━━━━━━━━━━━━━━━━━━━━━━━━━━━━\u001b[0m \u001b[32m43.7/43.7 kB\u001b[0m \u001b[31m3.4 MB/s\u001b[0m eta \u001b[36m0:00:00\u001b[0m\n",
      "\u001b[?25hCollecting datasets\n",
      "  Downloading datasets-2.21.0-py3-none-any.whl.metadata (21 kB)\n",
      "Requirement already satisfied: torchvision in /usr/local/lib/python3.10/dist-packages (0.19.0+cu121)\n",
      "Collecting evaluate\n",
      "  Downloading evaluate-0.4.2-py3-none-any.whl.metadata (9.3 kB)\n",
      "Requirement already satisfied: accelerate in /usr/local/lib/python3.10/dist-packages (0.32.1)\n",
      "Collecting accelerate\n",
      "  Downloading accelerate-0.34.0-py3-none-any.whl.metadata (19 kB)\n",
      "Collecting peft\n",
      "  Downloading peft-0.12.0-py3-none-any.whl.metadata (13 kB)\n",
      "Collecting trl\n",
      "  Downloading trl-0.10.1-py3-none-any.whl.metadata (12 kB)\n",
      "Collecting xformers\n",
      "  Downloading xformers-0.0.27.post2-cp310-cp310-manylinux2014_x86_64.whl.metadata (1.0 kB)\n",
      "Collecting wandb\n",
      "  Downloading wandb-0.17.8-py3-none-manylinux_2_17_x86_64.manylinux2014_x86_64.whl.metadata (9.6 kB)\n",
      "Requirement already satisfied: einops in /usr/local/lib/python3.10/dist-packages (0.8.0)\n",
      "Collecting gradio\n",
      "  Downloading gradio-4.42.0-py3-none-any.whl.metadata (15 kB)\n",
      "Requirement already satisfied: sentencepiece in /usr/local/lib/python3.10/dist-packages (0.1.99)\n",
      "Collecting sentencepiece\n",
      "  Downloading sentencepiece-0.2.0-cp310-cp310-manylinux_2_17_x86_64.manylinux2014_x86_64.whl.metadata (7.7 kB)\n",
      "Requirement already satisfied: bitsandbytes in /usr/local/lib/python3.10/dist-packages (0.43.3)\n",
      "Requirement already satisfied: filelock in /usr/local/lib/python3.10/dist-packages (from transformers) (3.15.4)\n",
      "Requirement already satisfied: huggingface-hub<1.0,>=0.23.2 in /usr/local/lib/python3.10/dist-packages (from transformers) (0.23.5)\n",
      "Requirement already satisfied: numpy>=1.17 in /usr/local/lib/python3.10/dist-packages (from transformers) (1.26.4)\n",
      "Requirement already satisfied: packaging>=20.0 in /usr/local/lib/python3.10/dist-packages (from transformers) (24.1)\n",
      "Requirement already satisfied: pyyaml>=5.1 in /usr/local/lib/python3.10/dist-packages (from transformers) (6.0.2)\n",
      "Requirement already satisfied: regex!=2019.12.17 in /usr/local/lib/python3.10/dist-packages (from transformers) (2024.5.15)\n",
      "Requirement already satisfied: requests in /usr/local/lib/python3.10/dist-packages (from transformers) (2.32.3)\n",
      "Requirement already satisfied: safetensors>=0.4.1 in /usr/local/lib/python3.10/dist-packages (from transformers) (0.4.4)\n",
      "Requirement already satisfied: tokenizers<0.20,>=0.19 in /usr/local/lib/python3.10/dist-packages (from transformers) (0.19.1)\n",
      "Requirement already satisfied: tqdm>=4.27 in /usr/local/lib/python3.10/dist-packages (from transformers) (4.66.5)\n",
      "Collecting pyarrow>=15.0.0 (from datasets)\n",
      "  Downloading pyarrow-17.0.0-cp310-cp310-manylinux_2_28_x86_64.whl.metadata (3.3 kB)\n",
      "Collecting dill<0.3.9,>=0.3.0 (from datasets)\n",
      "  Downloading dill-0.3.8-py3-none-any.whl.metadata (10 kB)\n",
      "Requirement already satisfied: pandas in /usr/local/lib/python3.10/dist-packages (from datasets) (2.1.4)\n",
      "Collecting xxhash (from datasets)\n",
      "  Downloading xxhash-3.5.0-cp310-cp310-manylinux_2_17_x86_64.manylinux2014_x86_64.whl.metadata (12 kB)\n",
      "Collecting multiprocess (from datasets)\n",
      "  Downloading multiprocess-0.70.16-py310-none-any.whl.metadata (7.2 kB)\n",
      "Requirement already satisfied: fsspec<=2024.6.1,>=2023.1.0 in /usr/local/lib/python3.10/dist-packages (from fsspec[http]<=2024.6.1,>=2023.1.0->datasets) (2024.6.1)\n",
      "Requirement already satisfied: aiohttp in /usr/local/lib/python3.10/dist-packages (from datasets) (3.10.5)\n",
      "Requirement already satisfied: torch==2.4.0 in /usr/local/lib/python3.10/dist-packages (from torchvision) (2.4.0+cu121)\n",
      "Requirement already satisfied: pillow!=8.3.*,>=5.3.0 in /usr/local/lib/python3.10/dist-packages (from torchvision) (9.4.0)\n",
      "Requirement already satisfied: typing-extensions>=4.8.0 in /usr/local/lib/python3.10/dist-packages (from torch==2.4.0->torchvision) (4.12.2)\n",
      "Requirement already satisfied: sympy in /usr/local/lib/python3.10/dist-packages (from torch==2.4.0->torchvision) (1.13.2)\n",
      "Requirement already satisfied: networkx in /usr/local/lib/python3.10/dist-packages (from torch==2.4.0->torchvision) (3.3)\n",
      "Requirement already satisfied: jinja2 in /usr/local/lib/python3.10/dist-packages (from torch==2.4.0->torchvision) (3.1.4)\n",
      "Requirement already satisfied: psutil in /usr/local/lib/python3.10/dist-packages (from accelerate) (5.9.5)\n",
      "Collecting tyro>=0.5.11 (from trl)\n",
      "  Downloading tyro-0.8.10-py3-none-any.whl.metadata (8.4 kB)\n",
      "Requirement already satisfied: click!=8.0.0,>=7.1 in /usr/local/lib/python3.10/dist-packages (from wandb) (8.1.7)\n",
      "Collecting docker-pycreds>=0.4.0 (from wandb)\n",
      "  Downloading docker_pycreds-0.4.0-py2.py3-none-any.whl.metadata (1.8 kB)\n",
      "Collecting gitpython!=3.1.29,>=1.0.0 (from wandb)\n",
      "  Downloading GitPython-3.1.43-py3-none-any.whl.metadata (13 kB)\n",
      "Requirement already satisfied: platformdirs in /usr/local/lib/python3.10/dist-packages (from wandb) (4.2.2)\n",
      "Requirement already satisfied: protobuf!=4.21.0,<6,>=3.19.0 in /usr/local/lib/python3.10/dist-packages (from wandb) (3.20.3)\n",
      "Collecting sentry-sdk>=1.0.0 (from wandb)\n",
      "  Downloading sentry_sdk-2.13.0-py2.py3-none-any.whl.metadata (9.7 kB)\n",
      "Collecting setproctitle (from wandb)\n",
      "  Downloading setproctitle-1.3.3-cp310-cp310-manylinux_2_5_x86_64.manylinux1_x86_64.manylinux_2_17_x86_64.manylinux2014_x86_64.whl.metadata (9.9 kB)\n",
      "Requirement already satisfied: setuptools in /usr/local/lib/python3.10/dist-packages (from wandb) (71.0.4)\n",
      "Collecting aiofiles<24.0,>=22.0 (from gradio)\n",
      "  Downloading aiofiles-23.2.1-py3-none-any.whl.metadata (9.7 kB)\n",
      "Requirement already satisfied: anyio<5.0,>=3.0 in /usr/local/lib/python3.10/dist-packages (from gradio) (3.7.1)\n",
      "Collecting fastapi (from gradio)\n",
      "  Downloading fastapi-0.112.2-py3-none-any.whl.metadata (27 kB)\n",
      "Collecting ffmpy (from gradio)\n",
      "  Downloading ffmpy-0.4.0-py3-none-any.whl.metadata (2.9 kB)\n",
      "Collecting gradio-client==1.3.0 (from gradio)\n",
      "  Downloading gradio_client-1.3.0-py3-none-any.whl.metadata (7.1 kB)\n",
      "Collecting httpx>=0.24.1 (from gradio)\n",
      "  Downloading httpx-0.27.2-py3-none-any.whl.metadata (7.1 kB)\n",
      "Requirement already satisfied: importlib-resources<7.0,>=1.3 in /usr/local/lib/python3.10/dist-packages (from gradio) (6.4.4)\n",
      "Requirement already satisfied: markupsafe~=2.0 in /usr/local/lib/python3.10/dist-packages (from gradio) (2.1.5)\n",
      "Requirement already satisfied: matplotlib~=3.0 in /usr/local/lib/python3.10/dist-packages (from gradio) (3.7.1)\n",
      "Collecting orjson~=3.0 (from gradio)\n",
      "  Downloading orjson-3.10.7-cp310-cp310-manylinux_2_17_x86_64.manylinux2014_x86_64.whl.metadata (50 kB)\n",
      "\u001b[2K     \u001b[90m━━━━━━━━━━━━━━━━━━━━━━━━━━━━━━━━━━━━━━━━\u001b[0m \u001b[32m50.4/50.4 kB\u001b[0m \u001b[31m4.1 MB/s\u001b[0m eta \u001b[36m0:00:00\u001b[0m\n",
      "\u001b[?25hRequirement already satisfied: pydantic>=2.0 in /usr/local/lib/python3.10/dist-packages (from gradio) (2.8.2)\n",
      "Collecting pydub (from gradio)\n",
      "  Downloading pydub-0.25.1-py2.py3-none-any.whl.metadata (1.4 kB)\n",
      "Collecting python-multipart>=0.0.9 (from gradio)\n",
      "  Downloading python_multipart-0.0.9-py3-none-any.whl.metadata (2.5 kB)\n",
      "Collecting ruff>=0.2.2 (from gradio)\n",
      "  Downloading ruff-0.6.3-py3-none-manylinux_2_17_x86_64.manylinux2014_x86_64.whl.metadata (25 kB)\n",
      "Collecting semantic-version~=2.0 (from gradio)\n",
      "  Downloading semantic_version-2.10.0-py2.py3-none-any.whl.metadata (9.7 kB)\n",
      "Collecting tomlkit==0.12.0 (from gradio)\n",
      "  Downloading tomlkit-0.12.0-py3-none-any.whl.metadata (2.7 kB)\n",
      "Requirement already satisfied: typer<1.0,>=0.12 in /usr/local/lib/python3.10/dist-packages (from gradio) (0.12.5)\n",
      "Requirement already satisfied: urllib3~=2.0 in /usr/local/lib/python3.10/dist-packages (from gradio) (2.0.7)\n",
      "Collecting uvicorn>=0.14.0 (from gradio)\n",
      "  Downloading uvicorn-0.30.6-py3-none-any.whl.metadata (6.6 kB)\n",
      "Collecting websockets<13.0,>=10.0 (from gradio-client==1.3.0->gradio)\n",
      "  Downloading websockets-12.0-cp310-cp310-manylinux_2_5_x86_64.manylinux1_x86_64.manylinux_2_17_x86_64.manylinux2014_x86_64.whl.metadata (6.6 kB)\n",
      "Requirement already satisfied: idna>=2.8 in /usr/local/lib/python3.10/dist-packages (from anyio<5.0,>=3.0->gradio) (3.8)\n",
      "Requirement already satisfied: sniffio>=1.1 in /usr/local/lib/python3.10/dist-packages (from anyio<5.0,>=3.0->gradio) (1.3.1)\n",
      "Requirement already satisfied: exceptiongroup in /usr/local/lib/python3.10/dist-packages (from anyio<5.0,>=3.0->gradio) (1.2.2)\n",
      "Requirement already satisfied: six>=1.4.0 in /usr/local/lib/python3.10/dist-packages (from docker-pycreds>=0.4.0->wandb) (1.16.0)\n",
      "Requirement already satisfied: aiohappyeyeballs>=2.3.0 in /usr/local/lib/python3.10/dist-packages (from aiohttp->datasets) (2.4.0)\n",
      "Requirement already satisfied: aiosignal>=1.1.2 in /usr/local/lib/python3.10/dist-packages (from aiohttp->datasets) (1.3.1)\n",
      "Requirement already satisfied: attrs>=17.3.0 in /usr/local/lib/python3.10/dist-packages (from aiohttp->datasets) (24.2.0)\n",
      "Requirement already satisfied: frozenlist>=1.1.1 in /usr/local/lib/python3.10/dist-packages (from aiohttp->datasets) (1.4.1)\n",
      "Requirement already satisfied: multidict<7.0,>=4.5 in /usr/local/lib/python3.10/dist-packages (from aiohttp->datasets) (6.0.5)\n",
      "Requirement already satisfied: yarl<2.0,>=1.0 in /usr/local/lib/python3.10/dist-packages (from aiohttp->datasets) (1.9.4)\n",
      "Requirement already satisfied: async-timeout<5.0,>=4.0 in /usr/local/lib/python3.10/dist-packages (from aiohttp->datasets) (4.0.3)\n",
      "Collecting gitdb<5,>=4.0.1 (from gitpython!=3.1.29,>=1.0.0->wandb)\n",
      "  Downloading gitdb-4.0.11-py3-none-any.whl.metadata (1.2 kB)\n",
      "Requirement already satisfied: certifi in /usr/local/lib/python3.10/dist-packages (from httpx>=0.24.1->gradio) (2024.7.4)\n",
      "Collecting httpcore==1.* (from httpx>=0.24.1->gradio)\n",
      "  Downloading httpcore-1.0.5-py3-none-any.whl.metadata (20 kB)\n",
      "Collecting h11<0.15,>=0.13 (from httpcore==1.*->httpx>=0.24.1->gradio)\n",
      "  Downloading h11-0.14.0-py3-none-any.whl.metadata (8.2 kB)\n",
      "Requirement already satisfied: contourpy>=1.0.1 in /usr/local/lib/python3.10/dist-packages (from matplotlib~=3.0->gradio) (1.3.0)\n",
      "Requirement already satisfied: cycler>=0.10 in /usr/local/lib/python3.10/dist-packages (from matplotlib~=3.0->gradio) (0.12.1)\n",
      "Requirement already satisfied: fonttools>=4.22.0 in /usr/local/lib/python3.10/dist-packages (from matplotlib~=3.0->gradio) (4.53.1)\n",
      "Requirement already satisfied: kiwisolver>=1.0.1 in /usr/local/lib/python3.10/dist-packages (from matplotlib~=3.0->gradio) (1.4.5)\n",
      "Requirement already satisfied: pyparsing>=2.3.1 in /usr/local/lib/python3.10/dist-packages (from matplotlib~=3.0->gradio) (3.1.4)\n",
      "Requirement already satisfied: python-dateutil>=2.7 in /usr/local/lib/python3.10/dist-packages (from matplotlib~=3.0->gradio) (2.8.2)\n",
      "Requirement already satisfied: pytz>=2020.1 in /usr/local/lib/python3.10/dist-packages (from pandas->datasets) (2024.1)\n",
      "Requirement already satisfied: tzdata>=2022.1 in /usr/local/lib/python3.10/dist-packages (from pandas->datasets) (2024.1)\n",
      "Requirement already satisfied: annotated-types>=0.4.0 in /usr/local/lib/python3.10/dist-packages (from pydantic>=2.0->gradio) (0.7.0)\n",
      "Requirement already satisfied: pydantic-core==2.20.1 in /usr/local/lib/python3.10/dist-packages (from pydantic>=2.0->gradio) (2.20.1)\n",
      "Requirement already satisfied: charset-normalizer<4,>=2 in /usr/local/lib/python3.10/dist-packages (from requests->transformers) (3.3.2)\n",
      "Requirement already satisfied: shellingham>=1.3.0 in /usr/local/lib/python3.10/dist-packages (from typer<1.0,>=0.12->gradio) (1.5.4)\n",
      "Requirement already satisfied: rich>=10.11.0 in /usr/local/lib/python3.10/dist-packages (from typer<1.0,>=0.12->gradio) (13.8.0)\n",
      "Requirement already satisfied: docstring-parser>=0.16 in /usr/local/lib/python3.10/dist-packages (from tyro>=0.5.11->trl) (0.16)\n",
      "Collecting shtab>=1.5.6 (from tyro>=0.5.11->trl)\n",
      "  Downloading shtab-1.7.1-py3-none-any.whl.metadata (7.3 kB)\n",
      "Collecting starlette<0.39.0,>=0.37.2 (from fastapi->gradio)\n",
      "  Downloading starlette-0.38.4-py3-none-any.whl.metadata (6.0 kB)\n",
      "Collecting smmap<6,>=3.0.1 (from gitdb<5,>=4.0.1->gitpython!=3.1.29,>=1.0.0->wandb)\n",
      "  Downloading smmap-5.0.1-py3-none-any.whl.metadata (4.3 kB)\n",
      "Requirement already satisfied: markdown-it-py>=2.2.0 in /usr/local/lib/python3.10/dist-packages (from rich>=10.11.0->typer<1.0,>=0.12->gradio) (3.0.0)\n",
      "Requirement already satisfied: pygments<3.0.0,>=2.13.0 in /usr/local/lib/python3.10/dist-packages (from rich>=10.11.0->typer<1.0,>=0.12->gradio) (2.16.1)\n",
      "Requirement already satisfied: mpmath<1.4,>=1.1.0 in /usr/local/lib/python3.10/dist-packages (from sympy->torch==2.4.0->torchvision) (1.3.0)\n",
      "Requirement already satisfied: mdurl~=0.1 in /usr/local/lib/python3.10/dist-packages (from markdown-it-py>=2.2.0->rich>=10.11.0->typer<1.0,>=0.12->gradio) (0.1.2)\n",
      "Downloading transformers-4.44.2-py3-none-any.whl (9.5 MB)\n",
      "\u001b[2K   \u001b[90m━━━━━━━━━━━━━━━━━━━━━━━━━━━━━━━━━━━━━━━━\u001b[0m \u001b[32m9.5/9.5 MB\u001b[0m \u001b[31m114.7 MB/s\u001b[0m eta \u001b[36m0:00:00\u001b[0m\n",
      "\u001b[?25hDownloading datasets-2.21.0-py3-none-any.whl (527 kB)\n",
      "\u001b[2K   \u001b[90m━━━━━━━━━━━━━━━━━━━━━━━━━━━━━━━━━━━━━━━━\u001b[0m \u001b[32m527.3/527.3 kB\u001b[0m \u001b[31m38.3 MB/s\u001b[0m eta \u001b[36m0:00:00\u001b[0m\n",
      "\u001b[?25hDownloading evaluate-0.4.2-py3-none-any.whl (84 kB)\n",
      "\u001b[2K   \u001b[90m━━━━━━━━━━━━━━━━━━━━━━━━━━━━━━━━━━━━━━━━\u001b[0m \u001b[32m84.1/84.1 kB\u001b[0m \u001b[31m8.0 MB/s\u001b[0m eta \u001b[36m0:00:00\u001b[0m\n",
      "\u001b[?25hDownloading accelerate-0.34.0-py3-none-any.whl (324 kB)\n",
      "\u001b[2K   \u001b[90m━━━━━━━━━━━━━━━━━━━━━━━━━━━━━━━━━━━━━━━━\u001b[0m \u001b[32m324.3/324.3 kB\u001b[0m \u001b[31m27.6 MB/s\u001b[0m eta \u001b[36m0:00:00\u001b[0m\n",
      "\u001b[?25hDownloading peft-0.12.0-py3-none-any.whl (296 kB)\n",
      "\u001b[2K   \u001b[90m━━━━━━━━━━━━━━━━━━━━━━━━━━━━━━━━━━━━━━━━\u001b[0m \u001b[32m296.4/296.4 kB\u001b[0m \u001b[31m25.4 MB/s\u001b[0m eta \u001b[36m0:00:00\u001b[0m\n",
      "\u001b[?25hDownloading trl-0.10.1-py3-none-any.whl (280 kB)\n",
      "\u001b[2K   \u001b[90m━━━━━━━━━━━━━━━━━━━━━━━━━━━━━━━━━━━━━━━━\u001b[0m \u001b[32m280.1/280.1 kB\u001b[0m \u001b[31m23.2 MB/s\u001b[0m eta \u001b[36m0:00:00\u001b[0m\n",
      "\u001b[?25hDownloading xformers-0.0.27.post2-cp310-cp310-manylinux2014_x86_64.whl (20.8 MB)\n",
      "\u001b[2K   \u001b[90m━━━━━━━━━━━━━━━━━━━━━━━━━━━━━━━━━━━━━━━━\u001b[0m \u001b[32m20.8/20.8 MB\u001b[0m \u001b[31m92.0 MB/s\u001b[0m eta \u001b[36m0:00:00\u001b[0m\n",
      "\u001b[?25hDownloading wandb-0.17.8-py3-none-manylinux_2_17_x86_64.manylinux2014_x86_64.whl (9.4 MB)\n",
      "\u001b[2K   \u001b[90m━━━━━━━━━━━━━━━━━━━━━━━━━━━━━━━━━━━━━━━━\u001b[0m \u001b[32m9.4/9.4 MB\u001b[0m \u001b[31m114.2 MB/s\u001b[0m eta \u001b[36m0:00:00\u001b[0m\n",
      "\u001b[?25hDownloading gradio-4.42.0-py3-none-any.whl (16.8 MB)\n",
      "\u001b[2K   \u001b[90m━━━━━━━━━━━━━━━━━━━━━━━━━━━━━━━━━━━━━━━━\u001b[0m \u001b[32m16.8/16.8 MB\u001b[0m \u001b[31m91.4 MB/s\u001b[0m eta \u001b[36m0:00:00\u001b[0m\n",
      "\u001b[?25hDownloading gradio_client-1.3.0-py3-none-any.whl (318 kB)\n",
      "\u001b[2K   \u001b[90m━━━━━━━━━━━━━━━━━━━━━━━━━━━━━━━━━━━━━━━━\u001b[0m \u001b[32m318.7/318.7 kB\u001b[0m \u001b[31m24.6 MB/s\u001b[0m eta \u001b[36m0:00:00\u001b[0m\n",
      "\u001b[?25hDownloading tomlkit-0.12.0-py3-none-any.whl (37 kB)\n",
      "Downloading sentencepiece-0.2.0-cp310-cp310-manylinux_2_17_x86_64.manylinux2014_x86_64.whl (1.3 MB)\n",
      "\u001b[2K   \u001b[90m━━━━━━━━━━━━━━━━━━━━━━━━━━━━━━━━━━━━━━━━\u001b[0m \u001b[32m1.3/1.3 MB\u001b[0m \u001b[31m69.9 MB/s\u001b[0m eta \u001b[36m0:00:00\u001b[0m\n",
      "\u001b[?25hDownloading aiofiles-23.2.1-py3-none-any.whl (15 kB)\n",
      "Downloading dill-0.3.8-py3-none-any.whl (116 kB)\n",
      "\u001b[2K   \u001b[90m━━━━━━━━━━━━━━━━━━━━━━━━━━━━━━━━━━━━━━━━\u001b[0m \u001b[32m116.3/116.3 kB\u001b[0m \u001b[31m12.0 MB/s\u001b[0m eta \u001b[36m0:00:00\u001b[0m\n",
      "\u001b[?25hDownloading docker_pycreds-0.4.0-py2.py3-none-any.whl (9.0 kB)\n",
      "Downloading GitPython-3.1.43-py3-none-any.whl (207 kB)\n",
      "\u001b[2K   \u001b[90m━━━━━━━━━━━━━━━━━━━━━━━━━━━━━━━━━━━━━━━━\u001b[0m \u001b[32m207.3/207.3 kB\u001b[0m \u001b[31m19.1 MB/s\u001b[0m eta \u001b[36m0:00:00\u001b[0m\n",
      "\u001b[?25hDownloading httpx-0.27.2-py3-none-any.whl (76 kB)\n",
      "\u001b[2K   \u001b[90m━━━━━━━━━━━━━━━━━━━━━━━━━━━━━━━━━━━━━━━━\u001b[0m \u001b[32m76.4/76.4 kB\u001b[0m \u001b[31m6.6 MB/s\u001b[0m eta \u001b[36m0:00:00\u001b[0m\n",
      "\u001b[?25hDownloading httpcore-1.0.5-py3-none-any.whl (77 kB)\n",
      "\u001b[2K   \u001b[90m━━━━━━━━━━━━━━━━━━━━━━━━━━━━━━━━━━━━━━━━\u001b[0m \u001b[32m77.9/77.9 kB\u001b[0m \u001b[31m7.5 MB/s\u001b[0m eta \u001b[36m0:00:00\u001b[0m\n",
      "\u001b[?25hDownloading orjson-3.10.7-cp310-cp310-manylinux_2_17_x86_64.manylinux2014_x86_64.whl (141 kB)\n",
      "\u001b[2K   \u001b[90m━━━━━━━━━━━━━━━━━━━━━━━━━━━━━━━━━━━━━━━━\u001b[0m \u001b[32m141.9/141.9 kB\u001b[0m \u001b[31m13.2 MB/s\u001b[0m eta \u001b[36m0:00:00\u001b[0m\n",
      "\u001b[?25hDownloading pyarrow-17.0.0-cp310-cp310-manylinux_2_28_x86_64.whl (39.9 MB)\n",
      "\u001b[2K   \u001b[90m━━━━━━━━━━━━━━━━━━━━━━━━━━━━━━━━━━━━━━━━\u001b[0m \u001b[32m39.9/39.9 MB\u001b[0m \u001b[31m53.2 MB/s\u001b[0m eta \u001b[36m0:00:00\u001b[0m\n",
      "\u001b[?25hDownloading python_multipart-0.0.9-py3-none-any.whl (22 kB)\n",
      "Downloading ruff-0.6.3-py3-none-manylinux_2_17_x86_64.manylinux2014_x86_64.whl (10.3 MB)\n",
      "\u001b[2K   \u001b[90m━━━━━━━━━━━━━━━━━━━━━━━━━━━━━━━━━━━━━━━━\u001b[0m \u001b[32m10.3/10.3 MB\u001b[0m \u001b[31m71.3 MB/s\u001b[0m eta \u001b[36m0:00:00\u001b[0m\n",
      "\u001b[?25hDownloading semantic_version-2.10.0-py2.py3-none-any.whl (15 kB)\n",
      "Downloading sentry_sdk-2.13.0-py2.py3-none-any.whl (309 kB)\n",
      "\u001b[2K   \u001b[90m━━━━━━━━━━━━━━━━━━━━━━━━━━━━━━━━━━━━━━━━\u001b[0m \u001b[32m309.1/309.1 kB\u001b[0m \u001b[31m26.2 MB/s\u001b[0m eta \u001b[36m0:00:00\u001b[0m\n",
      "\u001b[?25hDownloading tyro-0.8.10-py3-none-any.whl (105 kB)\n",
      "\u001b[2K   \u001b[90m━━━━━━━━━━━━━━━━━━━━━━━━━━━━━━━━━━━━━━━━\u001b[0m \u001b[32m105.7/105.7 kB\u001b[0m \u001b[31m10.1 MB/s\u001b[0m eta \u001b[36m0:00:00\u001b[0m\n",
      "\u001b[?25hDownloading uvicorn-0.30.6-py3-none-any.whl (62 kB)\n",
      "\u001b[2K   \u001b[90m━━━━━━━━━━━━━━━━━━━━━━━━━━━━━━━━━━━━━━━━\u001b[0m \u001b[32m62.8/62.8 kB\u001b[0m \u001b[31m6.2 MB/s\u001b[0m eta \u001b[36m0:00:00\u001b[0m\n",
      "\u001b[?25hDownloading fastapi-0.112.2-py3-none-any.whl (93 kB)\n",
      "\u001b[2K   \u001b[90m━━━━━━━━━━━━━━━━━━━━━━━━━━━━━━━━━━━━━━━━\u001b[0m \u001b[32m93.5/93.5 kB\u001b[0m \u001b[31m9.3 MB/s\u001b[0m eta \u001b[36m0:00:00\u001b[0m\n",
      "\u001b[?25hDownloading ffmpy-0.4.0-py3-none-any.whl (5.8 kB)\n",
      "Downloading multiprocess-0.70.16-py310-none-any.whl (134 kB)\n",
      "\u001b[2K   \u001b[90m━━━━━━━━━━━━━━━━━━━━━━━━━━━━━━━━━━━━━━━━\u001b[0m \u001b[32m134.8/134.8 kB\u001b[0m \u001b[31m13.2 MB/s\u001b[0m eta \u001b[36m0:00:00\u001b[0m\n",
      "\u001b[?25hDownloading pydub-0.25.1-py2.py3-none-any.whl (32 kB)\n",
      "Downloading setproctitle-1.3.3-cp310-cp310-manylinux_2_5_x86_64.manylinux1_x86_64.manylinux_2_17_x86_64.manylinux2014_x86_64.whl (30 kB)\n",
      "Downloading xxhash-3.5.0-cp310-cp310-manylinux_2_17_x86_64.manylinux2014_x86_64.whl (194 kB)\n",
      "\u001b[2K   \u001b[90m━━━━━━━━━━━━━━━━━━━━━━━━━━━━━━━━━━━━━━━━\u001b[0m \u001b[32m194.1/194.1 kB\u001b[0m \u001b[31m18.9 MB/s\u001b[0m eta \u001b[36m0:00:00\u001b[0m\n",
      "\u001b[?25hDownloading gitdb-4.0.11-py3-none-any.whl (62 kB)\n",
      "\u001b[2K   \u001b[90m━━━━━━━━━━━━━━━━━━━━━━━━━━━━━━━━━━━━━━━━\u001b[0m \u001b[32m62.7/62.7 kB\u001b[0m \u001b[31m5.9 MB/s\u001b[0m eta \u001b[36m0:00:00\u001b[0m\n",
      "\u001b[?25hDownloading h11-0.14.0-py3-none-any.whl (58 kB)\n",
      "\u001b[2K   \u001b[90m━━━━━━━━━━━━━━━━━━━━━━━━━━━━━━━━━━━━━━━━\u001b[0m \u001b[32m58.3/58.3 kB\u001b[0m \u001b[31m5.4 MB/s\u001b[0m eta \u001b[36m0:00:00\u001b[0m\n",
      "\u001b[?25hDownloading shtab-1.7.1-py3-none-any.whl (14 kB)\n",
      "Downloading starlette-0.38.4-py3-none-any.whl (71 kB)\n",
      "\u001b[2K   \u001b[90m━━━━━━━━━━━━━━━━━━━━━━━━━━━━━━━━━━━━━━━━\u001b[0m \u001b[32m71.4/71.4 kB\u001b[0m \u001b[31m6.9 MB/s\u001b[0m eta \u001b[36m0:00:00\u001b[0m\n",
      "\u001b[?25hDownloading websockets-12.0-cp310-cp310-manylinux_2_5_x86_64.manylinux1_x86_64.manylinux_2_17_x86_64.manylinux2014_x86_64.whl (130 kB)\n",
      "\u001b[2K   \u001b[90m━━━━━━━━━━━━━━━━━━━━━━━━━━━━━━━━━━━━━━━━\u001b[0m \u001b[32m130.2/130.2 kB\u001b[0m \u001b[31m12.9 MB/s\u001b[0m eta \u001b[36m0:00:00\u001b[0m\n",
      "\u001b[?25hDownloading smmap-5.0.1-py3-none-any.whl (24 kB)\n",
      "Installing collected packages: sentencepiece, pydub, xxhash, websockets, tomlkit, smmap, shtab, setproctitle, sentry-sdk, semantic-version, ruff, python-multipart, pyarrow, orjson, h11, ffmpy, docker-pycreds, dill, aiofiles, uvicorn, starlette, multiprocess, httpcore, gitdb, xformers, tyro, httpx, gitpython, fastapi, accelerate, wandb, transformers, gradio-client, datasets, trl, peft, gradio, evaluate\n",
      "  Attempting uninstall: sentencepiece\n",
      "    Found existing installation: sentencepiece 0.1.99\n",
      "    Uninstalling sentencepiece-0.1.99:\n",
      "      Successfully uninstalled sentencepiece-0.1.99\n",
      "  Attempting uninstall: tomlkit\n",
      "    Found existing installation: tomlkit 0.13.2\n",
      "    Uninstalling tomlkit-0.13.2:\n",
      "      Successfully uninstalled tomlkit-0.13.2\n",
      "  Attempting uninstall: pyarrow\n",
      "    Found existing installation: pyarrow 14.0.2\n",
      "    Uninstalling pyarrow-14.0.2:\n",
      "      Successfully uninstalled pyarrow-14.0.2\n",
      "  Attempting uninstall: accelerate\n",
      "    Found existing installation: accelerate 0.32.1\n",
      "    Uninstalling accelerate-0.32.1:\n",
      "      Successfully uninstalled accelerate-0.32.1\n",
      "  Attempting uninstall: transformers\n",
      "    Found existing installation: transformers 4.42.4\n",
      "    Uninstalling transformers-4.42.4:\n",
      "      Successfully uninstalled transformers-4.42.4\n",
      "\u001b[31mERROR: pip's dependency resolver does not currently take into account all the packages that are installed. This behaviour is the source of the following dependency conflicts.\n",
      "cudf-cu12 24.4.1 requires pyarrow<15.0.0a0,>=14.0.1, but you have pyarrow 17.0.0 which is incompatible.\n",
      "ibis-framework 8.0.0 requires pyarrow<16,>=2, but you have pyarrow 17.0.0 which is incompatible.\u001b[0m\u001b[31m\n",
      "\u001b[0mSuccessfully installed accelerate-0.34.0 aiofiles-23.2.1 datasets-2.21.0 dill-0.3.8 docker-pycreds-0.4.0 evaluate-0.4.2 fastapi-0.112.2 ffmpy-0.4.0 gitdb-4.0.11 gitpython-3.1.43 gradio-4.42.0 gradio-client-1.3.0 h11-0.14.0 httpcore-1.0.5 httpx-0.27.2 multiprocess-0.70.16 orjson-3.10.7 peft-0.12.0 pyarrow-17.0.0 pydub-0.25.1 python-multipart-0.0.9 ruff-0.6.3 semantic-version-2.10.0 sentencepiece-0.2.0 sentry-sdk-2.13.0 setproctitle-1.3.3 shtab-1.7.1 smmap-5.0.1 starlette-0.38.4 tomlkit-0.12.0 transformers-4.44.2 trl-0.10.1 tyro-0.8.10 uvicorn-0.30.6 wandb-0.17.8 websockets-12.0 xformers-0.0.27.post2 xxhash-3.5.0\n"
     ]
    },
    {
     "data": {
      "application/vnd.colab-display-data+json": {
       "id": "86eae94f5c5044cdb977fb90ca11da73",
       "pip_warning": {
        "packages": [
         "accelerate",
         "pyarrow",
         "sentencepiece",
         "transformers"
        ]
       }
      }
     },
     "metadata": {},
     "output_type": "display_data"
    }
   ],
   "source": [
    "!pip install -U transformers datasets torchvision evaluate accelerate peft trl xformers wandb datasets einops gradio sentencepiece bitsandbytes"
   ]
  },
  {
   "cell_type": "code",
   "execution_count": null,
   "metadata": {
    "id": "33xfxePkiO3l"
   },
   "outputs": [],
   "source": [
    "import numpy as np\n",
    "import evaluate\n",
    "from datasets import load_dataset\n",
    "from transformers import AutoTokenizer, AutoModelForSequenceClassification\n",
    "from transformers import TrainingArguments, Trainer"
   ]
  },
  {
   "cell_type": "code",
   "execution_count": null,
   "metadata": {
    "colab": {
     "base_uri": "https://localhost:8080/",
     "height": 185,
     "referenced_widgets": [
      "cd6931b54ad44648a72ef7b7a0f47866",
      "f111e577c2f648339c0297dca44ca010",
      "da46d34c77124bf88409908e50fb1f55"
     ]
    },
    "id": "nMWxj6XOiOm8",
    "outputId": "e9ece2ec-7091-494f-d5dc-d53d3d24ffdf"
   },
   "outputs": [
    {
     "data": {
      "application/vnd.jupyter.widget-view+json": {
       "model_id": "cd6931b54ad44648a72ef7b7a0f47866",
       "version_major": 2,
       "version_minor": 0
      },
      "text/plain": [
       "Generating train split: 0 examples [00:00, ? examples/s]"
      ]
     },
     "metadata": {},
     "output_type": "display_data"
    },
    {
     "data": {
      "application/vnd.jupyter.widget-view+json": {
       "model_id": "f111e577c2f648339c0297dca44ca010",
       "version_major": 2,
       "version_minor": 0
      },
      "text/plain": [
       "Generating val split: 0 examples [00:00, ? examples/s]"
      ]
     },
     "metadata": {},
     "output_type": "display_data"
    },
    {
     "data": {
      "application/vnd.jupyter.widget-view+json": {
       "model_id": "da46d34c77124bf88409908e50fb1f55",
       "version_major": 2,
       "version_minor": 0
      },
      "text/plain": [
       "Generating test split: 0 examples [00:00, ? examples/s]"
      ]
     },
     "metadata": {},
     "output_type": "display_data"
    },
    {
     "name": "stdout",
     "output_type": "stream",
     "text": [
      "Train Dataset: {'text': [\"peer counseling is advertised well. however, these are college aged peers. they don't know what they're doing. they should have a certification/program of some kind if they don't already\", \"i haven't used/not familiar with mental health services provided by the school.\"], 'label': [3, 0]}\n",
      "Validation Dataset: {'text': [\"im a rather new student so i can't say anything for certain. i can tell you that after being on campus for a semester, i know next to nothing about the mental health program here. i don't really need it (i seek counseling out of school) but it would be nice to know about for those that do. \", \"i think some of the counselors are okay at what they do. they're not amazing, but i definitely feel comfortable with them \"], 'label': [3, 1]}\n",
      "Test Dataset: {'text': ['the habif mental health staff need more attention. there is such little staff that appointments are rare. uncle joes is a good resource but students shouldn’t have to rely on peers due to inaccessibility to professional mental health services on campus.', \"we offer a lot of resources but it's unclear how helpful they are.\"], 'label': [3, 0]}\n"
     ]
    }
   ],
   "source": [
    "from datasets import load_dataset, DatasetDict\n",
    "import os\n",
    "\n",
    "output_folder = \"../data/splits/\"\n",
    "\n",
    "dataset = load_dataset('json', data_files={\n",
    "    'train': os.path.join(output_folder, 'train.json'),\n",
    "    'val': os.path.join(output_folder, 'val.json'),\n",
    "    'test': os.path.join(output_folder, 'test.json')})\n",
    "\n",
    "# Example: Print a few samples from each split\n",
    "print(\"Train Dataset:\", dataset['train'][:2])\n",
    "print(\"Validation Dataset:\", dataset['val'][:2])\n",
    "print(\"Test Dataset:\", dataset['test'][:2])\n"
   ]
  },
  {
   "cell_type": "code",
   "execution_count": null,
   "metadata": {
    "id": "R7nGX3ZxAkeK"
   },
   "outputs": [],
   "source": [
    "def prompt_engineer()"
   ]
  },
  {
   "cell_type": "code",
   "execution_count": null,
   "metadata": {
    "id": "gUptIEosj0yV"
   },
   "outputs": [],
   "source": [
    "from transformers import AutoModelForCausalLM, AutoTokenizer, BitsAndBytesConfig, HfArgumentParser, TrainingArguments, pipeline, logging, TextStreamer\n",
    "from peft import LoraConfig, PeftModel, prepare_model_for_kbit_training, get_peft_model\n",
    "import os,torch, platform, gradio, warnings\n",
    "from datasets import load_dataset\n",
    "from trl import SFTTrainer"
   ]
  },
  {
   "cell_type": "code",
   "execution_count": null,
   "metadata": {
    "id": "4UEl9-ckybE8"
   },
   "outputs": [],
   "source": [
    "import os\n",
    "import torch\n",
    "from datasets import load_dataset\n",
    "from transformers import (\n",
    "    AutoModelForCausalLM,\n",
    "    AutoTokenizer,\n",
    "    BitsAndBytesConfig,\n",
    "    HfArgumentParser,\n",
    "    TrainingArguments,\n",
    "    pipeline,\n",
    "    logging,\n",
    ")\n",
    "from peft import LoraConfig, PeftModel\n",
    "from trl import SFTTrainer"
   ]
  },
  {
   "cell_type": "code",
   "execution_count": null,
   "metadata": {
    "colab": {
     "base_uri": "https://localhost:8080/"
    },
    "id": "2qdjyYCGiOfF",
    "outputId": "387e834a-fea3-4553-ead0-e0db8e3adbce"
   },
   "outputs": [
    {
     "name": "stdout",
     "output_type": "stream",
     "text": [
      "CUDA Available: True\n",
      "Number of CUDA devices: 1\n",
      "--- CUDA Device 0 ---\n",
      "Name: NVIDIA A100-SXM4-40GB\n",
      "Compute Capability: (8, 0)\n",
      "Total Memory: 42481811456 bytes\n",
      "--- CPU Information ---\n",
      "Processor: x86_64\n",
      "System: Linux 6.1.85+\n",
      "Python Version: 3.10.12\n"
     ]
    }
   ],
   "source": [
    "def print_system_specs():\n",
    "    # Check if CUDA is available\n",
    "    is_cuda_available = torch.cuda.is_available()\n",
    "    print(\"CUDA Available:\", is_cuda_available)\n",
    "# Get the number of available CUDA devices\n",
    "    num_cuda_devices = torch.cuda.device_count()\n",
    "    print(\"Number of CUDA devices:\", num_cuda_devices)\n",
    "    if is_cuda_available:\n",
    "        for i in range(num_cuda_devices):\n",
    "            # Get CUDA device properties\n",
    "            device = torch.device('cuda', i)\n",
    "            print(f\"--- CUDA Device {i} ---\")\n",
    "            print(\"Name:\", torch.cuda.get_device_name(i))\n",
    "            print(\"Compute Capability:\", torch.cuda.get_device_capability(i))\n",
    "            print(\"Total Memory:\", torch.cuda.get_device_properties(i).total_memory, \"bytes\")\n",
    "    # Get CPU information\n",
    "    print(\"--- CPU Information ---\")\n",
    "    print(\"Processor:\", platform.processor())\n",
    "    print(\"System:\", platform.system(), platform.release())\n",
    "    print(\"Python Version:\", platform.python_version())\n",
    "print_system_specs()"
   ]
  },
  {
   "cell_type": "code",
   "execution_count": null,
   "metadata": {
    "id": "HkGFfsm5iOY0"
   },
   "outputs": [],
   "source": [
    "# Pre trained model\n",
    "model_name = \"TinyPixel/Llama-2-7B-bf16-sharded\""
   ]
  },
  {
   "cell_type": "code",
   "execution_count": null,
   "metadata": {
    "colab": {
     "base_uri": "https://localhost:8080/",
     "height": 1000,
     "referenced_widgets": [
      "51dcdc6e293d4c299fd82bfc2b4db4ec",
      "68b7ca9334af482eae134b6f44f96094",
      "75d919fe2c234a3986220d73638b5402",
      "2d5376eac268426e8ec72510cf26ebe9",
      "3f139a669e7a4ed59b095bf4b90dec80",
      "5a2717ef63194138883fe87d92395653",
      "901a90c736cb4f1d9d48883ae3915f85",
      "d472ef8809c94a77a25cfa4ef1fff3cc",
      "71ddb5055f2649f7b70da6051f8cbc1c",
      "12c72295e4a84d45837aefca3f5989d5",
      "17cab7bd50b94123a138157ff2282365",
      "409d94a83e5d45059879c6f4d03c1a95",
      "5f30fa6b4a2b4e8bbfa7446f0d036a8f",
      "f57141e1adee47bdbedb3d1b6b944ab3",
      "d39f6c3f62344e14b6095b9dac74f2ed",
      "b94abaa92a5f4be8acb4a54b033beead",
      "6c12764b2cbd4a9a928581f612d3ac31",
      "19c1dc71f53e4924962bcd24a87dbe17",
      "748c4e8d01bb45cb890be5a193eda2ad",
      "7d77c112749b4c38a6f5c0ea04b645ec",
      "1a404a3e5e424cc8a90364440a2b03f4",
      "360ec7a84705405f824bbc8a78e8fc1d",
      "ab093089237e41cb8ced20946611f3d8"
     ]
    },
    "id": "7XEMkztciOR2",
    "outputId": "61cee081-8591-4f71-acbd-52fe609a4444"
   },
   "outputs": [
    {
     "name": "stderr",
     "output_type": "stream",
     "text": [
      "/usr/local/lib/python3.10/dist-packages/huggingface_hub/utils/_token.py:89: UserWarning: \n",
      "The secret `HF_TOKEN` does not exist in your Colab secrets.\n",
      "To authenticate with the Hugging Face Hub, create a token in your settings tab (https://huggingface.co/settings/tokens), set it as secret in your Google Colab and restart your session.\n",
      "You will be able to reuse this secret in all of your notebooks.\n",
      "Please note that authentication is recommended but still optional to access public models or datasets.\n",
      "  warnings.warn(\n"
     ]
    },
    {
     "data": {
      "application/vnd.jupyter.widget-view+json": {
       "model_id": "51dcdc6e293d4c299fd82bfc2b4db4ec",
       "version_major": 2,
       "version_minor": 0
      },
      "text/plain": [
       "config.json:   0%|          | 0.00/626 [00:00<?, ?B/s]"
      ]
     },
     "metadata": {},
     "output_type": "display_data"
    },
    {
     "data": {
      "application/vnd.jupyter.widget-view+json": {
       "model_id": "68b7ca9334af482eae134b6f44f96094",
       "version_major": 2,
       "version_minor": 0
      },
      "text/plain": [
       "model.safetensors.index.json:   0%|          | 0.00/28.1k [00:00<?, ?B/s]"
      ]
     },
     "metadata": {},
     "output_type": "display_data"
    },
    {
     "data": {
      "application/vnd.jupyter.widget-view+json": {
       "model_id": "75d919fe2c234a3986220d73638b5402",
       "version_major": 2,
       "version_minor": 0
      },
      "text/plain": [
       "Downloading shards:   0%|          | 0/14 [00:00<?, ?it/s]"
      ]
     },
     "metadata": {},
     "output_type": "display_data"
    },
    {
     "data": {
      "application/vnd.jupyter.widget-view+json": {
       "model_id": "2d5376eac268426e8ec72510cf26ebe9",
       "version_major": 2,
       "version_minor": 0
      },
      "text/plain": [
       "model-00001-of-00014.safetensors:   0%|          | 0.00/981M [00:00<?, ?B/s]"
      ]
     },
     "metadata": {},
     "output_type": "display_data"
    },
    {
     "data": {
      "application/vnd.jupyter.widget-view+json": {
       "model_id": "3f139a669e7a4ed59b095bf4b90dec80",
       "version_major": 2,
       "version_minor": 0
      },
      "text/plain": [
       "model-00002-of-00014.safetensors:   0%|          | 0.00/967M [00:00<?, ?B/s]"
      ]
     },
     "metadata": {},
     "output_type": "display_data"
    },
    {
     "data": {
      "application/vnd.jupyter.widget-view+json": {
       "model_id": "5a2717ef63194138883fe87d92395653",
       "version_major": 2,
       "version_minor": 0
      },
      "text/plain": [
       "model-00003-of-00014.safetensors:   0%|          | 0.00/967M [00:00<?, ?B/s]"
      ]
     },
     "metadata": {},
     "output_type": "display_data"
    },
    {
     "data": {
      "application/vnd.jupyter.widget-view+json": {
       "model_id": "901a90c736cb4f1d9d48883ae3915f85",
       "version_major": 2,
       "version_minor": 0
      },
      "text/plain": [
       "model-00004-of-00014.safetensors:   0%|          | 0.00/990M [00:00<?, ?B/s]"
      ]
     },
     "metadata": {},
     "output_type": "display_data"
    },
    {
     "data": {
      "application/vnd.jupyter.widget-view+json": {
       "model_id": "d472ef8809c94a77a25cfa4ef1fff3cc",
       "version_major": 2,
       "version_minor": 0
      },
      "text/plain": [
       "model-00005-of-00014.safetensors:   0%|          | 0.00/944M [00:00<?, ?B/s]"
      ]
     },
     "metadata": {},
     "output_type": "display_data"
    },
    {
     "data": {
      "application/vnd.jupyter.widget-view+json": {
       "model_id": "71ddb5055f2649f7b70da6051f8cbc1c",
       "version_major": 2,
       "version_minor": 0
      },
      "text/plain": [
       "model-00006-of-00014.safetensors:   0%|          | 0.00/990M [00:00<?, ?B/s]"
      ]
     },
     "metadata": {},
     "output_type": "display_data"
    },
    {
     "data": {
      "application/vnd.jupyter.widget-view+json": {
       "model_id": "12c72295e4a84d45837aefca3f5989d5",
       "version_major": 2,
       "version_minor": 0
      },
      "text/plain": [
       "model-00007-of-00014.safetensors:   0%|          | 0.00/967M [00:00<?, ?B/s]"
      ]
     },
     "metadata": {},
     "output_type": "display_data"
    },
    {
     "data": {
      "application/vnd.jupyter.widget-view+json": {
       "model_id": "17cab7bd50b94123a138157ff2282365",
       "version_major": 2,
       "version_minor": 0
      },
      "text/plain": [
       "model-00008-of-00014.safetensors:   0%|          | 0.00/967M [00:00<?, ?B/s]"
      ]
     },
     "metadata": {},
     "output_type": "display_data"
    },
    {
     "data": {
      "application/vnd.jupyter.widget-view+json": {
       "model_id": "409d94a83e5d45059879c6f4d03c1a95",
       "version_major": 2,
       "version_minor": 0
      },
      "text/plain": [
       "model-00009-of-00014.safetensors:   0%|          | 0.00/990M [00:00<?, ?B/s]"
      ]
     },
     "metadata": {},
     "output_type": "display_data"
    },
    {
     "data": {
      "application/vnd.jupyter.widget-view+json": {
       "model_id": "5f30fa6b4a2b4e8bbfa7446f0d036a8f",
       "version_major": 2,
       "version_minor": 0
      },
      "text/plain": [
       "model-00010-of-00014.safetensors:   0%|          | 0.00/944M [00:00<?, ?B/s]"
      ]
     },
     "metadata": {},
     "output_type": "display_data"
    },
    {
     "data": {
      "application/vnd.jupyter.widget-view+json": {
       "model_id": "f57141e1adee47bdbedb3d1b6b944ab3",
       "version_major": 2,
       "version_minor": 0
      },
      "text/plain": [
       "model-00011-of-00014.safetensors:   0%|          | 0.00/990M [00:00<?, ?B/s]"
      ]
     },
     "metadata": {},
     "output_type": "display_data"
    },
    {
     "data": {
      "application/vnd.jupyter.widget-view+json": {
       "model_id": "d39f6c3f62344e14b6095b9dac74f2ed",
       "version_major": 2,
       "version_minor": 0
      },
      "text/plain": [
       "model-00012-of-00014.safetensors:   0%|          | 0.00/967M [00:00<?, ?B/s]"
      ]
     },
     "metadata": {},
     "output_type": "display_data"
    },
    {
     "data": {
      "application/vnd.jupyter.widget-view+json": {
       "model_id": "b94abaa92a5f4be8acb4a54b033beead",
       "version_major": 2,
       "version_minor": 0
      },
      "text/plain": [
       "model-00013-of-00014.safetensors:   0%|          | 0.00/967M [00:00<?, ?B/s]"
      ]
     },
     "metadata": {},
     "output_type": "display_data"
    },
    {
     "data": {
      "application/vnd.jupyter.widget-view+json": {
       "model_id": "6c12764b2cbd4a9a928581f612d3ac31",
       "version_major": 2,
       "version_minor": 0
      },
      "text/plain": [
       "model-00014-of-00014.safetensors:   0%|          | 0.00/847M [00:00<?, ?B/s]"
      ]
     },
     "metadata": {},
     "output_type": "display_data"
    },
    {
     "data": {
      "application/vnd.jupyter.widget-view+json": {
       "model_id": "19c1dc71f53e4924962bcd24a87dbe17",
       "version_major": 2,
       "version_minor": 0
      },
      "text/plain": [
       "Loading checkpoint shards:   0%|          | 0/14 [00:00<?, ?it/s]"
      ]
     },
     "metadata": {},
     "output_type": "display_data"
    },
    {
     "data": {
      "application/vnd.jupyter.widget-view+json": {
       "model_id": "748c4e8d01bb45cb890be5a193eda2ad",
       "version_major": 2,
       "version_minor": 0
      },
      "text/plain": [
       "generation_config.json:   0%|          | 0.00/132 [00:00<?, ?B/s]"
      ]
     },
     "metadata": {},
     "output_type": "display_data"
    },
    {
     "data": {
      "application/vnd.jupyter.widget-view+json": {
       "model_id": "7d77c112749b4c38a6f5c0ea04b645ec",
       "version_major": 2,
       "version_minor": 0
      },
      "text/plain": [
       "tokenizer_config.json:   0%|          | 0.00/676 [00:00<?, ?B/s]"
      ]
     },
     "metadata": {},
     "output_type": "display_data"
    },
    {
     "data": {
      "application/vnd.jupyter.widget-view+json": {
       "model_id": "1a404a3e5e424cc8a90364440a2b03f4",
       "version_major": 2,
       "version_minor": 0
      },
      "text/plain": [
       "tokenizer.model:   0%|          | 0.00/500k [00:00<?, ?B/s]"
      ]
     },
     "metadata": {},
     "output_type": "display_data"
    },
    {
     "data": {
      "application/vnd.jupyter.widget-view+json": {
       "model_id": "360ec7a84705405f824bbc8a78e8fc1d",
       "version_major": 2,
       "version_minor": 0
      },
      "text/plain": [
       "tokenizer.json:   0%|          | 0.00/1.84M [00:00<?, ?B/s]"
      ]
     },
     "metadata": {},
     "output_type": "display_data"
    },
    {
     "data": {
      "application/vnd.jupyter.widget-view+json": {
       "model_id": "ab093089237e41cb8ced20946611f3d8",
       "version_major": 2,
       "version_minor": 0
      },
      "text/plain": [
       "special_tokens_map.json:   0%|          | 0.00/411 [00:00<?, ?B/s]"
      ]
     },
     "metadata": {},
     "output_type": "display_data"
    },
    {
     "name": "stderr",
     "output_type": "stream",
     "text": [
      "You are using the default legacy behaviour of the <class 'transformers.models.llama.tokenization_llama_fast.LlamaTokenizerFast'>. This is expected, and simply means that the `legacy` (previous) behavior will be used so nothing changes for you. If you want to use the new behaviour, set `legacy=False`. This should only be set if you understand what it means, and thoroughly read the reason why this was added as explained in https://github.com/huggingface/transformers/pull/24565 - if you loaded a llama tokenizer from a GGUF file you can ignore this message.\n"
     ]
    },
    {
     "data": {
      "text/plain": [
       "(True, True)"
      ]
     },
     "execution_count": 9,
     "metadata": {},
     "output_type": "execute_result"
    }
   ],
   "source": [
    "# Load base model(llama-2-7b-hf) and tokenizer\n",
    "bnb_config = BitsAndBytesConfig(\n",
    "    load_in_4bit= True,\n",
    "    bnb_4bit_quant_type= \"nf4\",\n",
    "    bnb_4bit_compute_dtype= torch.float16,\n",
    "    bnb_4bit_use_double_quant= False,\n",
    ")\n",
    "\n",
    "model = AutoModelForCausalLM.from_pretrained(\n",
    "    model_name,\n",
    "    quantization_config=bnb_config,\n",
    "    device_map={\"\": 0}\n",
    ")\n",
    "\n",
    "model = prepare_model_for_kbit_training(model)\n",
    "model.config.use_cache = False # silence the warnings. Please re-enable for inference!\n",
    "model.config.pretraining_tp = 1\n",
    "\n",
    "# Load LLaMA tokenizer\n",
    "tokenizer = AutoTokenizer.from_pretrained(model_name, trust_remote_code=True)\n",
    "tokenizer.pad_token = tokenizer.eos_token\n",
    "tokenizer.add_eos_token = True\n",
    "tokenizer.add_bos_token, tokenizer.add_eos_token"
   ]
  },
  {
   "cell_type": "code",
   "execution_count": null,
   "metadata": {
    "id": "vljuI4lxyPU-"
   },
   "outputs": [],
   "source": [
    "################################################################################\n",
    "# QLoRA parameters\n",
    "################################################################################\n",
    "\n",
    "# LoRA attention dimension\n",
    "lora_r = 64\n",
    "\n",
    "# Alpha parameter for LoRA scaling\n",
    "lora_alpha = 16\n",
    "\n",
    "# Dropout probability for LoRA layers\n",
    "lora_dropout = 0.1\n",
    "\n",
    "################################################################################\n",
    "# bitsandbytes parameters\n",
    "################################################################################\n",
    "\n",
    "# Activate 4-bit precision base model loading\n",
    "use_4bit = True\n",
    "\n",
    "# Compute dtype for 4-bit base models\n",
    "bnb_4bit_compute_dtype = \"float16\"\n",
    "\n",
    "# Quantization type (fp4 or nf4)\n",
    "bnb_4bit_quant_type = \"nf4\"\n",
    "\n",
    "# Activate nested quantization for 4-bit base models (double quantization)\n",
    "use_nested_quant = False\n",
    "\n",
    "################################################################################\n",
    "# TrainingArguments parameters\n",
    "################################################################################\n",
    "\n",
    "# Output directory where the model predictions and checkpoints will be stored\n",
    "output_dir = \"/content/drive/MyDrive/github_LEAF_LAB/survey_analysis/finetuned_results/llama2/training/\"\n",
    "\n",
    "if not os.path.exists(output_folder):\n",
    "    os.makedirs(output_folder)\n",
    "\n",
    "# Number of training epochs\n",
    "num_train_epochs = 5\n",
    "\n",
    "# Enable fp16/bf16 training (set bf16 to True with an A100)\n",
    "fp16 = False\n",
    "bf16 = True\n",
    "\n",
    "# Batch size per GPU for training\n",
    "per_device_train_batch_size = 4\n",
    "\n",
    "# Batch size per GPU for evaluation\n",
    "per_device_eval_batch_size = 4\n",
    "\n",
    "# Number of update steps to accumulate the gradients for\n",
    "gradient_accumulation_steps = 1\n",
    "\n",
    "# Enable gradient checkpointing\n",
    "gradient_checkpointing = True\n",
    "\n",
    "# Maximum gradient normal (gradient clipping)\n",
    "max_grad_norm = 0.3\n",
    "\n",
    "# Initial learning rate (AdamW optimizer)\n",
    "learning_rate = 2e-4\n",
    "\n",
    "# Weight decay to apply to all layers except bias/LayerNorm weights\n",
    "weight_decay = 0.001\n",
    "\n",
    "# Optimizer to use\n",
    "optim = \"paged_adamw_32bit\"\n",
    "\n",
    "# Learning rate schedule (constant a bit better than cosine)\n",
    "lr_scheduler_type = \"constant\"\n",
    "\n",
    "# Number of training steps (overrides num_train_epochs)\n",
    "max_steps = -1\n",
    "\n",
    "# Ratio of steps for a linear warmup (from 0 to learning rate)\n",
    "warmup_ratio = 0.03\n",
    "\n",
    "# Group sequences into batches with same length\n",
    "# Saves memory and speeds up training considerably\n",
    "group_by_length = True\n",
    "\n",
    "# Save checkpoint every X updates steps\n",
    "save_steps = 25\n",
    "\n",
    "# Log every X updates steps\n",
    "logging_steps = 25\n",
    "\n",
    "################################################################################\n",
    "# SFT parameters\n",
    "################################################################################\n",
    "\n",
    "# Maximum sequence length to use\n",
    "max_seq_length = None\n",
    "\n",
    "# Pack multiple short examples in the same input sequence to increase efficiency\n",
    "packing = False\n",
    "\n",
    "# Load the entire model on the GPU 0\n",
    "device_map = {\"\": 0}"
   ]
  },
  {
   "cell_type": "code",
   "execution_count": null,
   "metadata": {
    "colab": {
     "base_uri": "https://localhost:8080/",
     "height": 101,
     "referenced_widgets": [
      "f550f98f929b47f994b1dd51d24141e9"
     ]
    },
    "id": "_VlKSQwEydR7",
    "outputId": "c14a79d5-eb9c-4dc2-a9f2-df0f70351eeb"
   },
   "outputs": [
    {
     "name": "stdout",
     "output_type": "stream",
     "text": [
      "================================================================================\n",
      "Your GPU supports bfloat16: accelerate training with bf16=True\n",
      "================================================================================\n"
     ]
    },
    {
     "data": {
      "application/vnd.jupyter.widget-view+json": {
       "model_id": "f550f98f929b47f994b1dd51d24141e9",
       "version_major": 2,
       "version_minor": 0
      },
      "text/plain": [
       "Loading checkpoint shards:   0%|          | 0/14 [00:00<?, ?it/s]"
      ]
     },
     "metadata": {},
     "output_type": "display_data"
    }
   ],
   "source": [
    "# Load tokenizer and model with QLoRA configuration\n",
    "compute_dtype = getattr(torch, bnb_4bit_compute_dtype)\n",
    "\n",
    "bnb_config = BitsAndBytesConfig(\n",
    "    load_in_4bit=use_4bit,\n",
    "    bnb_4bit_quant_type=bnb_4bit_quant_type,\n",
    "    bnb_4bit_compute_dtype=compute_dtype,\n",
    "    bnb_4bit_use_double_quant=use_nested_quant,\n",
    ")\n",
    "\n",
    "# Check GPU compatibility with bfloat16\n",
    "if compute_dtype == torch.float16 and use_4bit:\n",
    "    major, _ = torch.cuda.get_device_capability()\n",
    "    if major >= 8:\n",
    "        print(\"=\" * 80)\n",
    "        print(\"Your GPU supports bfloat16: accelerate training with bf16=True\")\n",
    "        print(\"=\" * 80)\n",
    "\n",
    "# Load base model\n",
    "model = AutoModelForCausalLM.from_pretrained(\n",
    "    model_name,\n",
    "    quantization_config=bnb_config,\n",
    "    device_map=device_map\n",
    ")\n",
    "model.config.use_cache = False\n",
    "model.config.pretraining_tp = 1\n",
    "\n",
    "# Load LLaMA tokenizer\n",
    "tokenizer = AutoTokenizer.from_pretrained(model_name, trust_remote_code=True)\n",
    "tokenizer.pad_token = tokenizer.eos_token\n",
    "tokenizer.padding_side = \"right\"\n",
    "\n",
    "# Load LoRA configuration\n",
    "peft_config = LoraConfig(\n",
    "    lora_alpha=lora_alpha,\n",
    "    lora_dropout=lora_dropout,\n",
    "    r=lora_r,\n",
    "    bias=\"none\",\n",
    "    task_type=\"CAUSAL_LM\",\n",
    ")\n",
    "\n",
    "# Set training parameters\n",
    "training_arguments = TrainingArguments(\n",
    "    output_dir=output_dir,\n",
    "    num_train_epochs=num_train_epochs,\n",
    "    per_device_train_batch_size=per_device_train_batch_size,\n",
    "    gradient_accumulation_steps=gradient_accumulation_steps,\n",
    "    optim=optim,\n",
    "    save_steps=save_steps,\n",
    "    logging_steps=logging_steps,\n",
    "    learning_rate=learning_rate,\n",
    "    weight_decay=weight_decay,\n",
    "    fp16=fp16,\n",
    "    bf16=bf16,\n",
    "    max_grad_norm=max_grad_norm,\n",
    "    max_steps=max_steps,\n",
    "    warmup_ratio=warmup_ratio,\n",
    "    group_by_length=group_by_length,\n",
    "    lr_scheduler_type=lr_scheduler_type,\n",
    "    report_to=\"tensorboard\"\n",
    ")"
   ]
  },
  {
   "cell_type": "code",
   "execution_count": null,
   "metadata": {
    "id": "UnCZtxxviOHv"
   },
   "outputs": [],
   "source": [
    "# peft_config = LoraConfig(\n",
    "#     lora_alpha= 8,\n",
    "#     lora_dropout= 0.1,\n",
    "#     r= 16,\n",
    "#     bias=\"none\",\n",
    "#     task_type=\"CAUSAL_LM\",\n",
    "#     target_modules=[\"q_proj\", \"k_proj\", \"v_proj\", \"o_proj\",\"gate_proj\", \"up_proj\"]\n",
    "# )"
   ]
  },
  {
   "cell_type": "code",
   "execution_count": null,
   "metadata": {
    "colab": {
     "base_uri": "https://localhost:8080/"
    },
    "id": "sPPcQvaDnoZV",
    "outputId": "4d9f24d5-f082-4cc3-8404-857ff272af82"
   },
   "outputs": [
    {
     "name": "stderr",
     "output_type": "stream",
     "text": [
      "/usr/local/lib/python3.10/dist-packages/transformers/training_args.py:1494: FutureWarning: `evaluation_strategy` is deprecated and will be removed in version 4.46 of 🤗 Transformers. Use `eval_strategy` instead\n",
      "  warnings.warn(\n",
      "Using the `WANDB_DISABLED` environment variable is deprecated and will be removed in v5. Use the --report_to flag to control the integrations used for logging result (for instance --report_to none).\n"
     ]
    }
   ],
   "source": [
    "# output_folder = \"/content/drive/MyDrive/github_LEAF_LAB/survey_analysis/finetuned_results/orca2/training/\"\n",
    "\n",
    "# if not os.path.exists(output_folder):\n",
    "#     os.makedirs(output_folder)\n",
    "\n",
    "# training_arguments = TrainingArguments(\n",
    "#     output_dir= output_folder,\n",
    "#     learning_rate=7e-4,\n",
    "#     # Reduce the batch size if you don't have enough memory\n",
    "#     per_device_train_batch_size=4,\n",
    "#     per_device_eval_batch_size=4,\n",
    "#     num_train_epochs=3,\n",
    "#     weight_decay=0.01,\n",
    "#     evaluation_strategy=\"epoch\",\n",
    "#     save_strategy=\"epoch\",\n",
    "#     load_best_model_at_end=True,\n",
    "#     # # num_train_epochs= 1,\n",
    "#     # per_device_train_batch_size= 8,\n",
    "#     # # gradient_accumulation_steps= 2,\n",
    "#     # optim = \"paged_adamw_8bit\",\n",
    "#     # # save_steps= 1000,\n",
    "#     # # logging_steps= 30,\n",
    "#     # learning_rate= 2e-4,\n",
    "#     # weight_decay= 0.001,\n",
    "#     # fp16= False,\n",
    "#     # bf16= False,\n",
    "#     # max_grad_norm= 0.3,\n",
    "#     # # max_steps= -1,\n",
    "#     # warmup_ratio= 0.3,\n",
    "#     # group_by_length= True,\n",
    "#     # lr_scheduler_type= \"linear\",\n",
    "#     # # report_to=\"wandb\",\n",
    "# )"
   ]
  },
  {
   "cell_type": "code",
   "execution_count": null,
   "metadata": {
    "id": "2xdvnifanoVd"
   },
   "outputs": [],
   "source": [
    "# Setting sft parameters\n",
    "trainer = SFTTrainer(\n",
    "    model=model,\n",
    "    train_dataset=dataset['train'],\n",
    "    eval_dataset=dataset['val'],\n",
    "    peft_config=peft_config,\n",
    "    max_seq_length= None,\n",
    "    dataset_text_field=\"text\",\n",
    "    tokenizer=tokenizer,\n",
    "    args=training_arguments,\n",
    "    packing= False,\n",
    ")"
   ]
  },
  {
   "cell_type": "code",
   "execution_count": null,
   "metadata": {
    "colab": {
     "base_uri": "https://localhost:8080/",
     "height": 1000
    },
    "id": "IyjdvIpknoRB",
    "outputId": "01fb3eb7-8249-4b7f-9118-5fe1c57c2027"
   },
   "outputs": [
    {
     "data": {
      "text/html": [
       "\n",
       "    <div>\n",
       "      \n",
       "      <progress value='745' max='745' style='width:300px; height:20px; vertical-align: middle;'></progress>\n",
       "      [745/745 04:06, Epoch 5/5]\n",
       "    </div>\n",
       "    <table border=\"1\" class=\"dataframe\">\n",
       "  <thead>\n",
       " <tr style=\"text-align: left;\">\n",
       "      <th>Step</th>\n",
       "      <th>Training Loss</th>\n",
       "    </tr>\n",
       "  </thead>\n",
       "  <tbody>\n",
       "    <tr>\n",
       "      <td>25</td>\n",
       "      <td>3.039800</td>\n",
       "    </tr>\n",
       "    <tr>\n",
       "      <td>50</td>\n",
       "      <td>2.661600</td>\n",
       "    </tr>\n",
       "    <tr>\n",
       "      <td>75</td>\n",
       "      <td>2.754100</td>\n",
       "    </tr>\n",
       "    <tr>\n",
       "      <td>100</td>\n",
       "      <td>2.451600</td>\n",
       "    </tr>\n",
       "    <tr>\n",
       "      <td>125</td>\n",
       "      <td>2.400600</td>\n",
       "    </tr>\n",
       "    <tr>\n",
       "      <td>150</td>\n",
       "      <td>2.550500</td>\n",
       "    </tr>\n",
       "    <tr>\n",
       "      <td>175</td>\n",
       "      <td>2.326700</td>\n",
       "    </tr>\n",
       "    <tr>\n",
       "      <td>200</td>\n",
       "      <td>2.320900</td>\n",
       "    </tr>\n",
       "    <tr>\n",
       "      <td>225</td>\n",
       "      <td>2.346700</td>\n",
       "    </tr>\n",
       "    <tr>\n",
       "      <td>250</td>\n",
       "      <td>2.383200</td>\n",
       "    </tr>\n",
       "    <tr>\n",
       "      <td>275</td>\n",
       "      <td>2.315800</td>\n",
       "    </tr>\n",
       "    <tr>\n",
       "      <td>300</td>\n",
       "      <td>2.347400</td>\n",
       "    </tr>\n",
       "    <tr>\n",
       "      <td>325</td>\n",
       "      <td>2.209700</td>\n",
       "    </tr>\n",
       "    <tr>\n",
       "      <td>350</td>\n",
       "      <td>2.153300</td>\n",
       "    </tr>\n",
       "    <tr>\n",
       "      <td>375</td>\n",
       "      <td>2.185300</td>\n",
       "    </tr>\n",
       "    <tr>\n",
       "      <td>400</td>\n",
       "      <td>2.134500</td>\n",
       "    </tr>\n",
       "    <tr>\n",
       "      <td>425</td>\n",
       "      <td>2.112400</td>\n",
       "    </tr>\n",
       "    <tr>\n",
       "      <td>450</td>\n",
       "      <td>2.054500</td>\n",
       "    </tr>\n",
       "    <tr>\n",
       "      <td>475</td>\n",
       "      <td>1.852100</td>\n",
       "    </tr>\n",
       "    <tr>\n",
       "      <td>500</td>\n",
       "      <td>1.896000</td>\n",
       "    </tr>\n",
       "    <tr>\n",
       "      <td>525</td>\n",
       "      <td>1.839500</td>\n",
       "    </tr>\n",
       "    <tr>\n",
       "      <td>550</td>\n",
       "      <td>1.900800</td>\n",
       "    </tr>\n",
       "    <tr>\n",
       "      <td>575</td>\n",
       "      <td>1.931800</td>\n",
       "    </tr>\n",
       "    <tr>\n",
       "      <td>600</td>\n",
       "      <td>1.885500</td>\n",
       "    </tr>\n",
       "    <tr>\n",
       "      <td>625</td>\n",
       "      <td>1.565500</td>\n",
       "    </tr>\n",
       "    <tr>\n",
       "      <td>650</td>\n",
       "      <td>1.552700</td>\n",
       "    </tr>\n",
       "    <tr>\n",
       "      <td>675</td>\n",
       "      <td>1.570200</td>\n",
       "    </tr>\n",
       "    <tr>\n",
       "      <td>700</td>\n",
       "      <td>1.694600</td>\n",
       "    </tr>\n",
       "    <tr>\n",
       "      <td>725</td>\n",
       "      <td>1.737300</td>\n",
       "    </tr>\n",
       "  </tbody>\n",
       "</table><p>"
      ],
      "text/plain": [
       "<IPython.core.display.HTML object>"
      ]
     },
     "metadata": {},
     "output_type": "display_data"
    },
    {
     "data": {
      "text/plain": [
       "TrainOutput(global_step=745, training_loss=2.1272548112293217, metrics={'train_runtime': 247.402, 'train_samples_per_second': 11.985, 'train_steps_per_second': 3.011, 'total_flos': 4588873832964096.0, 'train_loss': 2.1272548112293217, 'epoch': 5.0})"
      ]
     },
     "execution_count": 22,
     "metadata": {},
     "output_type": "execute_result"
    }
   ],
   "source": [
    "import os\n",
    "import warnings\n",
    "warnings.filterwarnings(\"ignore\")\n",
    "os.environ[\"WANDB_DISABLED\"] = \"true\"\n",
    "os.environ[\"CUDA_VISIBLE_DEVICES\"]=\"0\"\n",
    "\n",
    "\n",
    "# Train model\n",
    "trainer.train()"
   ]
  },
  {
   "cell_type": "code",
   "execution_count": null,
   "metadata": {
    "colab": {
     "base_uri": "https://localhost:8080/"
    },
    "id": "cWpUZHqcnoNK",
    "outputId": "ff031d73-08fe-4ceb-baa8-7387db4d4d0f"
   },
   "outputs": [
    {
     "name": "stdout",
     "output_type": "stream",
     "text": [
      "File Name: config.json; File Size: 1.19KB\n",
      "File Name: generation_config.json; File Size: 0.13KB\n",
      "File Name: model.safetensors; File Size: 4201651.73KB\n"
     ]
    }
   ],
   "source": [
    "model_path = \"/content/drive/MyDrive/github_LEAF_LAB/survey_analysis/finetuned_results/llama2/save/\"\n",
    "model.save_pretrained(model_path)\n",
    "\n",
    "# check the size of the saved model\n",
    "for file_name in os.listdir(model_path):\n",
    "    file_size = os.path.getsize(model_path + file_name)\n",
    "    print(f\"File Name: {file_name}; File Size: {file_size / 1024:.2f}KB\")"
   ]
  },
  {
   "cell_type": "code",
   "execution_count": null,
   "metadata": {
    "colab": {
     "base_uri": "https://localhost:8080/",
     "height": 49,
     "referenced_widgets": [
      "bed4157f879a4d68a01e0ba9d2bb1820"
     ]
    },
    "id": "Y_OMzYSPGvop",
    "outputId": "d89d08f0-587d-4219-cdc6-65cae3392818"
   },
   "outputs": [
    {
     "data": {
      "application/vnd.jupyter.widget-view+json": {
       "model_id": "bed4157f879a4d68a01e0ba9d2bb1820",
       "version_major": 2,
       "version_minor": 0
      },
      "text/plain": [
       "Loading checkpoint shards:   0%|          | 0/14 [00:00<?, ?it/s]"
      ]
     },
     "metadata": {},
     "output_type": "display_data"
    }
   ],
   "source": [
    "from peft import PeftModel, PeftConfig, LoraConfig, TaskType, get_peft_model\n",
    "\n",
    "model_path = \"/content/drive/MyDrive/github_LEAF_LAB/survey_analysis/finetuned_results/llama2/training/checkpoint-700\"\n",
    "\n",
    "config = PeftConfig.from_pretrained(model_path)\n",
    "pred_model = AutoModelForCausalLM.from_pretrained(model_name)\n",
    "pred_model = PeftModel.from_pretrained(pred_model, model_path)"
   ]
  },
  {
   "cell_type": "code",
   "execution_count": null,
   "metadata": {
    "colab": {
     "base_uri": "https://localhost:8080/"
    },
    "id": "04gc3R0-2L2N",
    "outputId": "3f63eefb-aea1-4057-93e6-bef3e7d22b8f"
   },
   "outputs": [
    {
     "name": "stderr",
     "output_type": "stream",
     "text": [
      "The model 'PeftModelForCausalLM' is not supported for text-generation. Supported models are ['BartForCausalLM', 'BertLMHeadModel', 'BertGenerationDecoder', 'BigBirdForCausalLM', 'BigBirdPegasusForCausalLM', 'BioGptForCausalLM', 'BlenderbotForCausalLM', 'BlenderbotSmallForCausalLM', 'BloomForCausalLM', 'CamembertForCausalLM', 'LlamaForCausalLM', 'CodeGenForCausalLM', 'CohereForCausalLM', 'CpmAntForCausalLM', 'CTRLLMHeadModel', 'Data2VecTextForCausalLM', 'DbrxForCausalLM', 'ElectraForCausalLM', 'ErnieForCausalLM', 'FalconForCausalLM', 'FuyuForCausalLM', 'GemmaForCausalLM', 'Gemma2ForCausalLM', 'GitForCausalLM', 'GPT2LMHeadModel', 'GPT2LMHeadModel', 'GPTBigCodeForCausalLM', 'GPTNeoForCausalLM', 'GPTNeoXForCausalLM', 'GPTNeoXJapaneseForCausalLM', 'GPTJForCausalLM', 'JambaForCausalLM', 'JetMoeForCausalLM', 'LlamaForCausalLM', 'MambaForCausalLM', 'Mamba2ForCausalLM', 'MarianForCausalLM', 'MBartForCausalLM', 'MegaForCausalLM', 'MegatronBertForCausalLM', 'MistralForCausalLM', 'MixtralForCausalLM', 'MptForCausalLM', 'MusicgenForCausalLM', 'MusicgenMelodyForCausalLM', 'MvpForCausalLM', 'NemotronForCausalLM', 'OlmoForCausalLM', 'OpenLlamaForCausalLM', 'OpenAIGPTLMHeadModel', 'OPTForCausalLM', 'PegasusForCausalLM', 'PersimmonForCausalLM', 'PhiForCausalLM', 'Phi3ForCausalLM', 'PLBartForCausalLM', 'ProphetNetForCausalLM', 'QDQBertLMHeadModel', 'Qwen2ForCausalLM', 'Qwen2MoeForCausalLM', 'RecurrentGemmaForCausalLM', 'ReformerModelWithLMHead', 'RemBertForCausalLM', 'RobertaForCausalLM', 'RobertaPreLayerNormForCausalLM', 'RoCBertForCausalLM', 'RoFormerForCausalLM', 'RwkvForCausalLM', 'Speech2Text2ForCausalLM', 'StableLmForCausalLM', 'Starcoder2ForCausalLM', 'TransfoXLLMHeadModel', 'TrOCRForCausalLM', 'WhisperForCausalLM', 'XGLMForCausalLM', 'XLMWithLMHeadModel', 'XLMProphetNetForCausalLM', 'XLMRobertaForCausalLM', 'XLMRobertaXLForCausalLM', 'XLNetLMHeadModel', 'XmodForCausalLM'].\n",
      "Both `max_new_tokens` (=100) and `max_length`(=100) seem to have been set. `max_new_tokens` will take precedence. Please refer to the documentation for more information. (https://huggingface.co/docs/transformers/main/en/main_classes/text_generation)\n",
      "Both `max_new_tokens` (=100) and `max_length`(=100) seem to have been set. `max_new_tokens` will take precedence. Please refer to the documentation for more information. (https://huggingface.co/docs/transformers/main/en/main_classes/text_generation)\n"
     ]
    },
    {
     "name": "stdout",
     "output_type": "stream",
     "text": [
      "the habif mental health staff need more attention. there is such little staff that appointments are rare. uncle joes is a good resource but students shouldn’t have to rely on peers due to inaccessibility to professional mental health services on campus. 3112 and 3114 should be staffed around the clock for students who need immediate help. there should be more therapists and staff to meet student demand. the counseling staff is underfunded and overworked. 3112 should have a minimum of a bachelor’s degree in a relevant field (ie: psychology, sociology, social work, counseling) and 3114 should have a master\n"
     ]
    },
    {
     "name": "stderr",
     "output_type": "stream",
     "text": [
      "Both `max_new_tokens` (=100) and `max_length`(=100) seem to have been set. `max_new_tokens` will take precedence. Please refer to the documentation for more information. (https://huggingface.co/docs/transformers/main/en/main_classes/text_generation)\n"
     ]
    },
    {
     "name": "stdout",
     "output_type": "stream",
     "text": [
      "we offer a lot of resources but it's unclear how helpful they are. (i have not tried to use them but i've heard from others that the staff is not helpful.) i think having more therapists on campus would be helpful. 411 counseling doesn't always have appointments available. more staff would increase available appointments and would make it easier for people to get them. 411 counseling should also be promoted more as it's not as easy to find as it should be. 411 coun\n"
     ]
    },
    {
     "name": "stderr",
     "output_type": "stream",
     "text": [
      "Both `max_new_tokens` (=100) and `max_length`(=100) seem to have been set. `max_new_tokens` will take precedence. Please refer to the documentation for more information. (https://huggingface.co/docs/transformers/main/en/main_classes/text_generation)\n"
     ]
    },
    {
     "name": "stdout",
     "output_type": "stream",
     "text": [
      "i think the mental health department is good but just lacking funding and resources. it’s hard to schedule staff for counseling appointments and there also isn’t much importance placed on mental health in comparison to schoolwork. \n",
      "\n",
      "the college does a good job of having a variety of resources and professionals. i think there just needs to be a way to make them more accessible. for example, if we could set appointments online or have a hotline that students could call that wouldn't be as intimidating as calling a person. \n",
      "\n",
      "i wish we had more staff to accommodate more students. i also would like it if there was someone that specialized in abuse or tra\n"
     ]
    },
    {
     "name": "stderr",
     "output_type": "stream",
     "text": [
      "Both `max_new_tokens` (=100) and `max_length`(=100) seem to have been set. `max_new_tokens` will take precedence. Please refer to the documentation for more information. (https://huggingface.co/docs/transformers/main/en/main_classes/text_generation)\n"
     ]
    },
    {
     "name": "stdout",
     "output_type": "stream",
     "text": [
      "i haven’t gone through lsu for mental health services, but my friend has and they have treated her pretty well. she’s being covered by the lighthouse program and they have been really helpful for her. i can’t afford it, but it’d be nice if some of my fees i pay for school were allocated for mental health services. louisiana’s state funding for mental health services aren’t the greatest either so lsu should do their best to step up in this aspect. 16 10 2021\n",
      "i have only experienced the lighthouse services at lsu, but i’ve heard bad things about other universities. lighthouse seems to be the best resource at lsu but it’s still not enough. 16 10 202\n"
     ]
    },
    {
     "name": "stderr",
     "output_type": "stream",
     "text": [
      "Both `max_new_tokens` (=100) and `max_length`(=100) seem to have been set. `max_new_tokens` will take precedence. Please refer to the documentation for more information. (https://huggingface.co/docs/transformers/main/en/main_classes/text_generation)\n"
     ]
    },
    {
     "name": "stdout",
     "output_type": "stream",
     "text": [
      "i think they have decent programs in place but not many people know about them or actually access them \n",
      ". i know a lot of people who would benefit from them but don’t utilize them which is unfortunate. \n",
      "\n",
      "i wish they had more resources for pcs, which is what i struggle with the most. they also need more staff. it feels like no one ever answers the helpline and the therapist that are available are often not helpful and not a good fit, so i stopped going altogether. \n",
      "\n",
      "\n",
      "i don't use the on\n"
     ]
    },
    {
     "name": "stderr",
     "output_type": "stream",
     "text": [
      "Both `max_new_tokens` (=100) and `max_length`(=100) seem to have been set. `max_new_tokens` will take precedence. Please refer to the documentation for more information. (https://huggingface.co/docs/transformers/main/en/main_classes/text_generation)\n"
     ]
    },
    {
     "name": "stdout",
     "output_type": "stream",
     "text": [
      "i have a few friends who have regular or semi-regular counseling meetings. they seem very grateful to have those sessions and look forward to the days they can talk things out with a professional on campus. i guess as someone who is interested in starting counseling, i don’t know where to begin so that may be something they could communicate more to both new and attending students. i also have a hard time reaching anyone on the campus counseling services and i know others do as well so i wish there was some way to reach out that was more accessible and less of a hassle than the current way. they’re great at what they do but if they had an easier to contact and easier to set up meeting system, even if it’s only a bit easier, it would be helpful. \n",
      "\n",
      "i think they could improve by advertising their services\n"
     ]
    },
    {
     "name": "stderr",
     "output_type": "stream",
     "text": [
      "Both `max_new_tokens` (=100) and `max_length`(=100) seem to have been set. `max_new_tokens` will take precedence. Please refer to the documentation for more information. (https://huggingface.co/docs/transformers/main/en/main_classes/text_generation)\n"
     ]
    },
    {
     "name": "stdout",
     "output_type": "stream",
     "text": [
      "the wellness counseling is spectacular but please give them a raise and expand the staff.  i had to wait a month to get help sometimes.  this isn't the case for every student but for me it was.  i think there should be an easier way to get a same or next day appointment.   maybe have a triage person or something so they can prioritize who can be seen.  i know the wellness office can't expand because they don't receive any funding which i don't know how to fix other than asking the university to give them money.  i know they're\n"
     ]
    },
    {
     "name": "stderr",
     "output_type": "stream",
     "text": [
      "Both `max_new_tokens` (=100) and `max_length`(=100) seem to have been set. `max_new_tokens` will take precedence. Please refer to the documentation for more information. (https://huggingface.co/docs/transformers/main/en/main_classes/text_generation)\n"
     ]
    },
    {
     "name": "stdout",
     "output_type": "stream",
     "text": [
      "there are not enough counselors and i have heard so many stories (including my own experience) where friends have wanted to go to counseling services and they are told they have to wait months to book an appointment.\n",
      "i think that there needs to be a way where the college can prioritize those who need help the most. \n",
      "\n",
      "i have gone to counseling services here before before and it is very hard to get an appointment. \n",
      "\n",
      "i feel that the counseling services here should focus more on the student's immediate needs, rather than focusing on the long term goals.\n",
      "i've gone before and it felt like they were focused on what i wanted to\n"
     ]
    },
    {
     "name": "stderr",
     "output_type": "stream",
     "text": [
      "Both `max_new_tokens` (=100) and `max_length`(=100) seem to have been set. `max_new_tokens` will take precedence. Please refer to the documentation for more information. (https://huggingface.co/docs/transformers/main/en/main_classes/text_generation)\n"
     ]
    },
    {
     "name": "stdout",
     "output_type": "stream",
     "text": [
      "the telehealth line takes too long and seems overly complicated for someone like me (a severely anxious person). it would be nice if there were easier accessible online options for students that didn't just involve a phone call/zoom session where i have no idea what to say or do - especially as someone seeking mental health services for the first time. and for me, it was because i needed help and was scared to ask. so i called the wellness centre and it was a very helpful and reassuring phone call, but i wish there were more accessible options. \n",
      "\n",
      "i've heard that the college has started to do online options (which is great) but it would be helpful to have an easier way to find this resource online. i mean, it's right there, but i think there needs to be a\n"
     ]
    },
    {
     "name": "stderr",
     "output_type": "stream",
     "text": [
      "Both `max_new_tokens` (=100) and `max_length`(=100) seem to have been set. `max_new_tokens` will take precedence. Please refer to the documentation for more information. (https://huggingface.co/docs/transformers/main/en/main_classes/text_generation)\n"
     ]
    },
    {
     "name": "stdout",
     "output_type": "stream",
     "text": [
      "the presentation of possible services such as telehealth and the ease of use for mental health services is good. i think mental health check ups could be implemented through the semester more. \n",
      "\n",
      "it seems like mental health needs to be taken more seriously throughout the university and more resources should be given and more staff should be hired. \n",
      "\n",
      "the staff seems to be very helpful and are willing to help, but they are stretched thin and don't have enough staff. \n",
      "\n",
      "it would help to get more staff and increase financial aid to make getting mental health services more accessible. \n",
      "\n",
      "a mobile app with resources, such as where to get help on\n"
     ]
    },
    {
     "name": "stderr",
     "output_type": "stream",
     "text": [
      "Both `max_new_tokens` (=100) and `max_length`(=100) seem to have been set. `max_new_tokens` will take precedence. Please refer to the documentation for more information. (https://huggingface.co/docs/transformers/main/en/main_classes/text_generation)\n"
     ]
    },
    {
     "name": "stdout",
     "output_type": "stream",
     "text": [
      "i do not know how the services function as i have never required them.. the school should have people checking up on students and making sure they are okay. i have heard that the counselors at asu are not helpful. they just want to sign you off. you need someone to talk to, not someone to sign you off.  the counseling services are underfunded. they are only available for a small period of time during the day, and only for a certain amount of days out of the week. it doesn't help that the coun\n"
     ]
    },
    {
     "name": "stderr",
     "output_type": "stream",
     "text": [
      "Both `max_new_tokens` (=100) and `max_length`(=100) seem to have been set. `max_new_tokens` will take precedence. Please refer to the documentation for more information. (https://huggingface.co/docs/transformers/main/en/main_classes/text_generation)\n"
     ]
    },
    {
     "name": "stdout",
     "output_type": "stream",
     "text": [
      "the counseling center of kalamazoo college is known amongst the students to be generally very bad at the services it provides.\n",
      "more staff and training for those staff that are there.\n",
      "i haven't used it much so i'm not sure.\n",
      "more staff, more training for staff, and more diverse staff.\n",
      "they're not diverse.\n",
      "the college as a whole needs to be more aware of its own racial biases and needs to be proactive about correcting them.\n",
      "more money for the wellness staff and more training for staff.\n",
      "higher salaries for staff so\n"
     ]
    },
    {
     "name": "stderr",
     "output_type": "stream",
     "text": [
      "Both `max_new_tokens` (=100) and `max_length`(=100) seem to have been set. `max_new_tokens` will take precedence. Please refer to the documentation for more information. (https://huggingface.co/docs/transformers/main/en/main_classes/text_generation)\n"
     ]
    },
    {
     "name": "stdout",
     "output_type": "stream",
     "text": [
      "there are not enough counselors so i have heard it is hard to have appointments at a necessary frequency. \n",
      "\n",
      "also they should have a way where you do not have to physically go somewhere to see a therapist, like have it in the cougar health center where there is a little room with a therapist or something. \n",
      "\n",
      "the therapists need to be more diverse. \n",
      "\n",
      "they need to be more understanding, not just listen and say you are fine, but listen and say what you really need to say. \n",
      "\n",
      "the counseling services\n"
     ]
    },
    {
     "name": "stderr",
     "output_type": "stream",
     "text": [
      "Both `max_new_tokens` (=100) and `max_length`(=100) seem to have been set. `max_new_tokens` will take precedence. Please refer to the documentation for more information. (https://huggingface.co/docs/transformers/main/en/main_classes/text_generation)\n"
     ]
    },
    {
     "name": "stdout",
     "output_type": "stream",
     "text": [
      "i think the triage needs more attention. it seems excessive to wait at least 45 minutes to get help. but their referral plan has excellent rates if you have school insurance. 2/3 of the students are on this, even though there is a state plan. i think a little more communication on this part would be great. i had to do my own research into the state plan. it's cheaper, but less reputable. \n",
      "\n",
      "i think a more accessible online program would help. i don't know if this is offered, but it would be helpful. a more streamlined referral program would be great. right now, it seems\n"
     ]
    },
    {
     "name": "stderr",
     "output_type": "stream",
     "text": [
      "Both `max_new_tokens` (=100) and `max_length`(=100) seem to have been set. `max_new_tokens` will take precedence. Please refer to the documentation for more information. (https://huggingface.co/docs/transformers/main/en/main_classes/text_generation)\n"
     ]
    },
    {
     "name": "stdout",
     "output_type": "stream",
     "text": [
      "the well for sexual health supplies. they can add in person mental health services instead of online.  the mental health resources are not helpful. need to be more helpful.  more options to see providers. the online resources are not helpful at all. need more online resources, specifically for people of color.  i've had 2 experiences with laredo college's mental health resources and they weren't helpful.  they need a counselor on site for people who can't do online meetings.  more resources for people who can't go to\n"
     ]
    },
    {
     "name": "stderr",
     "output_type": "stream",
     "text": [
      "Both `max_new_tokens` (=100) and `max_length`(=100) seem to have been set. `max_new_tokens` will take precedence. Please refer to the documentation for more information. (https://huggingface.co/docs/transformers/main/en/main_classes/text_generation)\n"
     ]
    },
    {
     "name": "stdout",
     "output_type": "stream",
     "text": [
      "in person counseling seems to be working well. the availability and the options for telehealth need to be expanded. 100% of my classes had a counselor on campus during the first two months of the fall 2021 semester. i had no choice to have a college counselor but i did. they don't do much other than listen. there isn't a therapist on campus. there needs to be. 10% of the college is on psyche medication. they have a psychiatrist on campus and i know of three people\n"
     ]
    },
    {
     "name": "stderr",
     "output_type": "stream",
     "text": [
      "Both `max_new_tokens` (=100) and `max_length`(=100) seem to have been set. `max_new_tokens` will take precedence. Please refer to the documentation for more information. (https://huggingface.co/docs/transformers/main/en/main_classes/text_generation)\n"
     ]
    },
    {
     "name": "stdout",
     "output_type": "stream",
     "text": [
      "telecommunication for mental health is discrete and ran well but could reach out more to the students for those who are nervous to ask for help.Ћ \n",
      "more advertising of the wellness center and where to go for what and who to ask for help would help a lot.\n",
      "\n",
      "as a student athlete and having to balance time between school work and sports and needing help for mental health i wish there was a way to get help for both at the same time.\n",
      "\n",
      "i think it is important to have a counselor or someone who can help with mental health but they should also help with school work too to give\n"
     ]
    },
    {
     "name": "stderr",
     "output_type": "stream",
     "text": [
      "Both `max_new_tokens` (=100) and `max_length`(=100) seem to have been set. `max_new_tokens` will take precedence. Please refer to the documentation for more information. (https://huggingface.co/docs/transformers/main/en/main_classes/text_generation)\n"
     ]
    },
    {
     "name": "stdout",
     "output_type": "stream",
     "text": [
      "i haven't personally used any of the services, so i feel as though i am not qualified to answer this question. \n",
      "\n",
      "however, from what i have observed, my peers who have used their university's wellness services report that they are very helpful, and would recommend them. \n",
      "\n",
      "i have always thought of university as a place to learn, not to get help with your mental health. \n",
      "\n",
      "however, university should not be seen as a place to simply gain a diploma, and that university should not be the first place to seek help for one's personal life\n"
     ]
    },
    {
     "name": "stderr",
     "output_type": "stream",
     "text": [
      "Both `max_new_tokens` (=100) and `max_length`(=100) seem to have been set. `max_new_tokens` will take precedence. Please refer to the documentation for more information. (https://huggingface.co/docs/transformers/main/en/main_classes/text_generation)\n"
     ]
    },
    {
     "name": "stdout",
     "output_type": "stream",
     "text": [
      "i am online so i don’t really go in person. i’ve never looked into these things because i didn’t know they were there. it probably has been sent to me as information in an email but i never saw it. definitely will be looking into it. 4.0 gpa, so i’m not struggling academically. \n",
      "\n",
      "i’ve struggled with depression and anxiety my whole life but i never sought help for it or even talked to anyone about it because i was so scared of being judged. i was judged anyway and it hurt me even more that i was right. i have no regrets and don’t care what other people think of me. i do care about how i come across, though\n"
     ]
    },
    {
     "name": "stderr",
     "output_type": "stream",
     "text": [
      "Both `max_new_tokens` (=100) and `max_length`(=100) seem to have been set. `max_new_tokens` will take precedence. Please refer to the documentation for more information. (https://huggingface.co/docs/transformers/main/en/main_classes/text_generation)\n"
     ]
    },
    {
     "name": "stdout",
     "output_type": "stream",
     "text": [
      "i think there needs to be more options for online students. i get all the info about on campus options but i’m not ever on campus - i’m an out of state student.  also more staff to be able to help with paperwork and forms - they are not super helpful.  i feel like my college has a lot of resources but they don't necessarily advertise them which is why i would suggest a little more advertising of them.   i don't know what they could be advertising specifically though - there's already so many resources that they offer.  also more financial aid to be able to cover mental health services. i don't have\n"
     ]
    },
    {
     "name": "stderr",
     "output_type": "stream",
     "text": [
      "Both `max_new_tokens` (=100) and `max_length`(=100) seem to have been set. `max_new_tokens` will take precedence. Please refer to the documentation for more information. (https://huggingface.co/docs/transformers/main/en/main_classes/text_generation)\n"
     ]
    },
    {
     "name": "stdout",
     "output_type": "stream",
     "text": [
      "i don’t know, i’m an online student  who hasn’t utilized the services.  maybe a bigger push would help?  a more proactive approach.  a survey or something.  you can’t assume that everyone knows where to go and what resources may be available.  you have to make the effort to tell people and show people.  a more robust directory of what resources are available, with information on whom to contact and what they can help with, would be helpful, too.  i know i had no idea that the counselling office could help with financial\n"
     ]
    },
    {
     "name": "stderr",
     "output_type": "stream",
     "text": [
      "Both `max_new_tokens` (=100) and `max_length`(=100) seem to have been set. `max_new_tokens` will take precedence. Please refer to the documentation for more information. (https://huggingface.co/docs/transformers/main/en/main_classes/text_generation)\n"
     ]
    },
    {
     "name": "stdout",
     "output_type": "stream",
     "text": [
      "i think they need to do a better job advertising mental health services to students.Љ overall it seems like mental health is not a priority to the school, which is disappointing.  over all i think the counseling services are fine but i don't think they're well publicized at all, which should be a priority.  i think they need to have more counselors to accommodate all the students who need help.\n",
      "\n",
      "\n",
      "overall i think they're doing a good job, but it takes a really long time to\n"
     ]
    },
    {
     "name": "stderr",
     "output_type": "stream",
     "text": [
      "Both `max_new_tokens` (=100) and `max_length`(=100) seem to have been set. `max_new_tokens` will take precedence. Please refer to the documentation for more information. (https://huggingface.co/docs/transformers/main/en/main_classes/text_generation)\n"
     ]
    },
    {
     "name": "stdout",
     "output_type": "stream",
     "text": [
      "i would use counseling services if they were in person not on zoom because online i've had bad experiences.Ћ\n",
      "i feel like there needs to be a way for students to get therapy that is more accessible. a lot of people want therapy but can't afford it.\n",
      "i think there needs to be a way for students to get therapy that is more accessible. i know there is counseling at the student center but the amount of time that you can go is limited and it is only on tuesdays and thursdays from\n"
     ]
    },
    {
     "name": "stderr",
     "output_type": "stream",
     "text": [
      "Both `max_new_tokens` (=100) and `max_length`(=100) seem to have been set. `max_new_tokens` will take precedence. Please refer to the documentation for more information. (https://huggingface.co/docs/transformers/main/en/main_classes/text_generation)\n"
     ]
    },
    {
     "name": "stdout",
     "output_type": "stream",
     "text": [
      "n/a\n",
      "\n",
      "i am unaware of what services are provided by the school because i have not sought them out.  i think that the school should make it more clear what resources are provided and how to get them.  the counseling needs to be improved the most.  it is not easy to schedule an appointment and the counselors are not always available when you want them to be.  the counselors also lack experience which is a major reason why i don't seek out counseling.   the therapy needs a lot of improvement as well.  a lot of people\n"
     ]
    },
    {
     "name": "stderr",
     "output_type": "stream",
     "text": [
      "Both `max_new_tokens` (=100) and `max_length`(=100) seem to have been set. `max_new_tokens` will take precedence. Please refer to the documentation for more information. (https://huggingface.co/docs/transformers/main/en/main_classes/text_generation)\n"
     ]
    },
    {
     "name": "stdout",
     "output_type": "stream",
     "text": [
      "counselors need to be more diverse, as i've already mentioned.\n",
      "my visits to caps in fall 2019 were practically useless although i was on the brink of a mental health disaster in my life. thankfully, i fixed my problems with the help of friends, family, and even strangers over the semester i took off in fall 2020. this was only because those people truly understood my non-generic problems and were willing to give me time. they were willing to walk alongside me with my every day activities.\n",
      "\n",
      "maybe matching students who can help each other and both can actually give time of the day to each other might be also a good solution.\n",
      "\n",
      "another essential is having more counselors. i think being told to come back 14 days later is an absolute red flag.  willing to help.\n",
      "i wish that the counselors here were more diverse because it makes me uncomfortable and i'm sure many other students feel the same way that i do. they need to have a diverse staff because i know that many students of color do not feel comfortable visiting counselors here due to their lack of diversity and that they feel more comfortable visiting counseling services that are more diverse.\n",
      "i wish that counseling services were more flexible\n"
     ]
    },
    {
     "name": "stderr",
     "output_type": "stream",
     "text": [
      "Both `max_new_tokens` (=100) and `max_length`(=100) seem to have been set. `max_new_tokens` will take precedence. Please refer to the documentation for more information. (https://huggingface.co/docs/transformers/main/en/main_classes/text_generation)\n"
     ]
    },
    {
     "name": "stdout",
     "output_type": "stream",
     "text": [
      "none, psychologist and therapist appointments are months out and if you go to them saying you're in an emergency you're locked up in the pysch ward for 72 hours with no beds, food, or phone access to call for help..  i ended up going to urgent care and spending my own money at a private facility because i couldn't get help anywhere.\n",
      "not enough staff, too focused on diagnosing rather than just listening and helping.  also, they don't have any providers specializing in trauma (aside from ptsd) which was a bit disappointing given the campus focus on trauma informed care.  it also seems that they are more focused on out patient than\n"
     ]
    },
    {
     "name": "stderr",
     "output_type": "stream",
     "text": [
      "Both `max_new_tokens` (=100) and `max_length`(=100) seem to have been set. `max_new_tokens` will take precedence. Please refer to the documentation for more information. (https://huggingface.co/docs/transformers/main/en/main_classes/text_generation)\n"
     ]
    },
    {
     "name": "stdout",
     "output_type": "stream",
     "text": [
      "counselors are always available. sometimes it is hard for students to reach out first. the school should make it more normal. \n",
      "\n",
      "more normalized, more open, more accessible, more supportive. \n",
      "\n",
      "more supportive, especially for students of color and those with low incomes. more accessible, especially for those who need more immediate help.\n",
      "more normalized, especially for students who are not used to seeking help from counseling. more open, especially for students who feel they won't be taken seriously or that counselors will judge them.\n"
     ]
    },
    {
     "name": "stderr",
     "output_type": "stream",
     "text": [
      "Both `max_new_tokens` (=100) and `max_length`(=100) seem to have been set. `max_new_tokens` will take precedence. Please refer to the documentation for more information. (https://huggingface.co/docs/transformers/main/en/main_classes/text_generation)\n"
     ]
    },
    {
     "name": "stdout",
     "output_type": "stream",
     "text": [
      "i like the counseling sessions where you speak with another student who is on campus and can help direct you to resources on campus. i feel like more people should go because there is a wide variety of resources that they could be directed to. \n",
      "\n",
      "more of a personal thing is that i don't really like my adviser. \n",
      "\n",
      "i know that the college is expanding the amount of staff that it has, so this is definitely a good thing. \n",
      "\n",
      "overall, i feel like there could be more staff on campus in terms of advisers\n"
     ]
    },
    {
     "name": "stderr",
     "output_type": "stream",
     "text": [
      "Both `max_new_tokens` (=100) and `max_length`(=100) seem to have been set. `max_new_tokens` will take precedence. Please refer to the documentation for more information. (https://huggingface.co/docs/transformers/main/en/main_classes/text_generation)\n"
     ]
    },
    {
     "name": "stdout",
     "output_type": "stream",
     "text": [
      "i think it would be helpful if they advertise any mental health support options they do have more.հանը ուսուցութեայմեն հարցությունը համար հակիր է այլ հասցանոցների տում կարող էր առողջացնել միան\n"
     ]
    },
    {
     "name": "stderr",
     "output_type": "stream",
     "text": [
      "Both `max_new_tokens` (=100) and `max_length`(=100) seem to have been set. `max_new_tokens` will take precedence. Please refer to the documentation for more information. (https://huggingface.co/docs/transformers/main/en/main_classes/text_generation)\n"
     ]
    },
    {
     "name": "stdout",
     "output_type": "stream",
     "text": [
      "they have a virtual counseling service which i think works well for people with anxiety about going into a physical counseling space. \n",
      "\n",
      "more resources for physical counseling would be good, but it's not the college's job to provide those. \n",
      "\n",
      "the counseling staff is very understanding and will work with students.\n",
      "\n",
      "i don't think they could do better. it's just a small school and they don't have the budget for more staff. if the college increased their funding, maybe they could.\n",
      "\n",
      "i have not seen it be improved.\n",
      "\n",
      "over\n"
     ]
    },
    {
     "name": "stderr",
     "output_type": "stream",
     "text": [
      "Both `max_new_tokens` (=100) and `max_length`(=100) seem to have been set. `max_new_tokens` will take precedence. Please refer to the documentation for more information. (https://huggingface.co/docs/transformers/main/en/main_classes/text_generation)\n"
     ]
    },
    {
     "name": "stdout",
     "output_type": "stream",
     "text": [
      "none i’ve been to health counselling several times and the counsellor always ends up leaving cwru after a year. or i just don’t match well with the counsellor \n",
      "there needs to be a more diversity of counsellors. especially for students of colour. i have never seen anyone who looks like me at that office. and i’ve been there so many times. maybe they are just not trained to handle my type of issues. but i’ve been there like 4 times and never once was i referred to another counsellor for a different perspective. i felt like every time i talked to them it was the same conversation over over\n"
     ]
    },
    {
     "name": "stderr",
     "output_type": "stream",
     "text": [
      "Both `max_new_tokens` (=100) and `max_length`(=100) seem to have been set. `max_new_tokens` will take precedence. Please refer to the documentation for more information. (https://huggingface.co/docs/transformers/main/en/main_classes/text_generation)\n"
     ]
    },
    {
     "name": "stdout",
     "output_type": "stream",
     "text": [
      "i have never used any services at rctc, i seek help elsewhere.Ъ_1156415436.\n",
      "more staff, more knowledge, more resources, better training.\n",
      "the staff is great, but there is a limited amount, so the college should expand it.\n",
      "it should be available online too, as many students are taking classes from home nowadz.\n",
      "more knowledge, more staff, more resources, better training, open 24 hours.\n",
      "a college therapist.\n",
      "more staff, more resources, better\n"
     ]
    },
    {
     "name": "stderr",
     "output_type": "stream",
     "text": [
      "Both `max_new_tokens` (=100) and `max_length`(=100) seem to have been set. `max_new_tokens` will take precedence. Please refer to the documentation for more information. (https://huggingface.co/docs/transformers/main/en/main_classes/text_generation)\n"
     ]
    },
    {
     "name": "stdout",
     "output_type": "stream",
     "text": [
      "i have consistently been very pleased with the mental health support that uwrf has provided me. the one thing that i wish that you guys would do is establish and maintain connections with local deliverance ministries so that people like me would know which ministries are available. i know of at least one person that is looking for a mental health professional that would be christian and they do not know where to even begin to look.  it is not easy to find mental health professionals that are also christian.  also, i have been asked by at least one person that i know who struggles with mental health if i could recommend a mental health professional and it was extremely difficult to find one that is both licensed and who is also a born again christian\n"
     ]
    },
    {
     "name": "stderr",
     "output_type": "stream",
     "text": [
      "Both `max_new_tokens` (=100) and `max_length`(=100) seem to have been set. `max_new_tokens` will take precedence. Please refer to the documentation for more information. (https://huggingface.co/docs/transformers/main/en/main_classes/text_generation)\n"
     ]
    },
    {
     "name": "stdout",
     "output_type": "stream",
     "text": [
      "caps is kinda diverse, but we could use more people because they're so slow in replying. (also i have a tough time reaching out lol) \n",
      "\n",
      "as a college student who struggles with her mental health and has a hard time reaching people, i wish we had more staff. i'm not knocking the staff we have, but i do think it would help if we had a little more. i think there should be people available to talk 24/7 so people don't have to wait to talk to another student the next\n"
     ]
    },
    {
     "name": "stderr",
     "output_type": "stream",
     "text": [
      "Both `max_new_tokens` (=100) and `max_length`(=100) seem to have been set. `max_new_tokens` will take precedence. Please refer to the documentation for more information. (https://huggingface.co/docs/transformers/main/en/main_classes/text_generation)\n"
     ]
    },
    {
     "name": "stdout",
     "output_type": "stream",
     "text": [
      "while it’s not talked about much in ways such as emails, professors often provide links to learn so i appreciate that.Љ they can be more accessible by sending emails to direct people where to find it or how to get it \n",
      "\n",
      "though they should also send a follow up after the grade is posted to let people know they can get it after the fact.\n",
      "\n",
      "\n",
      "\n",
      "i think it could use more resources. there is only so much they can do when the colleges restrict them. \n",
      "\n",
      "\n",
      "\n",
      "while it’s not talked about often, they have a good variety of tutors that you\n"
     ]
    },
    {
     "name": "stderr",
     "output_type": "stream",
     "text": [
      "Both `max_new_tokens` (=100) and `max_length`(=100) seem to have been set. `max_new_tokens` will take precedence. Please refer to the documentation for more information. (https://huggingface.co/docs/transformers/main/en/main_classes/text_generation)\n"
     ]
    },
    {
     "name": "stdout",
     "output_type": "stream",
     "text": [
      "i think it could have more staff to tell everyone about what is mental health and when do you need it.\n",
      "\n",
      "i think they could have more staff that could direct people to therapy if they feel like they need it, but don't know how to get it.\n",
      "\n",
      "i think that the college should have a directory or someone who is able to direct students on where to go.\n",
      "\n",
      "i have been to therapy before and it has helped. i wish that my counselors were also able to direct me to therapy because it has helped me a lot.\n",
      "\n",
      "i\n"
     ]
    },
    {
     "name": "stderr",
     "output_type": "stream",
     "text": [
      "Both `max_new_tokens` (=100) and `max_length`(=100) seem to have been set. `max_new_tokens` will take precedence. Please refer to the documentation for more information. (https://huggingface.co/docs/transformers/main/en/main_classes/text_generation)\n"
     ]
    },
    {
     "name": "stdout",
     "output_type": "stream",
     "text": [
      "honestly i don't know because i have not used the resources but pet therapy has been awesome.. i think it could be improved if it was expanded upon \n",
      "\n",
      "but i don't know how \n",
      "\n",
      "\n",
      "i think more advertisment of services should be advertised and maybe more groups offered? i don't know what is offered but more expansion of it seems like it would be helpful. \n",
      "\n",
      "\n",
      "i think people who are suffering should seek help more often? \n",
      "\n",
      "\n",
      "i think the college does an excellent job in terms of advertisement for services\n"
     ]
    },
    {
     "name": "stderr",
     "output_type": "stream",
     "text": [
      "Both `max_new_tokens` (=100) and `max_length`(=100) seem to have been set. `max_new_tokens` will take precedence. Please refer to the documentation for more information. (https://huggingface.co/docs/transformers/main/en/main_classes/text_generation)\n"
     ]
    },
    {
     "name": "stdout",
     "output_type": "stream",
     "text": [
      "many students base assumptions on all staff based off of how we interact with the more common employees. everyone who works at the front desk is very polite and helpful. but me and many of my (typically female-identifying) peers have felt unsafe, judged, and nervous around and with the nurses in bishop wellness center. they tell you rudely all of the things you could have done to avoid this problem rather than assisting us with the problem now. .  there are also only two counselors available during their posted time. i don't know the logistics behind this but i would definitely benefit from more counseling options.  they are also only available on monday, wednesday, and fridays.  i have been lucky enough to not have experienced any bad things here so i don't know what to do to remedy any of this but hopefully they'll take this feedback to heart.  i\n"
     ]
    },
    {
     "name": "stderr",
     "output_type": "stream",
     "text": [
      "Both `max_new_tokens` (=100) and `max_length`(=100) seem to have been set. `max_new_tokens` will take precedence. Please refer to the documentation for more information. (https://huggingface.co/docs/transformers/main/en/main_classes/text_generation)\n"
     ]
    },
    {
     "name": "stdout",
     "output_type": "stream",
     "text": [
      "nothing is really working well. more flexibility when it comes to attendance and mental health. drs is helpful though. \n",
      "\n",
      "it's hard to get in with our on campus counseling services. we should have our own on site counseling. \n",
      "\n",
      "it would also be helpful to have a counselor at the athena center. \n",
      "\n",
      "more group counseling sessions would be helpful. \n",
      "\n",
      "more therapy dogs and puppies on campus would be great! \n",
      "\n",
      "it would be great to have a paws program at our campus!\n",
      "\n",
      "\n"
     ]
    },
    {
     "name": "stderr",
     "output_type": "stream",
     "text": [
      "Both `max_new_tokens` (=100) and `max_length`(=100) seem to have been set. `max_new_tokens` will take precedence. Please refer to the documentation for more information. (https://huggingface.co/docs/transformers/main/en/main_classes/text_generation)\n"
     ]
    },
    {
     "name": "stdout",
     "output_type": "stream",
     "text": [
      "i would say the access to help during the day is beneficial however there needs to be 24 hour help as well because not everyone can make time during the day to use the services. (also there should have a way that the students are able to get the help without leaving the campus to go to another facility because it is a lot easier to just go to the wellness centers on campus than go off campus) \n",
      "\n",
      "they also need to have more staff available because they get a lot of students who they are seeing and i'm sure a lot of the staff have a cap on how\n"
     ]
    },
    {
     "name": "stderr",
     "output_type": "stream",
     "text": [
      "Both `max_new_tokens` (=100) and `max_length`(=100) seem to have been set. `max_new_tokens` will take precedence. Please refer to the documentation for more information. (https://huggingface.co/docs/transformers/main/en/main_classes/text_generation)\n"
     ]
    },
    {
     "name": "stdout",
     "output_type": "stream",
     "text": [
      "i like the availability of counseling and that it is at no charge — though have not used the service.  i also appreciate having someone on staff whose job it is to connect students with services. not everything should be done at the college, though.  some things should be referred to the community. i think that could be improved.  i think the college can do a better job of letting students know about the services that are available and who to talk to when they're experiencing a wide variety of issues.  i'm not sure if that falls under the mental health department?  i\n"
     ]
    },
    {
     "name": "stderr",
     "output_type": "stream",
     "text": [
      "Both `max_new_tokens` (=100) and `max_length`(=100) seem to have been set. `max_new_tokens` will take precedence. Please refer to the documentation for more information. (https://huggingface.co/docs/transformers/main/en/main_classes/text_generation)\n"
     ]
    },
    {
     "name": "stdout",
     "output_type": "stream",
     "text": [
      "i enjoy the pet therapy program and i believe that works well, i believe the campus needs more long term therapy options and an in office psychiatrist. \n",
      "\n",
      "\n",
      "i would recommend that the campus have more of a long term therapy options and a psychiatrist on staff. \n",
      "\n",
      "\n",
      "i think the mental health and wellness needs more attention and more resources. the campus should consider having a psychiatrist and a counselor on campus.\n",
      "\n",
      "\n",
      "i think there needs to be more counseling sessions and more staff. \n",
      "\n",
      "\n",
      "i feel that the college should hire more counselors/therap\n"
     ]
    },
    {
     "name": "stderr",
     "output_type": "stream",
     "text": [
      "Both `max_new_tokens` (=100) and `max_length`(=100) seem to have been set. `max_new_tokens` will take precedence. Please refer to the documentation for more information. (https://huggingface.co/docs/transformers/main/en/main_classes/text_generation)\n"
     ]
    },
    {
     "name": "stdout",
     "output_type": "stream",
     "text": [
      "telehealth is working well but we need more support on campus for students who want to  talk to someone in person.Ъ\n",
      "\n",
      "\n",
      "\n",
      "\n",
      "\n",
      "\n",
      "more support is needed. \n",
      "\n",
      "\n",
      "\n",
      "\n",
      "\n",
      "\n",
      "\n",
      "10\n",
      "\n",
      "\n",
      "10\n",
      "\n",
      "\n",
      "3\n",
      "\n",
      "6\n",
      "\n",
      "\n",
      "8\n",
      "\n",
      "\n",
      "12\n",
      "\n",
      "34\n",
      "\n",
      "14\n",
      "\n",
      "7\n",
      "\n",
      "2\n",
      "\n",
      "4\n",
      "\n",
      "5\n",
      "\n",
      "3\n",
      "\n",
      "8\n",
      "\n",
      "\n",
      "10\n",
      "\n",
      "\n",
      "27\n",
      "\n",
      "19\n",
      "\n",
      "4\n",
      "\n",
      "10\n",
      "\n",
      "\n",
      "10\n",
      "\n",
      "\n"
     ]
    },
    {
     "name": "stderr",
     "output_type": "stream",
     "text": [
      "Both `max_new_tokens` (=100) and `max_length`(=100) seem to have been set. `max_new_tokens` will take precedence. Please refer to the documentation for more information. (https://huggingface.co/docs/transformers/main/en/main_classes/text_generation)\n"
     ]
    },
    {
     "name": "stdout",
     "output_type": "stream",
     "text": [
      "i don't know what's provided, therefore i think the services and programs should work on being more visible. \n",
      "\n",
      "\n",
      "\n",
      "more resources for group therapy should be provided, and also more support in being able to get diagnosis from the university and not outside of it.\n",
      "\n",
      "\n",
      "\n",
      "\n",
      "\n",
      "\n",
      "\n",
      "\n",
      "\n",
      "\n",
      "\n",
      "\n",
      "\n",
      "\n",
      "\n",
      "\n",
      "\n",
      "\n",
      "\n",
      "\n",
      "\n",
      "\n",
      "\n",
      "\n",
      "\n",
      "\n",
      "\n",
      "\n",
      "\n",
      "\n",
      "\n",
      "\n",
      "\n",
      "\n",
      "\n",
      "\n",
      "\n",
      "\n",
      "\n",
      "\n",
      "\n",
      "\n",
      "\n",
      "\n",
      "\n",
      "\n",
      "\n",
      "\n",
      "\n",
      "\n",
      "\n",
      "\n",
      "\n",
      "\n",
      "\n",
      "\n",
      "\n",
      "\n",
      "\n",
      "\n",
      "\n",
      "\n",
      "\n",
      "\n",
      "\n"
     ]
    },
    {
     "name": "stderr",
     "output_type": "stream",
     "text": [
      "Both `max_new_tokens` (=100) and `max_length`(=100) seem to have been set. `max_new_tokens` will take precedence. Please refer to the documentation for more information. (https://huggingface.co/docs/transformers/main/en/main_classes/text_generation)\n"
     ]
    },
    {
     "name": "stdout",
     "output_type": "stream",
     "text": [
      "there shouldn’t be a limit on the number of mental health service appointments a student can make \n",
      "\n",
      "as a student, i struggle with social anxiety so i find that even when i know the campus map and buildings like the back of my hand, i still get lost when i’m going from one building to another. i’ve considered buying a map but i don’t want to carry the map around because it will take up space in my bag and will also weigh down my arms. so there needs to be more signage throughout the campus to help guide students to\n"
     ]
    },
    {
     "name": "stderr",
     "output_type": "stream",
     "text": [
      "Both `max_new_tokens` (=100) and `max_length`(=100) seem to have been set. `max_new_tokens` will take precedence. Please refer to the documentation for more information. (https://huggingface.co/docs/transformers/main/en/main_classes/text_generation)\n"
     ]
    },
    {
     "name": "stdout",
     "output_type": "stream",
     "text": [
      "i think our staff is great, just limited in time. appointments are booked out months in advance.  i think it's because they're good that they're booked.  we need money to hire more staff.  that's the only thing i can think of.  our services are great, but they're limited in capacity.\n",
      "i think more money needs to be allocated towards our services so the wait times can be reduced.  also, more staff need to be hired so more people can be seen.\n",
      "the college needs more money to hire more\n"
     ]
    },
    {
     "name": "stderr",
     "output_type": "stream",
     "text": [
      "Both `max_new_tokens` (=100) and `max_length`(=100) seem to have been set. `max_new_tokens` will take precedence. Please refer to the documentation for more information. (https://huggingface.co/docs/transformers/main/en/main_classes/text_generation)\n"
     ]
    },
    {
     "name": "stdout",
     "output_type": "stream",
     "text": [
      "i know there is an oncampus therapist, they can do a better job spreading the word about what’s available \n",
      "\n",
      "i like the resources that the school provides, more advertisements should be done so that other students know there is help available on campus \n",
      "\n",
      "there should be more options for people, maybe a counselor, a therapist, and a psychologist. \n",
      "\n",
      "i think the resources that the school provides are adequate, more advertisements should be done so that other students know there is help available on campus \n",
      "\n",
      "more staff needs to be hired\n"
     ]
    },
    {
     "name": "stderr",
     "output_type": "stream",
     "text": [
      "Both `max_new_tokens` (=100) and `max_length`(=100) seem to have been set. `max_new_tokens` will take precedence. Please refer to the documentation for more information. (https://huggingface.co/docs/transformers/main/en/main_classes/text_generation)\n"
     ]
    },
    {
     "name": "stdout",
     "output_type": "stream",
     "text": [
      "it's nice that it's pretty easy to schedule appointments but sometimes they aren't available when i need them and it's tough to get referrals, especially when they're so difficult to get in the first place. \n",
      "\n",
      "it would be nice if they were more proactive, like contacting students and reaching out when they could see a student could use some extra support, rather than relying on the student to bring up their concerns. \n",
      "\n",
      "more resources would definitely help in some situations. \n",
      "\n",
      "i think there should be more options for individual\n"
     ]
    },
    {
     "name": "stderr",
     "output_type": "stream",
     "text": [
      "Both `max_new_tokens` (=100) and `max_length`(=100) seem to have been set. `max_new_tokens` will take precedence. Please refer to the documentation for more information. (https://huggingface.co/docs/transformers/main/en/main_classes/text_generation)\n"
     ]
    },
    {
     "name": "stdout",
     "output_type": "stream",
     "text": [
      "i think they do work well, i just wish there wasn't a limit on how many therapy appointments you can get in a semester. (especially if you need more after the limit) 5 should definitely be the minimum for each semester, but that's just my opinion though. 446\n",
      "i would say the only thing that i wish had more coverage is anxiety. 409\n",
      "i would say that my experience with the wellness centre needs some work. 312\n",
      "i don’t know about other people, but i personally don’t seek out help from on-\n"
     ]
    },
    {
     "name": "stderr",
     "output_type": "stream",
     "text": [
      "Both `max_new_tokens` (=100) and `max_length`(=100) seem to have been set. `max_new_tokens` will take precedence. Please refer to the documentation for more information. (https://huggingface.co/docs/transformers/main/en/main_classes/text_generation)\n"
     ]
    },
    {
     "name": "stdout",
     "output_type": "stream",
     "text": [
      "expertise - i felt like i was talking to myself and solving my problems because my therapist didn’t give a professional opinion at a time when i thought i had many things wrong with me and needed clarity. \n",
      "\n",
      "staff responsiveness - i felt like the people on the hotline weren’t helpful because they didn’t give me what i needed and didn’t seem like they wanted to help. they didn’t seem to care. \n",
      "\n",
      "helpfulness - i didn’t really get a sense of helpfulness or lack thereof, but i think i could have done much better if my therapist had been more helpful. she didn’t give me a sense\n"
     ]
    },
    {
     "name": "stderr",
     "output_type": "stream",
     "text": [
      "Both `max_new_tokens` (=100) and `max_length`(=100) seem to have been set. `max_new_tokens` will take precedence. Please refer to the documentation for more information. (https://huggingface.co/docs/transformers/main/en/main_classes/text_generation)\n"
     ]
    },
    {
     "name": "stdout",
     "output_type": "stream",
     "text": [
      "there are some counselors available which is good, but not nearly enough.. \n",
      "\n",
      "they need more counselors and make it easier for students to see them. it's a struggle to make an appointment, and they can't accommodate many students. \n",
      "\n",
      "they also need counselors who are more diverse. i have had a lot of counselors, and i have never had a counselor who is a person of color, which is a huge issue when there are so many POC that need counseling.\n",
      "\n",
      "\n"
     ]
    },
    {
     "name": "stderr",
     "output_type": "stream",
     "text": [
      "Both `max_new_tokens` (=100) and `max_length`(=100) seem to have been set. `max_new_tokens` will take precedence. Please refer to the documentation for more information. (https://huggingface.co/docs/transformers/main/en/main_classes/text_generation)\n"
     ]
    },
    {
     "name": "stdout",
     "output_type": "stream",
     "text": [
      "they do a good job providing training with where to access and how to provide service.հասար ու մարդահայեքը դրա վերձնում են համիրեր այրին դասանային հանդիսությունները ներկայան օրը ֆա\n"
     ]
    },
    {
     "name": "stderr",
     "output_type": "stream",
     "text": [
      "Both `max_new_tokens` (=100) and `max_length`(=100) seem to have been set. `max_new_tokens` will take precedence. Please refer to the documentation for more information. (https://huggingface.co/docs/transformers/main/en/main_classes/text_generation)\n"
     ]
    },
    {
     "name": "stdout",
     "output_type": "stream",
     "text": [
      "medical care and pharmacy services are good, but mental health is inaccessible and has bad rep \n",
      "/commission on campus that helps you navigate campus resources should be expanded \n",
      "\n",
      "\n",
      "\n",
      "\n",
      "\n",
      "\n",
      "\n",
      "\n",
      "\n",
      "\n",
      "\n",
      "\n",
      "\n",
      "\n",
      "\n",
      "\n",
      "\n",
      "\n",
      "\n",
      "\n",
      "\n",
      "\n",
      "\n",
      "\n",
      "\n",
      "\n",
      "\n",
      "\n",
      "\n",
      "\n",
      "\n",
      "\n",
      "\n",
      "\n",
      "\n",
      "\n",
      "\n",
      "\n",
      "\n",
      "\n",
      "\n",
      "\n",
      "\n",
      "\n",
      "\n",
      "\n",
      "\n",
      "\n",
      "\n",
      "\n",
      "\n",
      "\n",
      "\n",
      "\n",
      "\n",
      "\n",
      "\n",
      "\n",
      " \n",
      "\n",
      "\n",
      "\n",
      "\n",
      " \n",
      "\n",
      "\n",
      "\n",
      "\n",
      "\n",
      " \n",
      "\n",
      "\n",
      "\n",
      "\n",
      "\n",
      "\n",
      "\n",
      "\n",
      "\n"
     ]
    },
    {
     "name": "stderr",
     "output_type": "stream",
     "text": [
      "Both `max_new_tokens` (=100) and `max_length`(=100) seem to have been set. `max_new_tokens` will take precedence. Please refer to the documentation for more information. (https://huggingface.co/docs/transformers/main/en/main_classes/text_generation)\n"
     ]
    },
    {
     "name": "stdout",
     "output_type": "stream",
     "text": [
      "ccph is understaffed and underfunded to serve the entire umass community. the programs in place are advertised to students, but the therapy itself is largely inaccessible and unprofessional.  there's no real way to know ahead of time which therapist you'll get, and some therapists are completely unhelpful, inexperienced, and/or untrained (e.g., graduate students) which can make things even more unhelpful than they are already.  there's little oversight of the quality of services provided, and it's nearly impossible to get a referral or get a diagnosis from the college\n"
     ]
    },
    {
     "name": "stderr",
     "output_type": "stream",
     "text": [
      "Both `max_new_tokens` (=100) and `max_length`(=100) seem to have been set. `max_new_tokens` will take precedence. Please refer to the documentation for more information. (https://huggingface.co/docs/transformers/main/en/main_classes/text_generation)\n"
     ]
    },
    {
     "name": "stdout",
     "output_type": "stream",
     "text": [
      "everything is working well and bgsu addresses every mental health concern equally. (from personal experience) however, there is a shortage of therapists.  it takes 2-3 months just to get in the first appointment which is not ideal at all.  although there are plenty of therapists, they are not covered by insurances including bgsu. i'm on my second year here and i'm still on my waiting list.  this is a major issue and should be addressed. i would recommend at least having 3-4\n"
     ]
    },
    {
     "name": "stderr",
     "output_type": "stream",
     "text": [
      "Both `max_new_tokens` (=100) and `max_length`(=100) seem to have been set. `max_new_tokens` will take precedence. Please refer to the documentation for more information. (https://huggingface.co/docs/transformers/main/en/main_classes/text_generation)\n"
     ]
    },
    {
     "name": "stdout",
     "output_type": "stream",
     "text": [
      "i wish there were more counseling in person appointments with a therapist. it is hard to schedule an appointment and hard to find one that aligns with your needs \n",
      "\n",
      "as far as the services go, they are fine. they are able to connect you with a provider and they are able to refer you. it is more getting to the point that they can refer you. i am not sure if it is because there are not enough counselors or what is the cause. although, i have been able to get a referral and it is working out. \n",
      "\n",
      "overall, the services are good. if you can get in, it is\n"
     ]
    },
    {
     "name": "stderr",
     "output_type": "stream",
     "text": [
      "Both `max_new_tokens` (=100) and `max_length`(=100) seem to have been set. `max_new_tokens` will take precedence. Please refer to the documentation for more information. (https://huggingface.co/docs/transformers/main/en/main_classes/text_generation)\n"
     ]
    },
    {
     "name": "stdout",
     "output_type": "stream",
     "text": [
      "i know we have the wellness center but i have not used it. from my friends that have i hear staffing is the biggest issue since there are so many students and not enough counselors. 2. what is the most common reason students use mental health services? 3. what is the one thing that needs to be improved about mental health services the most? (i'm sure there are more but i'm limited by the number of questions allowed) 4. what can be done to make mental health services more accessible to student athletes? 5. what can be done to improve the availability of group therapy? 6. what are some things you would\n"
     ]
    },
    {
     "name": "stderr",
     "output_type": "stream",
     "text": [
      "Both `max_new_tokens` (=100) and `max_length`(=100) seem to have been set. `max_new_tokens` will take precedence. Please refer to the documentation for more information. (https://huggingface.co/docs/transformers/main/en/main_classes/text_generation)\n"
     ]
    },
    {
     "name": "stdout",
     "output_type": "stream",
     "text": [
      "people would always talk about how caps is there for you, but it feels distant. \n",
      "\n",
      "when i went in, the person who helped me was really kind and she made sure to listen to me and talk things through with me.\n",
      "\n",
      "i would say the experience is more of getting a referral instead of therapy.\n",
      "\n",
      "i was referred to a therapist off campus and i never heard from that therapist.\n",
      "\n",
      "\n",
      "i feel like there needs to be more advertising on where to get mental health help on and off campus.\n",
      "\n",
      "i didn\n"
     ]
    },
    {
     "name": "stderr",
     "output_type": "stream",
     "text": [
      "Both `max_new_tokens` (=100) and `max_length`(=100) seem to have been set. `max_new_tokens` will take precedence. Please refer to the documentation for more information. (https://huggingface.co/docs/transformers/main/en/main_classes/text_generation)\n"
     ]
    },
    {
     "name": "stdout",
     "output_type": "stream",
     "text": [
      "there is a counselor and an online quiz thing. i'm an online student, so maybe they can expand that. i don't feel like i would ever get help from them, although i know they are probably overworked and underpaid. they are a great resource for those who need it, though. 12/26/2021\n",
      "i am not aware of any mental health services.\n",
      "i think there should be more.\n",
      "i have had no personal experience with them. 09/02/2022\n"
     ]
    },
    {
     "name": "stderr",
     "output_type": "stream",
     "text": [
      "Both `max_new_tokens` (=100) and `max_length`(=100) seem to have been set. `max_new_tokens` will take precedence. Please refer to the documentation for more information. (https://huggingface.co/docs/transformers/main/en/main_classes/text_generation)\n"
     ]
    },
    {
     "name": "stdout",
     "output_type": "stream",
     "text": [
      "students shouldn't be put on a waitlist for months when they apply for student counseling. there should be enough staff to provide students with immediate help.  also, there should be a way for students to talk to someone 24/7, because sometimes people need help during the day and it's not feasible to go talk to a therapist during their normal hours.  i think having a 24/7 therapist would greatly benefit students, and it wouldn't be so scary for them to know they can go at anytime and get immediate help.  also, student health services should be more\n"
     ]
    },
    {
     "name": "stderr",
     "output_type": "stream",
     "text": [
      "Both `max_new_tokens` (=100) and `max_length`(=100) seem to have been set. `max_new_tokens` will take precedence. Please refer to the documentation for more information. (https://huggingface.co/docs/transformers/main/en/main_classes/text_generation)\n"
     ]
    },
    {
     "name": "stdout",
     "output_type": "stream",
     "text": [
      "it is fairly easy to get in for an intake appointment. there are usually opening within a week or so. the therapists are nice, but i do feel as though the counseling is too general. it should be geared more specifically towards the student body. \n",
      "\n",
      "overall i do appreciate that they offer free therapy for students, but i think it should be improved. \n",
      "\n",
      "\n",
      "\n",
      "\n",
      "\n",
      "\n",
      "\n",
      "\n",
      "\n",
      "\n",
      "\n",
      "\n",
      "\n",
      "\n",
      "\n",
      "\n",
      "\n",
      "\n",
      "\n",
      "\n",
      "\n",
      "\n",
      "\n",
      "\n",
      "\n",
      "\n",
      "\n",
      "\n",
      "\n",
      "\n",
      "\n",
      "\n",
      "\n",
      "\n",
      "\n",
      "\n",
      "\n",
      "\n",
      "\n",
      "\n",
      "\n"
     ]
    },
    {
     "name": "stderr",
     "output_type": "stream",
     "text": [
      "Both `max_new_tokens` (=100) and `max_length`(=100) seem to have been set. `max_new_tokens` will take precedence. Please refer to the documentation for more information. (https://huggingface.co/docs/transformers/main/en/main_classes/text_generation)\n"
     ]
    },
    {
     "name": "stdout",
     "output_type": "stream",
     "text": [
      "i think virtual counseling/telecounseling through zoom has been extremely helpful because more students are willing to seek help when they don’t have to meet the counselor in person due to anxiety and other reasons. (although i think some counselors could do a little better when setting up zoom meetings. some counselors schedule the meetings and tell the students how to do it. they don’t offer any direction and it can be a little intimidating. \n",
      "i have not had personal experience with the on-campus counseling but i have heard that some students have had bad experiences with the counseling on campus. the college doesn’t offer any incent\n"
     ]
    },
    {
     "name": "stderr",
     "output_type": "stream",
     "text": [
      "Both `max_new_tokens` (=100) and `max_length`(=100) seem to have been set. `max_new_tokens` will take precedence. Please refer to the documentation for more information. (https://huggingface.co/docs/transformers/main/en/main_classes/text_generation)\n"
     ]
    },
    {
     "name": "stdout",
     "output_type": "stream",
     "text": [
      "i’ve never used any of the services but most students find the services provided by the university as extremely unhelpful. \n",
      "\n",
      "most often they’re sent to an outside clinic which costs a lot of money. and they’re not covered by financial aid which adds even more pressure. \n",
      "\n",
      "i think more awareness of on and off campus resources needs to be spread. \n",
      "\n",
      "uva also has a long wait time for an initial assessment so students often don't even know if they’re eligible for these resources to begin with before they have to wait another month just\n"
     ]
    },
    {
     "name": "stderr",
     "output_type": "stream",
     "text": [
      "Both `max_new_tokens` (=100) and `max_length`(=100) seem to have been set. `max_new_tokens` will take precedence. Please refer to the documentation for more information. (https://huggingface.co/docs/transformers/main/en/main_classes/text_generation)\n"
     ]
    },
    {
     "name": "stdout",
     "output_type": "stream",
     "text": [
      "i like that it exists. but i would love if it got expanded more to include a bigger staff to support more students. that way it would be more accessible  and feel less intimidating when you go in. i think that they could use more staff to make it more accessible and welcoming for students. i've heard from other students that there were not as many resources available when they went in, so maybe expanding that could be helpful. \n",
      "\n",
      "overall, i like that there are resources available and that there's no stigma or judgment for going. i think that expanding it to include more staff would help it feel\n"
     ]
    },
    {
     "name": "stderr",
     "output_type": "stream",
     "text": [
      "Both `max_new_tokens` (=100) and `max_length`(=100) seem to have been set. `max_new_tokens` will take precedence. Please refer to the documentation for more information. (https://huggingface.co/docs/transformers/main/en/main_classes/text_generation)\n"
     ]
    },
    {
     "name": "stdout",
     "output_type": "stream",
     "text": [
      "aspects that could be improved are availability. what they do well is crisis services. \n",
      "\n",
      "they don't do a good job with preventative work which is something they need to focus on more. \n",
      "\n",
      "overall i think the resources are decent they just need more staff to be able to provide more services. \n",
      "\n",
      "uhs could do a better job of reaching out to students and creating programs that are preventative rather than reactive. \n",
      "\n",
      "i'd recommend that they do outreach programs at all classes and have a counselor in\n"
     ]
    },
    {
     "name": "stderr",
     "output_type": "stream",
     "text": [
      "Both `max_new_tokens` (=100) and `max_length`(=100) seem to have been set. `max_new_tokens` will take precedence. Please refer to the documentation for more information. (https://huggingface.co/docs/transformers/main/en/main_classes/text_generation)\n"
     ]
    },
    {
     "name": "stdout",
     "output_type": "stream",
     "text": [
      "none work in my opinion. caps was unable to find me a therapist and my only request was a female therapist. so disappointing and embarrassing or penn.\n",
      "i think that the college does a good job of providing therapy options but it could be even more easily accessible. for example, when you go to the on campus services there isn't a way to set an appointment. you have to talk to a counselor first and then they'll give you a time. they could easily just have a time online for students to set an appointment that way they don't have to talk to a counselor beforehand and can just get\n"
     ]
    },
    {
     "name": "stderr",
     "output_type": "stream",
     "text": [
      "Both `max_new_tokens` (=100) and `max_length`(=100) seem to have been set. `max_new_tokens` will take precedence. Please refer to the documentation for more information. (https://huggingface.co/docs/transformers/main/en/main_classes/text_generation)\n"
     ]
    },
    {
     "name": "stdout",
     "output_type": "stream",
     "text": [
      "from my experience everything is working well. i think they would benefit from having more people staffed to help the students. the staff is super kind and i've never had any issues but they need more people. if they had more staff i wouldn't have to wait 2-3 weeks for an appointment. \n",
      "\n",
      "uva's wellness service needs to be improved. they should have more staff and be more accessible to students. they need to advertise more so students who may need mental health help are aware of the resources available. \n",
      "\n",
      "uva should offer group sessions or therapy\n"
     ]
    },
    {
     "name": "stderr",
     "output_type": "stream",
     "text": [
      "Both `max_new_tokens` (=100) and `max_length`(=100) seem to have been set. `max_new_tokens` will take precedence. Please refer to the documentation for more information. (https://huggingface.co/docs/transformers/main/en/main_classes/text_generation)\n"
     ]
    },
    {
     "name": "stdout",
     "output_type": "stream",
     "text": [
      "the group sessions for stress relief and meditation has worked great for me.\n",
      "i believe more individual telehealth options would be great. \n",
      "\n",
      "also, having more wellness coaches that aren't psychologists or therapists. i know many students, and i'm one of them, who would love to speak to a wellness coach or someone who is not a psychologist.\n",
      "\n",
      "i would really love to talk to a health professional who isn't a psychologist and a therapist. \n",
      "\n",
      "also, more health professionals, especially therapists. it takes forever to\n"
     ]
    },
    {
     "name": "stderr",
     "output_type": "stream",
     "text": [
      "Both `max_new_tokens` (=100) and `max_length`(=100) seem to have been set. `max_new_tokens` will take precedence. Please refer to the documentation for more information. (https://huggingface.co/docs/transformers/main/en/main_classes/text_generation)\n"
     ]
    },
    {
     "name": "stdout",
     "output_type": "stream",
     "text": [
      "i think we have had a really good counselor who is always willing to talk to students who are struggling \n",
      "\n",
      "i think we can improve on our therapy options for students. it seems like we are limited to only individual therapy, which may not be the best fit for some students.\n",
      "\n",
      "## Recommendation\n",
      "\n",
      "\n",
      "we need to expand our mental health resources. we need to have more counselors so that students can have more frequent therapy sessions. we also need to have more options for therapy, such as group therapy, because some students may not be comfortable\n"
     ]
    },
    {
     "name": "stderr",
     "output_type": "stream",
     "text": [
      "Both `max_new_tokens` (=100) and `max_length`(=100) seem to have been set. `max_new_tokens` will take precedence. Please refer to the documentation for more information. (https://huggingface.co/docs/transformers/main/en/main_classes/text_generation)\n"
     ]
    },
    {
     "name": "stdout",
     "output_type": "stream",
     "text": [
      "most of my experiences with these services were in 2019, when i was really struggling with depression and anxiety. i was told that there weren't enough resources to really help me, and to try and find a therapist off campus. i feel as though umass does a great job advertising, but it's hard to know that you'll get actual support when you need it. i think they just need more therapists overall and ones that specialize in what each student needs. i went to one therapist off campus and found that she was not the right fit. i was referred to another therapist, and they were able to pinpoint that i needed medication. i was able to get a prescription from the campus health center, but it was a hassle that i didn't need. the campus health center should make it easier to\n"
     ]
    },
    {
     "name": "stderr",
     "output_type": "stream",
     "text": [
      "Both `max_new_tokens` (=100) and `max_length`(=100) seem to have been set. `max_new_tokens` will take precedence. Please refer to the documentation for more information. (https://huggingface.co/docs/transformers/main/en/main_classes/text_generation)\n"
     ]
    },
    {
     "name": "stdout",
     "output_type": "stream",
     "text": [
      "i have not been too concerned with the college’s mental health program since i work for the state and live in lincoln, both of which also have programs.Љ \n",
      "i think there should be more advertising for the college’s mental health program. \n",
      "\n",
      "### more individual counseling appointments\n",
      "\n",
      "more individual counseling appointments would be better than more group therapy appointments since i don’t think group therapy helps as much. \n",
      "\n",
      "### more support groups\n",
      "\n",
      "more support groups would also help more people. \n",
      "\n",
      "#### support groups for different demographics of people\n",
      "\n",
      "support groups\n"
     ]
    },
    {
     "name": "stderr",
     "output_type": "stream",
     "text": [
      "Both `max_new_tokens` (=100) and `max_length`(=100) seem to have been set. `max_new_tokens` will take precedence. Please refer to the documentation for more information. (https://huggingface.co/docs/transformers/main/en/main_classes/text_generation)\n"
     ]
    },
    {
     "name": "stdout",
     "output_type": "stream",
     "text": [
      "sails department for special needs students and online students are a great asset for asu and more attention is needed to maintain good standards with them and also look to expand and help more students. \n",
      "\n",
      "i think more staff is a great resource and that aspect of asu is really well developed. i think more staff and more money for counseling is needed, especially for students of color, who have a higher chance of being targeted and are likely to need more assistance with these situations. \n",
      "a better online course system is needed. asu's online courses aren't really online courses and are more like hybrid\n"
     ]
    },
    {
     "name": "stderr",
     "output_type": "stream",
     "text": [
      "Both `max_new_tokens` (=100) and `max_length`(=100) seem to have been set. `max_new_tokens` will take precedence. Please refer to the documentation for more information. (https://huggingface.co/docs/transformers/main/en/main_classes/text_generation)\n"
     ]
    },
    {
     "name": "stdout",
     "output_type": "stream",
     "text": [
      "nothing works as well as it should.  we need more counselors and psychologists who will help and not collect an hourly coin as my friends share their issues with no guidance or resolve.  i would say the wellness center is doing okay. they need more staff.  it's hard to schedule an appointment and they are often cancelled last minute.  i know my friends who have went and they say the advice given was good, but they don't want to go because of the long lines to get an appointment.  there should be a way to get an appt online for those who don't want to make the drive, but it's a good\n"
     ]
    },
    {
     "name": "stderr",
     "output_type": "stream",
     "text": [
      "Both `max_new_tokens` (=100) and `max_length`(=100) seem to have been set. `max_new_tokens` will take precedence. Please refer to the documentation for more information. (https://huggingface.co/docs/transformers/main/en/main_classes/text_generation)\n"
     ]
    },
    {
     "name": "stdout",
     "output_type": "stream",
     "text": [
      "on site counselors\n",
      "\n",
      "activities scheduled throughout week like therapy dogs on campus that help reduce stress\n",
      "\n",
      "more on campus groups/activities for students to join that can aid in mental health needs\n",
      "\n",
      "more group sessions held throughout week/on weekends\n",
      "\n",
      "more staff hired that are fluent and able to help all types of students and their unique needs, such as LGBTQ+\n",
      "\n",
      "better advertisement of services offered on campus and how to get them \n",
      "\n",
      "better advertising of resources off campus and what they provide for students\n"
     ]
    },
    {
     "name": "stderr",
     "output_type": "stream",
     "text": [
      "Both `max_new_tokens` (=100) and `max_length`(=100) seem to have been set. `max_new_tokens` will take precedence. Please refer to the documentation for more information. (https://huggingface.co/docs/transformers/main/en/main_classes/text_generation)\n"
     ]
    },
    {
     "name": "stdout",
     "output_type": "stream",
     "text": [
      "to be totally honest, i’ve heard nothing but negative things about the professionalism and effectiveness of ut mental health services. (i’ve never personally visited them, though.) i know that they’re understaffed, which makes them hard to get an appointment with. \n",
      "\n",
      "i know that they don’t have a psychiatrist, so if you need medication, you’ll have to see an outside professional. i’ve heard from several people who went to the outside psychiatrist and the medication made everything worse, which is a huge fear that people have when looking into ther\n"
     ]
    },
    {
     "name": "stderr",
     "output_type": "stream",
     "text": [
      "Both `max_new_tokens` (=100) and `max_length`(=100) seem to have been set. `max_new_tokens` will take precedence. Please refer to the documentation for more information. (https://huggingface.co/docs/transformers/main/en/main_classes/text_generation)\n"
     ]
    },
    {
     "name": "stdout",
     "output_type": "stream",
     "text": [
      "all aspects have worked great for me, i think more diversity in counseling staff would be helpful. \n",
      "\n",
      "i think having a more visible directory would help. \n",
      "\n",
      "it would be helpful to have more counseling sessions available. \n",
      "\n",
      "it should be easier to get a session. \n",
      "\n",
      "i would like more group options as well. \n",
      "\n",
      "more online options would be great as well. \n",
      "\n",
      "more on-campus options, especially at lunch time would be beneficial. \n",
      "\n",
      "more staff should be trained and hired. \n",
      "\n",
      "bet\n"
     ]
    },
    {
     "name": "stderr",
     "output_type": "stream",
     "text": [
      "Both `max_new_tokens` (=100) and `max_length`(=100) seem to have been set. `max_new_tokens` will take precedence. Please refer to the documentation for more information. (https://huggingface.co/docs/transformers/main/en/main_classes/text_generation)\n"
     ]
    },
    {
     "name": "stdout",
     "output_type": "stream",
     "text": [
      "gw and professors need to be more understanding and accommodating to students struggling with mental health instead of telling them to quit.հ\n",
      "\n",
      "the counseling service needs more attention.\n",
      "\n",
      "more groups for specific identity needs and more therapists that can provide more accommodating therapy for transgender people\n",
      "\n",
      "more staff is needed to provide a consistent therapy option for students\n",
      "\n",
      "more staff is needed for paws and the mental health advisor.\n",
      "\n",
      "more staff for the mental health advisor because it's too difficult to book an appointment, especially when they're all fully booked.\n",
      "\n"
     ]
    },
    {
     "name": "stderr",
     "output_type": "stream",
     "text": [
      "Both `max_new_tokens` (=100) and `max_length`(=100) seem to have been set. `max_new_tokens` will take precedence. Please refer to the documentation for more information. (https://huggingface.co/docs/transformers/main/en/main_classes/text_generation)\n"
     ]
    },
    {
     "name": "stdout",
     "output_type": "stream",
     "text": [
      "i don't think any of it is working \"well.\" iu needs more counselors and psychiatrists and better counselors and psychiatrists. if you are only going to offer help for those struggling on average low mental health rather than those struggling with real mental illnesses, say that. they need to have people on staff that can diagnose and actually help those with personality disorders, schizophrenia,  etc. i have had to go out of state because iu didn't have anyone to help me with my son's diagnosis and they didn't refer me somewhere or give me the help i needed. that's a problem. they also don't help those with addictions. you need to be able to help everyone, not the average person who's just kind of sad and stressed out. if it were up to me, i would outsource to a reput\n"
     ]
    },
    {
     "name": "stderr",
     "output_type": "stream",
     "text": [
      "Both `max_new_tokens` (=100) and `max_length`(=100) seem to have been set. `max_new_tokens` will take precedence. Please refer to the documentation for more information. (https://huggingface.co/docs/transformers/main/en/main_classes/text_generation)\n"
     ]
    },
    {
     "name": "stdout",
     "output_type": "stream",
     "text": [
      "i do not know because i have never had mental health issues.Ёйззз. i think a more professional team is needed. Ёйззз. a more accessible and welcoming team is needed. Ёйззз. more staff is needed. Ёйззз. a more diverse team is needed for the mental health center. Ёйззз. the mental health center needs to be more available to students.\n",
      "the resources are there, but they need to be more accessible to students. Ё\n"
     ]
    },
    {
     "name": "stderr",
     "output_type": "stream",
     "text": [
      "Both `max_new_tokens` (=100) and `max_length`(=100) seem to have been set. `max_new_tokens` will take precedence. Please refer to the documentation for more information. (https://huggingface.co/docs/transformers/main/en/main_classes/text_generation)\n"
     ]
    },
    {
     "name": "stdout",
     "output_type": "stream",
     "text": [
      "not sure, i have not utilized any of them at this time.\n",
      "i am not aware of any that are specific to mental health.\n",
      "i believe that they all need to be expanded.\n",
      "they are well connected to other services on campus and they provide individual sessions.  they also have a group called mindfulness and acceptance for students to go to. i would like to see them expand on the types of diagnoses that they treat.  i think it is more common for people to be diagnosed with mental health issues now and that it needs to\n"
     ]
    },
    {
     "name": "stderr",
     "output_type": "stream",
     "text": [
      "Both `max_new_tokens` (=100) and `max_length`(=100) seem to have been set. `max_new_tokens` will take precedence. Please refer to the documentation for more information. (https://huggingface.co/docs/transformers/main/en/main_classes/text_generation)\n"
     ]
    },
    {
     "name": "stdout",
     "output_type": "stream",
     "text": [
      "the fact that i know multiple people who were told they needed more support than mit could provide and then just completely ghosted is absolutely abhorrent. if someone so desperately needs help that the counseling services at the school aren't able to provide it, they absolutely should be doing everything in their power to connect that person with off campus resources that can help them immediately.  also, i have had some very kind people at mit's mental health services and i appreciate them and all the people there very much.  however, their resources just aren't enough and i think that they should take more people than they normally do to ensure that everyone gets the help that they need.\n",
      "more resources, more help with off campus referrals \n",
      "\n",
      "156\n",
      "\n",
      "i have not used the mental health services, but it seems that there is not enough staff\n"
     ]
    },
    {
     "name": "stderr",
     "output_type": "stream",
     "text": [
      "Both `max_new_tokens` (=100) and `max_length`(=100) seem to have been set. `max_new_tokens` will take precedence. Please refer to the documentation for more information. (https://huggingface.co/docs/transformers/main/en/main_classes/text_generation)\n"
     ]
    },
    {
     "name": "stdout",
     "output_type": "stream",
     "text": [
      "i think the corec should offer more workout classes targeted to mental heanth and wellness 101 class for first year students that could help them navigate through the campus and find their feet \n",
      " and also more individual appointments for people to talk about their struggles. \n",
      "\n",
      "\n",
      "as a sophmore i don't know what is available other than the corec and i don't know if there is other places i could go.\n",
      "\n",
      "\n",
      "also it would be helpful to have a map of where all the mental health places are on campus\n"
     ]
    },
    {
     "name": "stderr",
     "output_type": "stream",
     "text": [
      "Both `max_new_tokens` (=100) and `max_length`(=100) seem to have been set. `max_new_tokens` will take precedence. Please refer to the documentation for more information. (https://huggingface.co/docs/transformers/main/en/main_classes/text_generation)\n"
     ]
    },
    {
     "name": "stdout",
     "output_type": "stream",
     "text": [
      "the petting zoos and puppies are highly therapeutic. wish there were more of these opportunities \n",
      "\n",
      "the on-campus psychologist seems very beneficial but i don’t know anyone that has gone, so maybe advertise more?\n",
      "\n",
      "\n",
      "the wellness center could use a bigger space and more staff, especially if you plan to expand.\n",
      "\n",
      "the college counselor doesn’t offer much and i’m not really sure if it’s because she’s limited or that she just doesn’t care? i have had the privilege of meeting her and\n"
     ]
    },
    {
     "name": "stderr",
     "output_type": "stream",
     "text": [
      "Both `max_new_tokens` (=100) and `max_length`(=100) seem to have been set. `max_new_tokens` will take precedence. Please refer to the documentation for more information. (https://huggingface.co/docs/transformers/main/en/main_classes/text_generation)\n"
     ]
    },
    {
     "name": "stdout",
     "output_type": "stream",
     "text": [
      "telehealth has helped me alot with my mental health issues. however, i wish we had in-person counselors on campus because it is not the same talking to someone over a zoom call or on the phone as in person.  more on-campus services need to be provided, especially for students who live off campus.  for those who live off campus, it might take 30-45 minutes to get to campus and back, which is not ideal when you have an appointment.  i've had to reschedule my mental health appointments a lot because the counseling office can only accommodate a certain amount of students per day.  more staff needs to be hired to accommodate more\n"
     ]
    },
    {
     "name": "stderr",
     "output_type": "stream",
     "text": [
      "Both `max_new_tokens` (=100) and `max_length`(=100) seem to have been set. `max_new_tokens` will take precedence. Please refer to the documentation for more information. (https://huggingface.co/docs/transformers/main/en/main_classes/text_generation)\n"
     ]
    },
    {
     "name": "stdout",
     "output_type": "stream",
     "text": [
      "a lot of students have benefitted from the student counseling center on campus. \n",
      "\n",
      "more staff and a dedicated therapist should be appointed to the college, especially since it's such a popular service to use. \n",
      "\n",
      "i have used the services and found the staff to be very friendly and helpful.\n",
      "\n",
      "more resources in terms of therapists need to be provided to students. \n",
      "\n",
      "a therapist should be appointed for every campus.  \n",
      "\n",
      "the services are great but more staff and a dedicated therapist should be appointed. \n"
     ]
    },
    {
     "name": "stderr",
     "output_type": "stream",
     "text": [
      "Both `max_new_tokens` (=100) and `max_length`(=100) seem to have been set. `max_new_tokens` will take precedence. Please refer to the documentation for more information. (https://huggingface.co/docs/transformers/main/en/main_classes/text_generation)\n"
     ]
    },
    {
     "name": "stdout",
     "output_type": "stream",
     "text": [
      "i haven’t used any mental health services provided by the college, nor have i been informed of any. \n",
      "however, i am familiar with the services that the university provides through my own experiences. \n",
      "the university does a good job at providing a variety of services for students. \n",
      "i am also familiar with the services provided by my community, but i don’t feel they’re as good at meeting the needs of diverse populations. \n",
      "for example, the services provided are more focused on diagnosis and medication, which aren’t always necessary, and don’t really consider\n"
     ]
    },
    {
     "name": "stderr",
     "output_type": "stream",
     "text": [
      "Both `max_new_tokens` (=100) and `max_length`(=100) seem to have been set. `max_new_tokens` will take precedence. Please refer to the documentation for more information. (https://huggingface.co/docs/transformers/main/en/main_classes/text_generation)\n"
     ]
    },
    {
     "name": "stdout",
     "output_type": "stream",
     "text": [
      "there is a counseling center but it is always booked months out and by the time you get to a meeting i’m not sure your concern would be needed to be addressed anymore. \n",
      "\n",
      "there should be a hotline or at least make it easier to sign up for appointments online/through phone.  \n",
      "\n",
      "the people working there are great but the logistics of it is very unconventional and it’s hard to make an appointment which makes it seem as if they only want the most dire cases. \n",
      "\n",
      "i have never been to a place that doesn’t take at least a month to a couple months to get an appointment.\n",
      "\n",
      "maybe\n"
     ]
    },
    {
     "name": "stderr",
     "output_type": "stream",
     "text": [
      "Both `max_new_tokens` (=100) and `max_length`(=100) seem to have been set. `max_new_tokens` will take precedence. Please refer to the documentation for more information. (https://huggingface.co/docs/transformers/main/en/main_classes/text_generation)\n"
     ]
    },
    {
     "name": "stdout",
     "output_type": "stream",
     "text": [
      "the campus needs better psychiatrists, the one i got wanted to increase my dose of medication every time, even if it hadn't worked in the past.  the prescribing process is also very long, and i think that needs more attention.  a better on call system would be nice as well.  i know the college tries its best with what they have, and i've met wonderful professionals through them.  it's just that they have limited resources. the therapists are great, and i think that should be expanded more.  overall though, as someone who's been in and out of college mental health services,\n"
     ]
    },
    {
     "name": "stderr",
     "output_type": "stream",
     "text": [
      "Both `max_new_tokens` (=100) and `max_length`(=100) seem to have been set. `max_new_tokens` will take precedence. Please refer to the documentation for more information. (https://huggingface.co/docs/transformers/main/en/main_classes/text_generation)\n"
     ]
    },
    {
     "name": "stdout",
     "output_type": "stream",
     "text": [
      "i have not visited or experienced any of the facilities.\n",
      "i think caps and the animals are great.\n",
      "overall, more staff and a bigger facility.\n",
      "i think it should be easier and accessible for students to be referred.\n",
      "i've never really needed or wanted to use the mental health facilities on campus.\n",
      "they seem great but i've never had any experience with them.\n",
      "i think they're doing a good job.\n",
      "they could always improve on making it easier for students to be referred.\n",
      "it's a little bit difficult to be referred.\n",
      "i like\n"
     ]
    },
    {
     "name": "stderr",
     "output_type": "stream",
     "text": [
      "Both `max_new_tokens` (=100) and `max_length`(=100) seem to have been set. `max_new_tokens` will take precedence. Please refer to the documentation for more information. (https://huggingface.co/docs/transformers/main/en/main_classes/text_generation)\n"
     ]
    },
    {
     "name": "stdout",
     "output_type": "stream",
     "text": [
      "i was refused mental health counseling on campus because i was not being and abused or risk for my life because they didn’t have enough staff. 2 855-247-health (4325) for more information or to schedule an appointment. 24/7 mental health assessment and counseling services provided for students. the mental health services page has information about counseling, support groups, wellness, and other services. the college has a therapy dog who is available for student visits. the college has a staff member who serves as an on-campus advocate\n"
     ]
    },
    {
     "name": "stderr",
     "output_type": "stream",
     "text": [
      "Both `max_new_tokens` (=100) and `max_length`(=100) seem to have been set. `max_new_tokens` will take precedence. Please refer to the documentation for more information. (https://huggingface.co/docs/transformers/main/en/main_classes/text_generation)\n"
     ]
    },
    {
     "name": "stdout",
     "output_type": "stream",
     "text": [
      "i can think of one thing that works well. but as an online student referrals to services near me would be great. and i'm sure i'm not alone in this. 2.0\n",
      "they need more staff. they don't answer the phones half the time. and the online resources are limited compared to other schools. 2.0\n",
      "i have no idea, but i'd say more staff is needed so they can answer the phones and direct people to the correct resources without having to transfer multiple times. 2.0\n",
      "it would help if the online resources were more\n"
     ]
    },
    {
     "name": "stderr",
     "output_type": "stream",
     "text": [
      "Both `max_new_tokens` (=100) and `max_length`(=100) seem to have been set. `max_new_tokens` will take precedence. Please refer to the documentation for more information. (https://huggingface.co/docs/transformers/main/en/main_classes/text_generation)\n"
     ]
    },
    {
     "name": "stdout",
     "output_type": "stream",
     "text": [
      "the counseling center is very accessible and affordable. i wish there were more remote options for counseling. \n",
      "\n",
      "more remote opportunities for counseling would make the mental health services at mac even stronger. \n",
      "\n",
      "the staff at the counseling center is wonderful and i appreciate how accessible they are and how affordable they are.\n",
      "\n",
      "i feel the college should focus more on remote opportunities for counseling. \n",
      "\n",
      "the counseling services at mac have improved since my experience a couple years ago. \n",
      "\n",
      "the only issue i have with the counseling\n"
     ]
    },
    {
     "name": "stderr",
     "output_type": "stream",
     "text": [
      "Both `max_new_tokens` (=100) and `max_length`(=100) seem to have been set. `max_new_tokens` will take precedence. Please refer to the documentation for more information. (https://huggingface.co/docs/transformers/main/en/main_classes/text_generation)\n"
     ]
    },
    {
     "name": "stdout",
     "output_type": "stream",
     "text": [
      "the uaa student health and counseling center and uaa care team services are great services provided by my college to help students who are struggling with mental health issue. students also have the option to anonymously advocate for teh wellness of a fellow student.  more resources need to be made for people who are on medications, who need a provider, or need an evaluation for diagnoses.  more staff, providers, and clinicians are needed so that people won't have to wait weeks to weeks to months to get an initial appointment.  more options of providers need to be made to help students find a provider they can trust and feel comfortable with.  an option for a psychiatry services needs to be offered for those who need\n"
     ]
    },
    {
     "name": "stderr",
     "output_type": "stream",
     "text": [
      "Both `max_new_tokens` (=100) and `max_length`(=100) seem to have been set. `max_new_tokens` will take precedence. Please refer to the documentation for more information. (https://huggingface.co/docs/transformers/main/en/main_classes/text_generation)\n"
     ]
    },
    {
     "name": "stdout",
     "output_type": "stream",
     "text": [
      "i appreciate that the cook counseling center has multiple psychiatrists on staff who can prescribe/manage mental health medications (i've had bad experiences with some of the few off-campus providers before switching to cook), and the reception/nursing staff that help manage appointments and rx refill requests are quite helpful (especially nurse crystal) (i think the college needs to have a closer relationship with off-campus providers, as there are many off-campus providers that would welcome/accept student referrals, but are hesitant due to the college's reputation.\n",
      "i've had several referral forms rejected because of the college's reputation, and that needs to improve.) the college definitely needs more on-staff providers, particularly ones who specialize in treating eating disorders\n"
     ]
    },
    {
     "name": "stderr",
     "output_type": "stream",
     "text": [
      "Both `max_new_tokens` (=100) and `max_length`(=100) seem to have been set. `max_new_tokens` will take precedence. Please refer to the documentation for more information. (https://huggingface.co/docs/transformers/main/en/main_classes/text_generation)\n"
     ]
    },
    {
     "name": "stdout",
     "output_type": "stream",
     "text": [
      "the caps center and black bruin center is working well at ucla to help support students with resources, activities, and counselors regarding mental health.հականի համար առաջ առաջը՞ ներկայաւոր է ու ու հանդը ինչ ներչ հետ ու ու խեռինին՞՞ խեռնե\n"
     ]
    },
    {
     "name": "stderr",
     "output_type": "stream",
     "text": [
      "Both `max_new_tokens` (=100) and `max_length`(=100) seem to have been set. `max_new_tokens` will take precedence. Please refer to the documentation for more information. (https://huggingface.co/docs/transformers/main/en/main_classes/text_generation)\n"
     ]
    },
    {
     "name": "stdout",
     "output_type": "stream",
     "text": [
      "caps short term counseling does not work that well. some student could much benefit from a longer client-therapist relationship but don’t have the time, money, or knowledge of finding a therapist from outside the university. caps referral service also was terrible and didn’t help me. the quality of caps therapists were hit or miss—i’ve tried over 4 different people. the university also doesn’t prioritize student mental health in general, having a “wellness week” does nothing in comparison to actually having policies regarding attendance, longer and/or more frequent breaks, not letting professors assign work during breaks, etc. .  the wellness center is more of a gym with fitness instructors who can’t help with mental health. the university needs a real mental health clinic or a department that is staffed with trained, licensed mental health professionals that can help students on and off campus. \n",
      "\n",
      "the university has a group therapy program. that is a fantastic resource. \n",
      "\n",
      "the therapists and other mental health specialists are all contractors who are paid per\n"
     ]
    },
    {
     "name": "stderr",
     "output_type": "stream",
     "text": [
      "Both `max_new_tokens` (=100) and `max_length`(=100) seem to have been set. `max_new_tokens` will take precedence. Please refer to the documentation for more information. (https://huggingface.co/docs/transformers/main/en/main_classes/text_generation)\n"
     ]
    },
    {
     "name": "stdout",
     "output_type": "stream",
     "text": [
      "i believe their student health and wellness program is good and is an outlet for good resources. i believe their online resources such as tele-counseling needs more help.  it is difficult to get an appointment and the staff is not as supportive as they used to be.  i believe their support for students with chronic conditions such as mental health conditions need more attention and are not taken as serious.  for example, i've had a diagnosis of bipolar disorder and depression with a manic episode for several years and i don't think the student health services really cares for me, or my well-being and that i\n"
     ]
    },
    {
     "name": "stderr",
     "output_type": "stream",
     "text": [
      "Both `max_new_tokens` (=100) and `max_length`(=100) seem to have been set. `max_new_tokens` will take precedence. Please refer to the documentation for more information. (https://huggingface.co/docs/transformers/main/en/main_classes/text_generation)\n"
     ]
    },
    {
     "name": "stdout",
     "output_type": "stream",
     "text": [
      "the mental health hotline works well\n",
      "\n",
      "sometimes there is a waitlist for therapy appointments, which isn't great. \n",
      "\n",
      "more therapists need to be hired.\n",
      "\n",
      "it's hard to find people who are willing to talk about their mental health, particularly if they are struggling. i think more students need to normalize their own experiences. \n",
      "\n",
      "the wellness center needs a rebrand to make it more welcoming for students. \n",
      "\n",
      "i don't know, i don't go. i wish i did though, because it's very well done.\n"
     ]
    },
    {
     "name": "stderr",
     "output_type": "stream",
     "text": [
      "Both `max_new_tokens` (=100) and `max_length`(=100) seem to have been set. `max_new_tokens` will take precedence. Please refer to the documentation for more information. (https://huggingface.co/docs/transformers/main/en/main_classes/text_generation)\n"
     ]
    },
    {
     "name": "stdout",
     "output_type": "stream",
     "text": [
      "the college has a lot of services but medical intervention is typically a band aid for other deeply rooted problems. this is not a college-specific issue, however. mental health issues affect millions of people and the college cannot solve them on its own, no matter how much it offers. 4664053\n",
      "i don’t feel as though we have enough resources for our students. there’s a long waiting list to see a therapist on campus, and i don’t know of any other resources either. i don’t want to have to go off-campus for help, but i don’t know where\n"
     ]
    },
    {
     "name": "stderr",
     "output_type": "stream",
     "text": [
      "Both `max_new_tokens` (=100) and `max_length`(=100) seem to have been set. `max_new_tokens` will take precedence. Please refer to the documentation for more information. (https://huggingface.co/docs/transformers/main/en/main_classes/text_generation)\n"
     ]
    },
    {
     "name": "stdout",
     "output_type": "stream",
     "text": [
      "just more coverage and talk about mental health in order to decrease stigmatization.  more people should feel comfortable reaching out for help.  more resources should be made available as well.  it can be difficult to navigate where to go and who to speak to.  i think that the process of finding a therapist should be simplified for students on campus.  i found that the therapists available through the school were more limited and not as diverse in terms of race/ethnicity and gender compared to the general campus population, which may have deterred me\n"
     ]
    },
    {
     "name": "stderr",
     "output_type": "stream",
     "text": [
      "Both `max_new_tokens` (=100) and `max_length`(=100) seem to have been set. `max_new_tokens` will take precedence. Please refer to the documentation for more information. (https://huggingface.co/docs/transformers/main/en/main_classes/text_generation)\n"
     ]
    },
    {
     "name": "stdout",
     "output_type": "stream",
     "text": [
      "i actually haven’t used them because i’m not used to ask for help when i have to 100% figure things out myself but i’m sure they’re fine. \n",
      "\n",
      "they should make it so you can make appointments earlier in the day and not at the beginning of every hour because they get booked super early. \n",
      "\n",
      "more counselors so you don’t have to wait so long to get an appointment. \n",
      "\n",
      "more group therapy sessions and more therapy sessions in general. \n",
      "\n",
      "a hotline so students can have an\n"
     ]
    },
    {
     "name": "stderr",
     "output_type": "stream",
     "text": [
      "Both `max_new_tokens` (=100) and `max_length`(=100) seem to have been set. `max_new_tokens` will take precedence. Please refer to the documentation for more information. (https://huggingface.co/docs/transformers/main/en/main_classes/text_generation)\n"
     ]
    },
    {
     "name": "stdout",
     "output_type": "stream",
     "text": [
      "caps system seems to be working, i wish that they were more clear on their physical location operating hours so that i could go see them when i needed to. (i went in for an initial appointment and they were very helpful, but they weren’t very clear on where they’re located, which was a bit stressful.) \n",
      "\n",
      "uva police should be better equipped to handle students who are in a crisis, both from a mental health perspective and also from a drug use perspective. i have heard many stories about uvp officers arresting students who are under the influence\n"
     ]
    },
    {
     "name": "stderr",
     "output_type": "stream",
     "text": [
      "Both `max_new_tokens` (=100) and `max_length`(=100) seem to have been set. `max_new_tokens` will take precedence. Please refer to the documentation for more information. (https://huggingface.co/docs/transformers/main/en/main_classes/text_generation)\n"
     ]
    },
    {
     "name": "stdout",
     "output_type": "stream",
     "text": [
      "unsure since i haven't used any of said services , although i have heard mental health services have ridiculous wait times.Ъ_Ъ \n",
      "they need more counselors.\n",
      "more counselors/psychologists.\n",
      "psychiatrists.\n",
      "better training for those who are doing the work.\n",
      "more staff.\n",
      "more support groups.\n",
      "better support groups.\n",
      "more individual and small group therapy opportunities.\n",
      "i haven't used any of the campus mental health services so i don't have any advice.\n",
      "more staff and more training for staff. \n"
     ]
    },
    {
     "name": "stderr",
     "output_type": "stream",
     "text": [
      "Both `max_new_tokens` (=100) and `max_length`(=100) seem to have been set. `max_new_tokens` will take precedence. Please refer to the documentation for more information. (https://huggingface.co/docs/transformers/main/en/main_classes/text_generation)\n"
     ]
    },
    {
     "name": "stdout",
     "output_type": "stream",
     "text": [
      "i know only of two currently which is the counseling services and the 360 life services. they seem like they work great as i have not yet had to use them, however i am not sure how well they would work with being an only online student and having conflicting schedules and not having consistent counselors. \n",
      "\n",
      "overall the resources seem great and i am very thankful for them. i think having someone to reach out to when you need it can be life saving and i hope i never have to use it. although i think more resources should be available such as a psychiatrist for students who may need medication. \n",
      "\n",
      "i think more information should be available about where to go for what. especially for someone who is looking for a place\n"
     ]
    },
    {
     "name": "stderr",
     "output_type": "stream",
     "text": [
      "Both `max_new_tokens` (=100) and `max_length`(=100) seem to have been set. `max_new_tokens` will take precedence. Please refer to the documentation for more information. (https://huggingface.co/docs/transformers/main/en/main_classes/text_generation)\n"
     ]
    },
    {
     "name": "stdout",
     "output_type": "stream",
     "text": [
      "the activities and services provided by the mental health union run by students and the student wellness center are working great.Љ the resources provided could use more attention. more staff to help spread the resources around and more counselors to help. \n",
      "\n",
      "the process for finding help could use a little more attention. it would be more helpful to have a page where you could fill out basic information and have your email or phone number to contact and also a form to fill out in the on campus therapist office that is more simple and direct. \n",
      "\n",
      "higher level staff and faculty should be more\n"
     ]
    },
    {
     "name": "stderr",
     "output_type": "stream",
     "text": [
      "Both `max_new_tokens` (=100) and `max_length`(=100) seem to have been set. `max_new_tokens` will take precedence. Please refer to the documentation for more information. (https://huggingface.co/docs/transformers/main/en/main_classes/text_generation)\n"
     ]
    },
    {
     "name": "stdout",
     "output_type": "stream",
     "text": [
      "more checking in on students’ mental health and easy access to resources. \n",
      "\n",
      "\n",
      "more understanding of how much weight students put on their grades and how it affects their mental health. \n",
      "\n",
      "\n",
      "better professors, especially in general education courses. \n",
      "\n",
      "\n",
      "more professors willing to work with students when they fall behind. \n",
      "\n",
      "\n",
      "more leniency with attendance policies, especially in large lecture classes. \n",
      "\n",
      "\n",
      "more professors willing to let students choose their group project partners, especially in upper division courses that are\n"
     ]
    },
    {
     "name": "stderr",
     "output_type": "stream",
     "text": [
      "Both `max_new_tokens` (=100) and `max_length`(=100) seem to have been set. `max_new_tokens` will take precedence. Please refer to the documentation for more information. (https://huggingface.co/docs/transformers/main/en/main_classes/text_generation)\n"
     ]
    },
    {
     "name": "stdout",
     "output_type": "stream",
     "text": [
      "the on-campus mental health center frequently organizes events to spread awareness of certain mental health issues.  however, i've never really felt like those events did much aside from spread awareness.  i think more individualized, smaller-scale events would be more impactful.  i've never felt like there were many resources to directly help students (ie referrals to therapists in the area, etc).  there are therapy options through the campus health center, but i feel like they could use more providers and the referral process itself could be more stream\n"
     ]
    },
    {
     "name": "stderr",
     "output_type": "stream",
     "text": [
      "Both `max_new_tokens` (=100) and `max_length`(=100) seem to have been set. `max_new_tokens` will take precedence. Please refer to the documentation for more information. (https://huggingface.co/docs/transformers/main/en/main_classes/text_generation)\n"
     ]
    },
    {
     "name": "stdout",
     "output_type": "stream",
     "text": [
      "i have never struggled with mental health issues. i do not know what my college needs to do or works well. \n",
      "\n",
      "i do not use my college's mental health services. \n",
      "\n",
      "i don't know what my college could improve upon in terms of its mental health services.\n",
      "\n",
      "i do not receive any mental health help from my college. \n",
      "\n",
      "the college needs to be better at advertising its mental health services and making them more accessible.\n",
      "\n",
      "i would use the college's mental health services if they were more accessible.\n",
      "\n",
      "i have used the college's\n"
     ]
    },
    {
     "name": "stderr",
     "output_type": "stream",
     "text": [
      "Both `max_new_tokens` (=100) and `max_length`(=100) seem to have been set. `max_new_tokens` will take precedence. Please refer to the documentation for more information. (https://huggingface.co/docs/transformers/main/en/main_classes/text_generation)\n"
     ]
    },
    {
     "name": "stdout",
     "output_type": "stream",
     "text": [
      "there are issues with certain individuals who run the counseling program and how they interact with their patients. at times, it feels inappropriate. overall, i am happy with the counseling services offered. i have seen multiple counselors over the year and i feel i have made great progress. \n",
      "\n",
      "i think the counseling program needs more people to staff it. it is always difficult to see someone for the first time and know no one. i would encourage a more welcoming environment to get new clients. \n",
      "\n",
      "they need to have an easier process to get into counseling and have more counsel\n"
     ]
    },
    {
     "name": "stderr",
     "output_type": "stream",
     "text": [
      "Both `max_new_tokens` (=100) and `max_length`(=100) seem to have been set. `max_new_tokens` will take precedence. Please refer to the documentation for more information. (https://huggingface.co/docs/transformers/main/en/main_classes/text_generation)\n"
     ]
    },
    {
     "name": "stdout",
     "output_type": "stream",
     "text": [
      "we have a counselor and my coach has bi weekly meetings for mental health. im not sure what else other than a nurse on campus who could like prescribe medication would help. i think they should add that to the staff. \n",
      "\n",
      "uic provides a lot but not many people know about it. they should advertise more about what they offer. \n",
      "\n",
      "i think they could add a 24 hour hotline that way people can call at any time and not wait for the office hours. \n",
      "\n",
      "uic has a lot of resources, i don't think any need to be added. although they need to advertise more and be accessible at\n"
     ]
    },
    {
     "name": "stderr",
     "output_type": "stream",
     "text": [
      "Both `max_new_tokens` (=100) and `max_length`(=100) seem to have been set. `max_new_tokens` will take precedence. Please refer to the documentation for more information. (https://huggingface.co/docs/transformers/main/en/main_classes/text_generation)\n"
     ]
    },
    {
     "name": "stdout",
     "output_type": "stream",
     "text": [
      "ultimately, i believe that my university is very well educated on and equipped for offering diverse and more than sufficient mental health resources, and it now comes down to student choice and students approaching and accepting the proffered help.Љ\n",
      "\n",
      "overall, my university has very well established and diverse mental health offerings. although it would be nice if it were slightly easier to obtain these resources, they are definitely available and staffed by people who truly care.\n",
      "\n",
      "\n",
      "\n",
      "\n",
      "\n",
      "\n",
      "\n",
      "\n",
      "\n",
      "\n",
      "\n",
      "\n",
      "\n",
      "\n",
      "\n",
      "## 02. what kind of mental health support services and programs are provided by my university? \n",
      "\n",
      "we have counseling services, but they are limited. we also\n"
     ]
    },
    {
     "name": "stderr",
     "output_type": "stream",
     "text": [
      "Both `max_new_tokens` (=100) and `max_length`(=100) seem to have been set. `max_new_tokens` will take precedence. Please refer to the documentation for more information. (https://huggingface.co/docs/transformers/main/en/main_classes/text_generation)\n"
     ]
    },
    {
     "name": "stdout",
     "output_type": "stream",
     "text": [
      "i have only utilized caps as a resource. i believe this has worked well due to how much i love my counselor. however, it took a while to get to her. before this, i was placed with a counselor (who was a man when i asked for it not to be) who asked extremely invasive questions and was very misunderstanding. it warded me off from caps. i’ve also heard other people caps takes way too long to get back to them and doesn’t have enough room. you, and i have friends who have said the same with umn’s resources. \n",
      "\n",
      "more counselors need to be available, and they need to be diverse in race and gender. \n",
      "\n",
      "i have no idea where i could go for outside counseling due to the lack of resources i hear about. \n",
      "\n",
      "my biggest struggle is finding somewhere that i can go that i feel is a safe space. \n",
      "\n",
      "i feel that my college counseling services\n"
     ]
    },
    {
     "name": "stderr",
     "output_type": "stream",
     "text": [
      "Both `max_new_tokens` (=100) and `max_length`(=100) seem to have been set. `max_new_tokens` will take precedence. Please refer to the documentation for more information. (https://huggingface.co/docs/transformers/main/en/main_classes/text_generation)\n"
     ]
    },
    {
     "name": "stdout",
     "output_type": "stream",
     "text": [
      "the caps is working well. it's good with counseling but struggling on diagnosing and giving medication if it's needed. 0370 240 0000\n",
      "the staff are nice but very understaffed, and they can’t help with certain things.\n",
      "i’ve used it a bit and the staff are really nice. there are not enough staff for diagnosing though, which makes the process really drawn out. they can refer for psychiatry though, which is very helpful. 0370 240 0\n"
     ]
    },
    {
     "name": "stderr",
     "output_type": "stream",
     "text": [
      "Both `max_new_tokens` (=100) and `max_length`(=100) seem to have been set. `max_new_tokens` will take precedence. Please refer to the documentation for more information. (https://huggingface.co/docs/transformers/main/en/main_classes/text_generation)\n"
     ]
    },
    {
     "name": "stdout",
     "output_type": "stream",
     "text": [
      "cwc counseling is really difficult to get into. drc works really well to help alleviate some of the stressors / pressures that school has on mental health. \n",
      "\n",
      "more resources for group counseling and more staff members would really help. \n",
      "\n",
      "uic needs more funding to help expand mental health resources \n",
      "\n",
      "uic's wellness center offers free yoga and dance / fitness classes which are really helpful. \n",
      "\n",
      "more free mindfulness / relaxation / meditation / breathing workshops would help too. \n",
      "\n",
      "uic does need more staff members who speak spanish. \n",
      "\n",
      "\n"
     ]
    },
    {
     "name": "stderr",
     "output_type": "stream",
     "text": [
      "Both `max_new_tokens` (=100) and `max_length`(=100) seem to have been set. `max_new_tokens` will take precedence. Please refer to the documentation for more information. (https://huggingface.co/docs/transformers/main/en/main_classes/text_generation)\n"
     ]
    },
    {
     "name": "stdout",
     "output_type": "stream",
     "text": [
      "i like group therapies a lot, but we need more resources for getting help for serious mental illnesses.  also, more staff to make appointments and to write letters to insurance companies would be helpful.  the college does an excellent job of getting the initial letters of diagnosis, but it’s a nightmare afterwards.  it’s hard to get a letter and it takes forever to get it processed.   i’m on disability and i’ve been fighting for years with my insurance company.  they won’t even cover the mental health part of my\n"
     ]
    },
    {
     "name": "stderr",
     "output_type": "stream",
     "text": [
      "Both `max_new_tokens` (=100) and `max_length`(=100) seem to have been set. `max_new_tokens` will take precedence. Please refer to the documentation for more information. (https://huggingface.co/docs/transformers/main/en/main_classes/text_generation)\n"
     ]
    },
    {
     "name": "stdout",
     "output_type": "stream",
     "text": [
      "the nutritionist at the student health and wellness center used to provide me with a good support for my poor relationship with food and body image.  however, they no longer provide that service. i wish they still offered it or there was another place on campus that did.  i don't know where to go for that sort of support anymore.   also, the student health and wellness center doesn't offer counseling which i think is also a very important component to one's overall health.  i don't really have a solution, but i think that the campus should offer both counseling and nutr\n"
     ]
    },
    {
     "name": "stderr",
     "output_type": "stream",
     "text": [
      "Both `max_new_tokens` (=100) and `max_length`(=100) seem to have been set. `max_new_tokens` will take precedence. Please refer to the documentation for more information. (https://huggingface.co/docs/transformers/main/en/main_classes/text_generation)\n"
     ]
    },
    {
     "name": "stdout",
     "output_type": "stream",
     "text": [
      "the fact that mental health services are offered is a step in the right direction, but it does not seem to be meeting the sheer demand of students who require assistance. counselling needs to be expanded, in addition to being made more accessible and personalised for students, or else its efficacy, in my opinion, will be severely limited. \n",
      "\n",
      "\n",
      "overall, the university does a fantastic job in making mental health services known, and i believe that this is a crucial and necessary aspect of a university experience, particularly given how demanding university life can be. although i have never used these services, i know that many people do and that it is of significant help to them.\n",
      "\n",
      "\n",
      "i think that the university’s mental health services should also be expanded to include more resources in areas, such as eating\n"
     ]
    },
    {
     "name": "stderr",
     "output_type": "stream",
     "text": [
      "Both `max_new_tokens` (=100) and `max_length`(=100) seem to have been set. `max_new_tokens` will take precedence. Please refer to the documentation for more information. (https://huggingface.co/docs/transformers/main/en/main_classes/text_generation)\n"
     ]
    },
    {
     "name": "stdout",
     "output_type": "stream",
     "text": [
      "we have a varieties of counseling, but it seems intimidating for those not familiar with counseling.հիս մասինընք ու հետազրակին կարող ենք հասնել վիճարերին, բոլոր այլ համար կարողի էնք խանտավորությու\n"
     ]
    },
    {
     "name": "stderr",
     "output_type": "stream",
     "text": [
      "Both `max_new_tokens` (=100) and `max_length`(=100) seem to have been set. `max_new_tokens` will take precedence. Please refer to the documentation for more information. (https://huggingface.co/docs/transformers/main/en/main_classes/text_generation)\n"
     ]
    },
    {
     "name": "stdout",
     "output_type": "stream",
     "text": [
      "the counseling office is small and can't accommodate the number of students who are seeking mental health counseling. it makes it extremely difficult to get an appointment. as a student studying abroad right now, i do not feel like i have any support or connection to the mental health services at wsu. 0.2% of the student body receives mental health counseling at wsu. this should be a priority and needs to be expanded. 804 student athletes receive counseling. why are the athletic teams getting more resources than the students studying? it's a huge problem. i hope that more students reach out to wsu's mental health services and that they will get more resources. they need it. 31% of wsu students experience de\n"
     ]
    },
    {
     "name": "stderr",
     "output_type": "stream",
     "text": [
      "Both `max_new_tokens` (=100) and `max_length`(=100) seem to have been set. `max_new_tokens` will take precedence. Please refer to the documentation for more information. (https://huggingface.co/docs/transformers/main/en/main_classes/text_generation)\n"
     ]
    },
    {
     "name": "stdout",
     "output_type": "stream",
     "text": [
      "we only have one counselor at the asia campus. she's nice but not every person works well with the same type of counselor. 24 hour on demand counseling should be made available.  also, there needs to be a way to see how far back your appointments are filled.  they've filled up my first appointment before it's even time to make the appointment.  i have to go through the counseling office to see how far they're filled at any given time but they won't tell me. i know there's only one counselor because i asked. \n"
     ]
    },
    {
     "name": "stderr",
     "output_type": "stream",
     "text": [
      "Both `max_new_tokens` (=100) and `max_length`(=100) seem to have been set. `max_new_tokens` will take precedence. Please refer to the documentation for more information. (https://huggingface.co/docs/transformers/main/en/main_classes/text_generation)\n"
     ]
    },
    {
     "name": "stdout",
     "output_type": "stream",
     "text": [
      "they have a 24-hour hotline and a counseling center. i don't know. i've never used their services. 4 457\n",
      "they have a 24-hour hotline and a counseling center. they also have therapists on-campus during office hours. i've used these services and they are good. 4 458\n",
      "the counseling center is pretty good. they should just advertise it more so people know how to contact it. 3 453\n",
      "the campus health services are\n"
     ]
    },
    {
     "name": "stderr",
     "output_type": "stream",
     "text": [
      "Both `max_new_tokens` (=100) and `max_length`(=100) seem to have been set. `max_new_tokens` will take precedence. Please refer to the documentation for more information. (https://huggingface.co/docs/transformers/main/en/main_classes/text_generation)\n"
     ]
    },
    {
     "name": "stdout",
     "output_type": "stream",
     "text": [
      "i feel the college has notoriously let people down in regard to mental health services. it is difficult to receive ongoing counseling, many of the counselors that i've seen have been unfriendly or unhelpful, and it is extremely difficult to get a psychiatric diagnosis in order to receive accommodations. above all, the majority of the counselors are white women, which makes it difficult to describe my experiences to them as a person of color and they often provide culture-blind strategies for dealing with problems. john hancock has been the most helpful person to me, but he is unavailable for ongoing counseling appointments. or nonbinary person, who doesn't often see counselors who reflect my experiences.  that being said, the resources that we have are helpful for the most part, and i do feel that the college has improved in this area in terms of expanding the resources that are available.  i think more staff of color and staff who identify as lgbtq+ are needed, and that they are welcomed.  overall, i have a very negative view of the mental health\n"
     ]
    },
    {
     "name": "stderr",
     "output_type": "stream",
     "text": [
      "Both `max_new_tokens` (=100) and `max_length`(=100) seem to have been set. `max_new_tokens` will take precedence. Please refer to the documentation for more information. (https://huggingface.co/docs/transformers/main/en/main_classes/text_generation)\n"
     ]
    },
    {
     "name": "stdout",
     "output_type": "stream",
     "text": [
      "i have not reached out yet, personally, but i know some people who have had relatively good luck with caps counseling. \n",
      "\n",
      "overall, i don't think my professors really care about students and how mental health impacts their schooling. \n",
      "\n",
      "there needs to be more staff and a better website for caps. \n",
      "\n",
      "the staff needs to be more invested in students. \n",
      "\n",
      "it is hard to get an appointment. \n",
      "\n",
      "i think there needs to be more resources and a way to connect students to these resources.\n",
      "\n",
      "more staff. \n",
      "\n",
      "the website needs\n"
     ]
    },
    {
     "name": "stderr",
     "output_type": "stream",
     "text": [
      "Both `max_new_tokens` (=100) and `max_length`(=100) seem to have been set. `max_new_tokens` will take precedence. Please refer to the documentation for more information. (https://huggingface.co/docs/transformers/main/en/main_classes/text_generation)\n"
     ]
    },
    {
     "name": "stdout",
     "output_type": "stream",
     "text": [
      "i know that they have several different options for talking to a counselor. however, there are many more students per councilor, which is likely one of the reasons that several suicides on campus have occurred from the lack of actual availability. in addition, dispite the reduced cost, therapy is still expensive, especially if you have long term issues like i do.  the college needs more funding for counseling so that it is more accessible to everyone.  i also wish that they had more specialized counseling such as for eating disorders, lgbtq issues, or other identity focused issues. although many providers have a general practice, it is still difficult for them to connect with you if you have specific needs.  for example, i have bipolar disorder, but i still get referred to psychiatrists\n"
     ]
    },
    {
     "name": "stderr",
     "output_type": "stream",
     "text": [
      "Both `max_new_tokens` (=100) and `max_length`(=100) seem to have been set. `max_new_tokens` will take precedence. Please refer to the documentation for more information. (https://huggingface.co/docs/transformers/main/en/main_classes/text_generation)\n"
     ]
    },
    {
     "name": "stdout",
     "output_type": "stream",
     "text": [
      "i think that there needs to be greater accessibility to on campus counseling and therapy. if it was easier to get an appointment, or talk to someone over the phone, it would be easier for people.  also, a greater variety of counselors should be available. not everyone is going to benefit from therapy with a woman.  there should be options for people looking for a male therapist, or a therapist of color.  i think that a greater variety of ethnic backgrounds should be available as well.   overall, i think that counseling and therapy should have more accessibility to those looking to talk, or get help. \n"
     ]
    },
    {
     "name": "stderr",
     "output_type": "stream",
     "text": [
      "Both `max_new_tokens` (=100) and `max_length`(=100) seem to have been set. `max_new_tokens` will take precedence. Please refer to the documentation for more information. (https://huggingface.co/docs/transformers/main/en/main_classes/text_generation)\n"
     ]
    },
    {
     "name": "stdout",
     "output_type": "stream",
     "text": [
      "i'm not sure, i've had trouble figuring out what resources online students have, and i can't find very much.Љ\n",
      "im not sure, i've had trouble finding what resources online students have, and i can't find very mucgh online 9\n",
      "im not sure, i've had trouble finding what resources online students have, and i can't find very mucghh online\n",
      "im not sure, i've had trouble finding what resources online students have, and i can't find very much online\n",
      "im not sure, i've had trouble finding what resources online\n"
     ]
    },
    {
     "name": "stderr",
     "output_type": "stream",
     "text": [
      "Both `max_new_tokens` (=100) and `max_length`(=100) seem to have been set. `max_new_tokens` will take precedence. Please refer to the documentation for more information. (https://huggingface.co/docs/transformers/main/en/main_classes/text_generation)\n"
     ]
    },
    {
     "name": "stdout",
     "output_type": "stream",
     "text": [
      "i think more attention should be brought to mental health and wellness in general (ex. how to manage stress) rather than specifically to romantic relationships.  also, i feel as though they should be more open to accepting referrals from outside therapy offices rather than being closed off because they're a small school campus.  the resources should be available to people regardless of who is providing them.  lastly, the prices are outrageous (i mean, $60 for 30 minutes?) and should be more affordable, especially when they have to drive at least 15\n"
     ]
    },
    {
     "name": "stderr",
     "output_type": "stream",
     "text": [
      "Both `max_new_tokens` (=100) and `max_length`(=100) seem to have been set. `max_new_tokens` will take precedence. Please refer to the documentation for more information. (https://huggingface.co/docs/transformers/main/en/main_classes/text_generation)\n"
     ]
    },
    {
     "name": "stdout",
     "output_type": "stream",
     "text": [
      "the therapists need to be trained better to deal with current student issues.\n",
      "i am not familiar with the services offered but maybe they should look into having more licensed practitioners rather than graduate students. i have friends who went for the first time and were not impressed that therapy was being conducted by a grad student who was not licensed. i also would like to see them expand their outreach efforts to be more diverse.\n",
      "more outreach to students of color, more licensed therapists, more resources\n",
      "the therapists\n"
     ]
    },
    {
     "name": "stderr",
     "output_type": "stream",
     "text": [
      "Both `max_new_tokens` (=100) and `max_length`(=100) seem to have been set. `max_new_tokens` will take precedence. Please refer to the documentation for more information. (https://huggingface.co/docs/transformers/main/en/main_classes/text_generation)\n"
     ]
    },
    {
     "name": "stdout",
     "output_type": "stream",
     "text": [
      "i personally have not used the mental health facilities on campus because they have a poor reputation \n",
      "\n",
      "but they should definitely have a hotline or something for people to reach out to anonymously\n",
      "\n",
      "the college should also look into making the resources easier to find and promoting them more \n",
      "\n",
      "and the counseling should focus more on helping students with academic stress and how to prioritize \n",
      "\n",
      "instead of focusing on individual problems \n",
      "\n",
      "also the counseling should focus more on the student's goals and how they can achieve them\n",
      "\n",
      "inst\n"
     ]
    },
    {
     "name": "stderr",
     "output_type": "stream",
     "text": [
      "Both `max_new_tokens` (=100) and `max_length`(=100) seem to have been set. `max_new_tokens` will take precedence. Please refer to the documentation for more information. (https://huggingface.co/docs/transformers/main/en/main_classes/text_generation)\n"
     ]
    },
    {
     "name": "stdout",
     "output_type": "stream",
     "text": [
      "many students have complained that the therapists and counseling services offered through the university are unhelpful at best. therapists are described as apathetic and dismissive of issues, while the pace of referrals and appointments is extremely sluggish. \n",
      "\n",
      "there are limited staff to handle the overwhelming number of students seeking counseling. the on-campus counseling services are woefully understaffed, especially during peak demand periods like midterms and finals. this is likely exacerbated by the university's unwillingness to significantly expand its budget for mental health services, which is in line with its general approach towards mental illness. this is especially concerning in an era of growing anx\n"
     ]
    },
    {
     "name": "stderr",
     "output_type": "stream",
     "text": [
      "Both `max_new_tokens` (=100) and `max_length`(=100) seem to have been set. `max_new_tokens` will take precedence. Please refer to the documentation for more information. (https://huggingface.co/docs/transformers/main/en/main_classes/text_generation)\n"
     ]
    },
    {
     "name": "stdout",
     "output_type": "stream",
     "text": [
      "mental health services are not the best. i had to find resources outside of school. \n",
      "\n",
      "more therapists/counselors/therapists should be hired. they should specialize in specific problems, like addiction, grief, relationship issues, etc. the college needs a system that allows students to easily find resources. a place like a \"therapist center\" should be established on campus, with maps and directories, so students can easily find a therapist. more staff should be hired to be on call for students. more group\n"
     ]
    },
    {
     "name": "stderr",
     "output_type": "stream",
     "text": [
      "Both `max_new_tokens` (=100) and `max_length`(=100) seem to have been set. `max_new_tokens` will take precedence. Please refer to the documentation for more information. (https://huggingface.co/docs/transformers/main/en/main_classes/text_generation)\n"
     ]
    },
    {
     "name": "stdout",
     "output_type": "stream",
     "text": [
      "the access to mental health resources but the awareness to these need more attention \n",
      " i feel that the university could improve on it's staff that deals with mental health. i think that the staff can improve on it's compassion and understanding towards students. it's easy to feel intimidated when talking to these people. i feel that they could improve on making these resources more inviting.  \n",
      "\n",
      "\n",
      "\n",
      "\n",
      "\n",
      "\n",
      "\n",
      "\n",
      "\n",
      "\n",
      "\n",
      "\n",
      "\n",
      "\n",
      "\n",
      "\n",
      "\n",
      "\n",
      "\n",
      "\n",
      "\n",
      "\n",
      "\n",
      "\n",
      "\n",
      "\n",
      "\n",
      "\n",
      "\n",
      "\n"
     ]
    },
    {
     "name": "stderr",
     "output_type": "stream",
     "text": [
      "Both `max_new_tokens` (=100) and `max_length`(=100) seem to have been set. `max_new_tokens` will take precedence. Please refer to the documentation for more information. (https://huggingface.co/docs/transformers/main/en/main_classes/text_generation)\n"
     ]
    },
    {
     "name": "stdout",
     "output_type": "stream",
     "text": [
      "there are not enough therapists, and campus culture as a whole is pretty toxic when it comes to mental health. the response from the administration is not consistent across professors \n",
      "\n",
      "uhs should be more accessible. \n",
      "\n",
      "uhs needs more staff. \n",
      "\n",
      "more groups need to be established that are focused on mental health for specific identities. \n",
      "\n",
      "i think a good place to start would be creating an on-campus group for latinx students who struggle with mental health. \n",
      "\n",
      "i think that the college needs more staff who can speak more languages, especially Spanish. \n",
      "\n",
      "i'm a heritage speaker, so i\n"
     ]
    },
    {
     "name": "stderr",
     "output_type": "stream",
     "text": [
      "Both `max_new_tokens` (=100) and `max_length`(=100) seem to have been set. `max_new_tokens` will take precedence. Please refer to the documentation for more information. (https://huggingface.co/docs/transformers/main/en/main_classes/text_generation)\n"
     ]
    },
    {
     "name": "stdout",
     "output_type": "stream",
     "text": [
      "i couldn’t tell you what goes into what category. i just didn’t receive effective treatment from them. \n",
      "the college needs to make sure that its therapists are actually capable of helping. \n",
      "as a former therapy patient at ascc, i wish i had a way to give this college's therapy program a negative review. \n",
      "overall, i think ascc is an amazing and helpful place. they are very accommodating with their hours and are always ready to help.\n",
      "i think that the staff just needs to be a little more effective.\n",
      "the college does\n"
     ]
    },
    {
     "name": "stderr",
     "output_type": "stream",
     "text": [
      "Both `max_new_tokens` (=100) and `max_length`(=100) seem to have been set. `max_new_tokens` will take precedence. Please refer to the documentation for more information. (https://huggingface.co/docs/transformers/main/en/main_classes/text_generation)\n"
     ]
    },
    {
     "name": "stdout",
     "output_type": "stream",
     "text": [
      "the counselors and psychiatrists work very well when you can get an appointment. however, you generally have to wait weeks or months to get a first appointment and the physical location of the services is so far away from campus.  the college should expand their services to a more central location.  also when they expanded the services they should create a 24 hour on call service so that emergencies can be seen immediately instead of having to wait for a day or more for an appointment.  a day or two isn't that bad but when you're in crisis you don't need a day or two. a day is a day. that is what i wish was improved.  i've used\n"
     ]
    },
    {
     "name": "stderr",
     "output_type": "stream",
     "text": [
      "Both `max_new_tokens` (=100) and `max_length`(=100) seem to have been set. `max_new_tokens` will take precedence. Please refer to the documentation for more information. (https://huggingface.co/docs/transformers/main/en/main_classes/text_generation)\n"
     ]
    },
    {
     "name": "stdout",
     "output_type": "stream",
     "text": [
      "therapy dogs seem to be quite popular, but the counseling provided by caps needs to be more accessible to students for longer periods of time before recommending off-campus help.Љ 0\n",
      "more therapists available \n",
      "\n",
      "12 more\n",
      "\n",
      "more available therapists\n",
      "\n",
      "16 more\n",
      "\n",
      "more counselors and more accessible counseling for students who need it \n",
      "\n",
      "more accessible counseling for students who need it\n",
      "\n",
      "27 more\n",
      "\n",
      "better and more accessible counseling for students who need it \n",
      "\n",
      "better and more accessible counseling for students who need it\n",
      "\n",
      "38 more\n",
      "\n",
      "\n"
     ]
    },
    {
     "name": "stderr",
     "output_type": "stream",
     "text": [
      "Both `max_new_tokens` (=100) and `max_length`(=100) seem to have been set. `max_new_tokens` will take precedence. Please refer to the documentation for more information. (https://huggingface.co/docs/transformers/main/en/main_classes/text_generation)\n"
     ]
    },
    {
     "name": "stdout",
     "output_type": "stream",
     "text": [
      "our therapists need to be more responsible and make more of an effort to reach out to their patients \n",
      " (u should do more to make your therapists more helpful, they're kinda unhelpful atm) \n",
      "more accessible therapists \n",
      "more accessible counselors \n",
      "more counselors/therapists on campus \n",
      "more accessible therapists/counselors \n",
      "better trained/more experienced therapists\n",
      "more therapists/counselors\n",
      "more available therapists/counselors \n",
      "more helpful\n"
     ]
    },
    {
     "name": "stderr",
     "output_type": "stream",
     "text": [
      "Both `max_new_tokens` (=100) and `max_length`(=100) seem to have been set. `max_new_tokens` will take precedence. Please refer to the documentation for more information. (https://huggingface.co/docs/transformers/main/en/main_classes/text_generation)\n"
     ]
    },
    {
     "name": "stdout",
     "output_type": "stream",
     "text": [
      "i can’t really say anything works well. i called our counseling center in spring 2021 and referred to an off campus online therapy service, had my appointments that i waited months for canceled twice. it was pretty disheartening \n",
      "i think the counseling center is doing a good job and should receive more funding. \n",
      "the college should have more group therapy options for students. \n",
      "there should be more options for therapists that are diverse. \n",
      "the college should do something about how difficult it is to get counseling and make it accessible to more students who need it. \n",
      "the college should offer more individual therapy appointments and make that accessible to more students who need it.\n"
     ]
    },
    {
     "name": "stderr",
     "output_type": "stream",
     "text": [
      "Both `max_new_tokens` (=100) and `max_length`(=100) seem to have been set. `max_new_tokens` will take precedence. Please refer to the documentation for more information. (https://huggingface.co/docs/transformers/main/en/main_classes/text_generation)\n"
     ]
    },
    {
     "name": "stdout",
     "output_type": "stream",
     "text": [
      "i never used the campus resources so i could not say. i always see posters everywhere so i know that they exist. \n",
      "\n",
      "\n",
      "i think that the resources should be posted more around campus. i also think that it should be easier to find on the counseling center website. \n",
      "\n",
      "\n",
      "i would say that the counseling services are good at helping people. they always have staff available which is nice. i think that they should have more staff. \n",
      "\n",
      "\n",
      "i think that the counseling services could be improved by having more available staff. it's nice that they are almost\n"
     ]
    },
    {
     "name": "stderr",
     "output_type": "stream",
     "text": [
      "Both `max_new_tokens` (=100) and `max_length`(=100) seem to have been set. `max_new_tokens` will take precedence. Please refer to the documentation for more information. (https://huggingface.co/docs/transformers/main/en/main_classes/text_generation)\n"
     ]
    },
    {
     "name": "stdout",
     "output_type": "stream",
     "text": [
      "caps is an accessible resource but it can only do so much.համահայթներումըընի հիվանդություններումըընի ընթերը կայանարկույթին էինինք կարուղիչ ընթերը չ\n"
     ]
    },
    {
     "name": "stderr",
     "output_type": "stream",
     "text": [
      "Both `max_new_tokens` (=100) and `max_length`(=100) seem to have been set. `max_new_tokens` will take precedence. Please refer to the documentation for more information. (https://huggingface.co/docs/transformers/main/en/main_classes/text_generation)\n"
     ]
    },
    {
     "name": "stdout",
     "output_type": "stream",
     "text": [
      "osu’s counseling and consultation services is a complete mess. it is advertised as a therapy option, yet students in crisis aren’t able to get in for months, and the help is near useless.  buckeye healthcare is the college’s insurance provider, but the counseling services are provided by ohio state, so it’s a little convoluted.  buckeye healthcare doesn't provide mental health services, but ohio state is required to refer students, regardless of whether it can or can't offer said services.  buckeye healthcare has to refer students to ohio state for counseling services, which\n"
     ]
    },
    {
     "name": "stderr",
     "output_type": "stream",
     "text": [
      "Both `max_new_tokens` (=100) and `max_length`(=100) seem to have been set. `max_new_tokens` will take precedence. Please refer to the documentation for more information. (https://huggingface.co/docs/transformers/main/en/main_classes/text_generation)\n"
     ]
    },
    {
     "name": "stdout",
     "output_type": "stream",
     "text": [
      "i love the space on the main campus, it's so welcoming and safe, it doesn't even feel like i'm on campus. i also like how many, not all, of the counselors, are licensed professionals, which gives me peace of mind. i think most students agree there needs to be more counselors or if not a good relationship with a network of counselors. once you are in the system it's not bad to get an appointment, but the initial appointment is hard to get. help but you need to go to the wellness center to get help and they don't take walk-ins. \n",
      "\n",
      "i think the staff could do a better job of making it more accessible. for example, i went to the wellness center in the fall and when i was checking in they told me that they were a little busy and i could go back in 30 minute to an hour. i ended up waiting about an hour and that's when the whole \"you\n"
     ]
    },
    {
     "name": "stderr",
     "output_type": "stream",
     "text": [
      "Both `max_new_tokens` (=100) and `max_length`(=100) seem to have been set. `max_new_tokens` will take precedence. Please refer to the documentation for more information. (https://huggingface.co/docs/transformers/main/en/main_classes/text_generation)\n"
     ]
    },
    {
     "name": "stdout",
     "output_type": "stream",
     "text": [
      "i think that the thing that needs the most focus on is making sure that we have complete access to wellness services 24/7.\n",
      "\n",
      "i think that the staff needs more training on the different types of mental illnesses that people have. \n",
      "\n",
      "i think the college needs more group therapy sessions that students can attend.\n",
      "\n",
      "also, the college needs more information about what different types of mental illnesses are. \n",
      "\n",
      "\n",
      "i am very impressed by the amount of resources that the college provides for the students. \n",
      "\n",
      "i think that it needs more advertising so that students know what\n"
     ]
    },
    {
     "name": "stderr",
     "output_type": "stream",
     "text": [
      "Both `max_new_tokens` (=100) and `max_length`(=100) seem to have been set. `max_new_tokens` will take precedence. Please refer to the documentation for more information. (https://huggingface.co/docs/transformers/main/en/main_classes/text_generation)\n"
     ]
    },
    {
     "name": "stdout",
     "output_type": "stream",
     "text": [
      "not sure i have not used the services because i honestly didn't know about them.\n",
      "the school should advertise more about the services provided\n",
      "i would say that they need more staff to be able to help more students.\n",
      "i think that they should also have group therapy because sometimes you need to share your struggles with others, and they don't provide that.\n",
      "overall, i would rate the overall wellness resources at my school as mediocre.\n",
      "they need to have a better marketing plan to reach out to more students.\n",
      "the school needs\n"
     ]
    },
    {
     "name": "stderr",
     "output_type": "stream",
     "text": [
      "Both `max_new_tokens` (=100) and `max_length`(=100) seem to have been set. `max_new_tokens` will take precedence. Please refer to the documentation for more information. (https://huggingface.co/docs/transformers/main/en/main_classes/text_generation)\n"
     ]
    },
    {
     "name": "stdout",
     "output_type": "stream",
     "text": [
      "i understand counseling is a profession but we pay so much in tuition and counseling on campus still costs money. many don’t seek help because they cannot afford it due to the insane tuition prices they’re already paying. \n",
      "\n",
      "as a student i know i would be more inclined to talk to a counselor at the campus if they were free. also the counseling needs to be more open. it should be a more open environment. they should be able to help students even if they’re not diagnosed or whatever. the counseling on campus is very specific, i think a better way to do it is have different counselors for different things. like one counselor for de\n"
     ]
    },
    {
     "name": "stderr",
     "output_type": "stream",
     "text": [
      "Both `max_new_tokens` (=100) and `max_length`(=100) seem to have been set. `max_new_tokens` will take precedence. Please refer to the documentation for more information. (https://huggingface.co/docs/transformers/main/en/main_classes/text_generation)\n"
     ]
    },
    {
     "name": "stdout",
     "output_type": "stream",
     "text": [
      "i think the university does a good job advertising different support groups but i think that there should be more access to counselors. i have heard that it is difficult to find an appointment and that they only have a limited amount of time per appointment, which makes it not as helpful. \n",
      "\n",
      "\n",
      "overall, our college/university provides a good amount of mental health resources, but i think that it could be improved by offering more counseling services that are more open and accessible to all students and faculty. for example, there should be more group therapy sessions, more individual appointments available, and they should be more widely promoted on campus. i think that\n"
     ]
    },
    {
     "name": "stderr",
     "output_type": "stream",
     "text": [
      "Both `max_new_tokens` (=100) and `max_length`(=100) seem to have been set. `max_new_tokens` will take precedence. Please refer to the documentation for more information. (https://huggingface.co/docs/transformers/main/en/main_classes/text_generation)\n"
     ]
    },
    {
     "name": "stdout",
     "output_type": "stream",
     "text": [
      "general attention should be increased for he availability of mental health services on campus.  also the process of getting appointments needs to be more efficient as i was on the wait list for 3 months and i was told they only do 6 appointments a day.  more money should also be given to this department as it seems like they only do a surface level job and don't go deep enough.  there needs to be more therapists available.  the college does a good job of making this resource available but it's hard to find someone to fit your\n"
     ]
    },
    {
     "name": "stderr",
     "output_type": "stream",
     "text": [
      "Both `max_new_tokens` (=100) and `max_length`(=100) seem to have been set. `max_new_tokens` will take precedence. Please refer to the documentation for more information. (https://huggingface.co/docs/transformers/main/en/main_classes/text_generation)\n"
     ]
    },
    {
     "name": "stdout",
     "output_type": "stream",
     "text": [
      "i feel that the mental health services could be better expanded on campus \n",
      " \n",
      "i feel that there should be more options in terms of which mental health provider that students can go to. \n",
      " \n",
      "i feel that there should be more options when it comes to which mental health providers that students can go to.\n",
      " \n",
      "\n",
      "i wish that the campus would be more proactive and pro-student in terms of mental health, instead of reactive and anti-student. \n",
      " \n",
      "the campus should be more proactive because they should take the\n"
     ]
    },
    {
     "name": "stderr",
     "output_type": "stream",
     "text": [
      "Both `max_new_tokens` (=100) and `max_length`(=100) seem to have been set. `max_new_tokens` will take precedence. Please refer to the documentation for more information. (https://huggingface.co/docs/transformers/main/en/main_classes/text_generation)\n"
     ]
    },
    {
     "name": "stdout",
     "output_type": "stream",
     "text": [
      "i haven't used any mental health services on campus so i can't really answer that question. i think one thing that needs to be focused on more is just overall loneliness. loneliness is so much more than just being alone. \n",
      "\n",
      "as far as improving the services at the wellness center i think more outreach and advertising is needed. \n",
      "\n",
      "for improving the counseling services on campus i would say that there needs to be more staff and more flexible hours. \n",
      "\n",
      "for improving the counseling services at the college i think they should look to the university counseling services and see what they do differently.\n"
     ]
    },
    {
     "name": "stderr",
     "output_type": "stream",
     "text": [
      "Both `max_new_tokens` (=100) and `max_length`(=100) seem to have been set. `max_new_tokens` will take precedence. Please refer to the documentation for more information. (https://huggingface.co/docs/transformers/main/en/main_classes/text_generation)\n"
     ]
    },
    {
     "name": "stdout",
     "output_type": "stream",
     "text": [
      "not too sure. don't have a ton of exposure to on campus counseling 29 83 97 99 09 12 14 19 19 22 24 (1) 24 (22) 25 26 34 35 39 40 (9) 40 (2) 40 42 43 44 48 59 66 66 70 75 \n"
     ]
    },
    {
     "name": "stderr",
     "output_type": "stream",
     "text": [
      "Both `max_new_tokens` (=100) and `max_length`(=100) seem to have been set. `max_new_tokens` will take precedence. Please refer to the documentation for more information. (https://huggingface.co/docs/transformers/main/en/main_classes/text_generation)\n"
     ]
    },
    {
     "name": "stdout",
     "output_type": "stream",
     "text": [
      "the appointment system for mental health services is bad. it doesn't represent the full range of services. i don't think they do individual therapy because i didn't get referred for individual therapy. 12 week time commitment isn't that helpful especially for someone who is struggling to the point of seeking help but not to the point where they are committed. 12 weeks of therapy isn't going to be that helpful for a student who has been struggling for years. they should have more staff to help. they should also be able to be a bit more flexible\n"
     ]
    },
    {
     "name": "stderr",
     "output_type": "stream",
     "text": [
      "Both `max_new_tokens` (=100) and `max_length`(=100) seem to have been set. `max_new_tokens` will take precedence. Please refer to the documentation for more information. (https://huggingface.co/docs/transformers/main/en/main_classes/text_generation)\n"
     ]
    },
    {
     "name": "stdout",
     "output_type": "stream",
     "text": [
      "while caps is doing a good job it is my understanding that they need additional resources to better serve the college community \n",
      ", i think they should open up a tip line so that students could report when they are starting to feel overwhelmed and unsupported but don't want to report to a formal resource. i also think a better system should be put in for referrals to off campus resources as the current process is very vague and doesn’t give the student much information or guidance beyond what type of resource they need.\n",
      "\n",
      "as a peer advocate i see a lot of students who are\n"
     ]
    },
    {
     "name": "stderr",
     "output_type": "stream",
     "text": [
      "Both `max_new_tokens` (=100) and `max_length`(=100) seem to have been set. `max_new_tokens` will take precedence. Please refer to the documentation for more information. (https://huggingface.co/docs/transformers/main/en/main_classes/text_generation)\n"
     ]
    },
    {
     "name": "stdout",
     "output_type": "stream",
     "text": [
      "tuttleman counseling is nice when you have access to a counselor, but not many people seem to have the privilege of that, since many are referred out. i think there should be more done related to trauma and news, such as racially-charged incidents  that are harmful to students of color.  i am a person of color and many of the racially-biased articles and events are triggering to me, and i think there needs to be more staff who can help with these types of situations.  more staff means more access and more people can be referred.  it's also very difficult to get referred out, as many counselors are not taking more clients, especially since covid.  there should be a better system\n"
     ]
    },
    {
     "name": "stderr",
     "output_type": "stream",
     "text": [
      "Both `max_new_tokens` (=100) and `max_length`(=100) seem to have been set. `max_new_tokens` will take precedence. Please refer to the documentation for more information. (https://huggingface.co/docs/transformers/main/en/main_classes/text_generation)\n"
     ]
    },
    {
     "name": "stdout",
     "output_type": "stream",
     "text": [
      "i am not sure i got mental health counseling through my insurance \n",
      " (although i did have therapy on my own).  i think the mental health coverage is a good idea as part of my insurance.\n",
      "\n",
      "13. do you think college is doing enough to help students with mental health?  why or why not?  \n",
      "i would give them a 50 on this question.  we need more people on the staff.  i know they have increased the number of people, but we still need more.  it is difficult to\n"
     ]
    },
    {
     "name": "stderr",
     "output_type": "stream",
     "text": [
      "Both `max_new_tokens` (=100) and `max_length`(=100) seem to have been set. `max_new_tokens` will take precedence. Please refer to the documentation for more information. (https://huggingface.co/docs/transformers/main/en/main_classes/text_generation)\n"
     ]
    },
    {
     "name": "stdout",
     "output_type": "stream",
     "text": [
      "i tried reaching out to campus mental health service online last semester, which was when i needed the most help but didnt get reply till now. so now i just tried to not rely on them and help myself more.\n",
      "the counselor i met online at campus's website was great. she listened patiently, asked questions, and gave me tips and resources. i think they need more staff. they need to hire more counselors so that they can help more students.\n",
      "\n",
      "campus health and wellness services are great. they are always available. they are also diverse as they have staff and therapists of different races and sexualities.\n",
      "the college health office needs more\n"
     ]
    },
    {
     "name": "stderr",
     "output_type": "stream",
     "text": [
      "Both `max_new_tokens` (=100) and `max_length`(=100) seem to have been set. `max_new_tokens` will take precedence. Please refer to the documentation for more information. (https://huggingface.co/docs/transformers/main/en/main_classes/text_generation)\n"
     ]
    },
    {
     "name": "stdout",
     "output_type": "stream",
     "text": [
      "i hardly hear about the resources available concerning mental health.they are either nonexistent, too few or not well advertised. \n",
      "\n",
      "\n",
      "more attention on available resources for mental health is needed. \n",
      "\n",
      "i have had no experience with counseling on campus so i don't know what they can offer. \n",
      "\n",
      "more advertisement for the resources available is needed. \n",
      "\n",
      "more staff is also needed for those who may need help immediately. \n",
      "\n",
      "\n",
      "\n",
      "i would give them a c or a d because they need more staff and better advertisement of these resources on campus.\n"
     ]
    },
    {
     "name": "stderr",
     "output_type": "stream",
     "text": [
      "Both `max_new_tokens` (=100) and `max_length`(=100) seem to have been set. `max_new_tokens` will take precedence. Please refer to the documentation for more information. (https://huggingface.co/docs/transformers/main/en/main_classes/text_generation)\n"
     ]
    },
    {
     "name": "stdout",
     "output_type": "stream",
     "text": [
      "timely md was a great addition. just all psychiatry as a whole. students should be able to get in to see someone immediately. mental health isn't something that can wait a couple of months.  also, a bigger emphasis on group therapy should be expanded. a lot of people don't want individual therapy but group therapy.  also, they're often put on ssri's which isn't always helpful and aren't as helpful as other meds.  i wish there's a bigger emphasis on other meds. also a referral program to see off campus resources that are more geared to the specific need (ie. addiction).\n"
     ]
    },
    {
     "name": "stderr",
     "output_type": "stream",
     "text": [
      "Both `max_new_tokens` (=100) and `max_length`(=100) seem to have been set. `max_new_tokens` will take precedence. Please refer to the documentation for more information. (https://huggingface.co/docs/transformers/main/en/main_classes/text_generation)\n"
     ]
    },
    {
     "name": "stdout",
     "output_type": "stream",
     "text": [
      "the mental health service that is helping students is the coaches that we get. it helps students to always have someone to talk. it is a great resource for students but it is only for sports related.  they also have the wellness centre but it is only for individual appointments. they could use more resources for individual appointments. the wellness centre could be expanded as well.  they also have groups that you can join like yoga and meditation which i do often. i think that they could also have an on-campus counsellor to help students on an individual basis. they also have a\n",
      " mainly one counselor, jasmine, has been helpful. need more services/talks about nutrition/body image for students of color and athletes of color because elizabeth allred is not a safe space to discuss either of those. need more groups that focus on these issues.  more groups that are led by poc. need more options and that they be posted in more places like on the boards around campus, in the library.  need more group leaders that are people of color (especially for athletes and students of color).  more options to be posted on the website. more options on the wellesley college app.  better options to be posted in the student handbook.  options for groups that are\n",
      "['the habif mental health staff need more attention. there is such little staff that appointments are rare. uncle joes is a good resource but students shouldn’t have to rely on peers due to inaccessibility to professional mental health services on campus. 3112 and 3114 should be staffed around the clock for students who need immediate help. there should be more therapists and staff to meet student demand. the counseling staff is underfunded and overworked. 3112 should have a minimum of a bachelor’s degree in a relevant field (ie: psychology, sociology, social work, counseling) and 3114 should have a master', \"we offer a lot of resources but it's unclear how helpful they are. (i have not tried to use them but i've heard from others that the staff is not helpful.) i think having more therapists on campus would be helpful. 411 counseling doesn't always have appointments available. more staff would increase available appointments and would make it easier for people to get them. 411 counseling should also be promoted more as it's not as easy to find as it should be. 411 coun\", \"i think the mental health department is good but just lacking funding and resources. it’s hard to schedule staff for counseling appointments and there also isn’t much importance placed on mental health in comparison to schoolwork. \\n\\nthe college does a good job of having a variety of resources and professionals. i think there just needs to be a way to make them more accessible. for example, if we could set appointments online or have a hotline that students could call that wouldn't be as intimidating as calling a person. \\n\\ni wish we had more staff to accommodate more students. i also would like it if there was someone that specialized in abuse or tra\", 'i haven’t gone through lsu for mental health services, but my friend has and they have treated her pretty well. she’s being covered by the lighthouse program and they have been really helpful for her. i can’t afford it, but it’d be nice if some of my fees i pay for school were allocated for mental health services. louisiana’s state funding for mental health services aren’t the greatest either so lsu should do their best to step up in this aspect. 16 10 2021\\ni have only experienced the lighthouse services at lsu, but i’ve heard bad things about other universities. lighthouse seems to be the best resource at lsu but it’s still not enough. 16 10 202', \"i think they have decent programs in place but not many people know about them or actually access them \\n. i know a lot of people who would benefit from them but don’t utilize them which is unfortunate. \\n\\ni wish they had more resources for pcs, which is what i struggle with the most. they also need more staff. it feels like no one ever answers the helpline and the therapist that are available are often not helpful and not a good fit, so i stopped going altogether. \\n\\n\\ni don't use the on\", 'i have a few friends who have regular or semi-regular counseling meetings. they seem very grateful to have those sessions and look forward to the days they can talk things out with a professional on campus. i guess as someone who is interested in starting counseling, i don’t know where to begin so that may be something they could communicate more to both new and attending students. i also have a hard time reaching anyone on the campus counseling services and i know others do as well so i wish there was some way to reach out that was more accessible and less of a hassle than the current way. they’re great at what they do but if they had an easier to contact and easier to set up meeting system, even if it’s only a bit easier, it would be helpful. \\n\\ni think they could improve by advertising their services', \"the wellness counseling is spectacular but please give them a raise and expand the staff.  i had to wait a month to get help sometimes.  this isn't the case for every student but for me it was.  i think there should be an easier way to get a same or next day appointment.   maybe have a triage person or something so they can prioritize who can be seen.  i know the wellness office can't expand because they don't receive any funding which i don't know how to fix other than asking the university to give them money.  i know they're\", \"there are not enough counselors and i have heard so many stories (including my own experience) where friends have wanted to go to counseling services and they are told they have to wait months to book an appointment.\\ni think that there needs to be a way where the college can prioritize those who need help the most. \\n\\ni have gone to counseling services here before before and it is very hard to get an appointment. \\n\\ni feel that the counseling services here should focus more on the student's immediate needs, rather than focusing on the long term goals.\\ni've gone before and it felt like they were focused on what i wanted to\", \"the telehealth line takes too long and seems overly complicated for someone like me (a severely anxious person). it would be nice if there were easier accessible online options for students that didn't just involve a phone call/zoom session where i have no idea what to say or do - especially as someone seeking mental health services for the first time. and for me, it was because i needed help and was scared to ask. so i called the wellness centre and it was a very helpful and reassuring phone call, but i wish there were more accessible options. \\n\\ni've heard that the college has started to do online options (which is great) but it would be helpful to have an easier way to find this resource online. i mean, it's right there, but i think there needs to be a\", \"the presentation of possible services such as telehealth and the ease of use for mental health services is good. i think mental health check ups could be implemented through the semester more. \\n\\nit seems like mental health needs to be taken more seriously throughout the university and more resources should be given and more staff should be hired. \\n\\nthe staff seems to be very helpful and are willing to help, but they are stretched thin and don't have enough staff. \\n\\nit would help to get more staff and increase financial aid to make getting mental health services more accessible. \\n\\na mobile app with resources, such as where to get help on\", \"i do not know how the services function as i have never required them.. the school should have people checking up on students and making sure they are okay. i have heard that the counselors at asu are not helpful. they just want to sign you off. you need someone to talk to, not someone to sign you off.  the counseling services are underfunded. they are only available for a small period of time during the day, and only for a certain amount of days out of the week. it doesn't help that the coun\", \"the counseling center of kalamazoo college is known amongst the students to be generally very bad at the services it provides.\\nmore staff and training for those staff that are there.\\ni haven't used it much so i'm not sure.\\nmore staff, more training for staff, and more diverse staff.\\nthey're not diverse.\\nthe college as a whole needs to be more aware of its own racial biases and needs to be proactive about correcting them.\\nmore money for the wellness staff and more training for staff.\\nhigher salaries for staff so\", 'there are not enough counselors so i have heard it is hard to have appointments at a necessary frequency. \\n\\nalso they should have a way where you do not have to physically go somewhere to see a therapist, like have it in the cougar health center where there is a little room with a therapist or something. \\n\\nthe therapists need to be more diverse. \\n\\nthey need to be more understanding, not just listen and say you are fine, but listen and say what you really need to say. \\n\\nthe counseling services', \"i think the triage needs more attention. it seems excessive to wait at least 45 minutes to get help. but their referral plan has excellent rates if you have school insurance. 2/3 of the students are on this, even though there is a state plan. i think a little more communication on this part would be great. i had to do my own research into the state plan. it's cheaper, but less reputable. \\n\\ni think a more accessible online program would help. i don't know if this is offered, but it would be helpful. a more streamlined referral program would be great. right now, it seems\", \"the well for sexual health supplies. they can add in person mental health services instead of online.  the mental health resources are not helpful. need to be more helpful.  more options to see providers. the online resources are not helpful at all. need more online resources, specifically for people of color.  i've had 2 experiences with laredo college's mental health resources and they weren't helpful.  they need a counselor on site for people who can't do online meetings.  more resources for people who can't go to\", \"in person counseling seems to be working well. the availability and the options for telehealth need to be expanded. 100% of my classes had a counselor on campus during the first two months of the fall 2021 semester. i had no choice to have a college counselor but i did. they don't do much other than listen. there isn't a therapist on campus. there needs to be. 10% of the college is on psyche medication. they have a psychiatrist on campus and i know of three people\", 'telecommunication for mental health is discrete and ran well but could reach out more to the students for those who are nervous to ask for help.Ћ \\nmore advertising of the wellness center and where to go for what and who to ask for help would help a lot.\\n\\nas a student athlete and having to balance time between school work and sports and needing help for mental health i wish there was a way to get help for both at the same time.\\n\\ni think it is important to have a counselor or someone who can help with mental health but they should also help with school work too to give', \"i haven't personally used any of the services, so i feel as though i am not qualified to answer this question. \\n\\nhowever, from what i have observed, my peers who have used their university's wellness services report that they are very helpful, and would recommend them. \\n\\ni have always thought of university as a place to learn, not to get help with your mental health. \\n\\nhowever, university should not be seen as a place to simply gain a diploma, and that university should not be the first place to seek help for one's personal life\", 'i am online so i don’t really go in person. i’ve never looked into these things because i didn’t know they were there. it probably has been sent to me as information in an email but i never saw it. definitely will be looking into it. 4.0 gpa, so i’m not struggling academically. \\n\\ni’ve struggled with depression and anxiety my whole life but i never sought help for it or even talked to anyone about it because i was so scared of being judged. i was judged anyway and it hurt me even more that i was right. i have no regrets and don’t care what other people think of me. i do care about how i come across, though', \"i think there needs to be more options for online students. i get all the info about on campus options but i’m not ever on campus - i’m an out of state student.  also more staff to be able to help with paperwork and forms - they are not super helpful.  i feel like my college has a lot of resources but they don't necessarily advertise them which is why i would suggest a little more advertising of them.   i don't know what they could be advertising specifically though - there's already so many resources that they offer.  also more financial aid to be able to cover mental health services. i don't have\", 'i don’t know, i’m an online student  who hasn’t utilized the services.  maybe a bigger push would help?  a more proactive approach.  a survey or something.  you can’t assume that everyone knows where to go and what resources may be available.  you have to make the effort to tell people and show people.  a more robust directory of what resources are available, with information on whom to contact and what they can help with, would be helpful, too.  i know i had no idea that the counselling office could help with financial', \"i think they need to do a better job advertising mental health services to students.Љ overall it seems like mental health is not a priority to the school, which is disappointing.  over all i think the counseling services are fine but i don't think they're well publicized at all, which should be a priority.  i think they need to have more counselors to accommodate all the students who need help.\\n\\n\\noverall i think they're doing a good job, but it takes a really long time to\", \"i would use counseling services if they were in person not on zoom because online i've had bad experiences.Ћ\\ni feel like there needs to be a way for students to get therapy that is more accessible. a lot of people want therapy but can't afford it.\\ni think there needs to be a way for students to get therapy that is more accessible. i know there is counseling at the student center but the amount of time that you can go is limited and it is only on tuesdays and thursdays from\", \"n/a\\n\\ni am unaware of what services are provided by the school because i have not sought them out.  i think that the school should make it more clear what resources are provided and how to get them.  the counseling needs to be improved the most.  it is not easy to schedule an appointment and the counselors are not always available when you want them to be.  the counselors also lack experience which is a major reason why i don't seek out counseling.   the therapy needs a lot of improvement as well.  a lot of people\", \"counselors need to be more diverse, as i've already mentioned.\\nmy visits to caps in fall 2019 were practically useless although i was on the brink of a mental health disaster in my life. thankfully, i fixed my problems with the help of friends, family, and even strangers over the semester i took off in fall 2020. this was only because those people truly understood my non-generic problems and were willing to give me time. they were willing to walk alongside me with my every day activities.\\n\\nmaybe matching students who can help each other and both can actually give time of the day to each other might be also a good solution.\\n\\nanother essential is having more counselors. i think being told to come back 14 days later is an absolute red flag.  willing to help.\\ni wish that the counselors here were more diverse because it makes me uncomfortable and i'm sure many other students feel the same way that i do. they need to have a diverse staff because i know that many students of color do not feel comfortable visiting counselors here due to their lack of diversity and that they feel more comfortable visiting counseling services that are more diverse.\\ni wish that counseling services were more flexible\", \"none, psychologist and therapist appointments are months out and if you go to them saying you're in an emergency you're locked up in the pysch ward for 72 hours with no beds, food, or phone access to call for help..  i ended up going to urgent care and spending my own money at a private facility because i couldn't get help anywhere.\\nnot enough staff, too focused on diagnosing rather than just listening and helping.  also, they don't have any providers specializing in trauma (aside from ptsd) which was a bit disappointing given the campus focus on trauma informed care.  it also seems that they are more focused on out patient than\", \"counselors are always available. sometimes it is hard for students to reach out first. the school should make it more normal. \\n\\nmore normalized, more open, more accessible, more supportive. \\n\\nmore supportive, especially for students of color and those with low incomes. more accessible, especially for those who need more immediate help.\\nmore normalized, especially for students who are not used to seeking help from counseling. more open, especially for students who feel they won't be taken seriously or that counselors will judge them.\", \"i like the counseling sessions where you speak with another student who is on campus and can help direct you to resources on campus. i feel like more people should go because there is a wide variety of resources that they could be directed to. \\n\\nmore of a personal thing is that i don't really like my adviser. \\n\\ni know that the college is expanding the amount of staff that it has, so this is definitely a good thing. \\n\\noverall, i feel like there could be more staff on campus in terms of advisers\", 'i think it would be helpful if they advertise any mental health support options they do have more.հանը ուսուցութեայմեն հարցությունը համար հակիր է այլ հասցանոցների տում կարող էր առողջացնել միան', \"they have a virtual counseling service which i think works well for people with anxiety about going into a physical counseling space. \\n\\nmore resources for physical counseling would be good, but it's not the college's job to provide those. \\n\\nthe counseling staff is very understanding and will work with students.\\n\\ni don't think they could do better. it's just a small school and they don't have the budget for more staff. if the college increased their funding, maybe they could.\\n\\ni have not seen it be improved.\\n\\nover\", 'none i’ve been to health counselling several times and the counsellor always ends up leaving cwru after a year. or i just don’t match well with the counsellor \\nthere needs to be a more diversity of counsellors. especially for students of colour. i have never seen anyone who looks like me at that office. and i’ve been there so many times. maybe they are just not trained to handle my type of issues. but i’ve been there like 4 times and never once was i referred to another counsellor for a different perspective. i felt like every time i talked to them it was the same conversation over over', 'i have never used any services at rctc, i seek help elsewhere.Ъ_1156415436.\\nmore staff, more knowledge, more resources, better training.\\nthe staff is great, but there is a limited amount, so the college should expand it.\\nit should be available online too, as many students are taking classes from home nowadz.\\nmore knowledge, more staff, more resources, better training, open 24 hours.\\na college therapist.\\nmore staff, more resources, better', 'i have consistently been very pleased with the mental health support that uwrf has provided me. the one thing that i wish that you guys would do is establish and maintain connections with local deliverance ministries so that people like me would know which ministries are available. i know of at least one person that is looking for a mental health professional that would be christian and they do not know where to even begin to look.  it is not easy to find mental health professionals that are also christian.  also, i have been asked by at least one person that i know who struggles with mental health if i could recommend a mental health professional and it was extremely difficult to find one that is both licensed and who is also a born again christian', \"caps is kinda diverse, but we could use more people because they're so slow in replying. (also i have a tough time reaching out lol) \\n\\nas a college student who struggles with her mental health and has a hard time reaching people, i wish we had more staff. i'm not knocking the staff we have, but i do think it would help if we had a little more. i think there should be people available to talk 24/7 so people don't have to wait to talk to another student the next\", 'while it’s not talked about much in ways such as emails, professors often provide links to learn so i appreciate that.Љ they can be more accessible by sending emails to direct people where to find it or how to get it \\n\\nthough they should also send a follow up after the grade is posted to let people know they can get it after the fact.\\n\\n\\n\\ni think it could use more resources. there is only so much they can do when the colleges restrict them. \\n\\n\\n\\nwhile it’s not talked about often, they have a good variety of tutors that you', \"i think it could have more staff to tell everyone about what is mental health and when do you need it.\\n\\ni think they could have more staff that could direct people to therapy if they feel like they need it, but don't know how to get it.\\n\\ni think that the college should have a directory or someone who is able to direct students on where to go.\\n\\ni have been to therapy before and it has helped. i wish that my counselors were also able to direct me to therapy because it has helped me a lot.\\n\\ni\", \"honestly i don't know because i have not used the resources but pet therapy has been awesome.. i think it could be improved if it was expanded upon \\n\\nbut i don't know how \\n\\n\\ni think more advertisment of services should be advertised and maybe more groups offered? i don't know what is offered but more expansion of it seems like it would be helpful. \\n\\n\\ni think people who are suffering should seek help more often? \\n\\n\\ni think the college does an excellent job in terms of advertisement for services\", \"many students base assumptions on all staff based off of how we interact with the more common employees. everyone who works at the front desk is very polite and helpful. but me and many of my (typically female-identifying) peers have felt unsafe, judged, and nervous around and with the nurses in bishop wellness center. they tell you rudely all of the things you could have done to avoid this problem rather than assisting us with the problem now. .  there are also only two counselors available during their posted time. i don't know the logistics behind this but i would definitely benefit from more counseling options.  they are also only available on monday, wednesday, and fridays.  i have been lucky enough to not have experienced any bad things here so i don't know what to do to remedy any of this but hopefully they'll take this feedback to heart.  i\", \"nothing is really working well. more flexibility when it comes to attendance and mental health. drs is helpful though. \\n\\nit's hard to get in with our on campus counseling services. we should have our own on site counseling. \\n\\nit would also be helpful to have a counselor at the athena center. \\n\\nmore group counseling sessions would be helpful. \\n\\nmore therapy dogs and puppies on campus would be great! \\n\\nit would be great to have a paws program at our campus!\\n\\n\", \"i would say the access to help during the day is beneficial however there needs to be 24 hour help as well because not everyone can make time during the day to use the services. (also there should have a way that the students are able to get the help without leaving the campus to go to another facility because it is a lot easier to just go to the wellness centers on campus than go off campus) \\n\\nthey also need to have more staff available because they get a lot of students who they are seeing and i'm sure a lot of the staff have a cap on how\", \"i like the availability of counseling and that it is at no charge — though have not used the service.  i also appreciate having someone on staff whose job it is to connect students with services. not everything should be done at the college, though.  some things should be referred to the community. i think that could be improved.  i think the college can do a better job of letting students know about the services that are available and who to talk to when they're experiencing a wide variety of issues.  i'm not sure if that falls under the mental health department?  i\", 'i enjoy the pet therapy program and i believe that works well, i believe the campus needs more long term therapy options and an in office psychiatrist. \\n\\n\\ni would recommend that the campus have more of a long term therapy options and a psychiatrist on staff. \\n\\n\\ni think the mental health and wellness needs more attention and more resources. the campus should consider having a psychiatrist and a counselor on campus.\\n\\n\\ni think there needs to be more counseling sessions and more staff. \\n\\n\\ni feel that the college should hire more counselors/therap', 'telehealth is working well but we need more support on campus for students who want to  talk to someone in person.Ъ\\n\\n\\n\\n\\n\\n\\nmore support is needed. \\n\\n\\n\\n\\n\\n\\n\\n10\\n\\n\\n10\\n\\n\\n3\\n\\n6\\n\\n\\n8\\n\\n\\n12\\n\\n34\\n\\n14\\n\\n7\\n\\n2\\n\\n4\\n\\n5\\n\\n3\\n\\n8\\n\\n\\n10\\n\\n\\n27\\n\\n19\\n\\n4\\n\\n10\\n\\n\\n10\\n\\n', \"i don't know what's provided, therefore i think the services and programs should work on being more visible. \\n\\n\\n\\nmore resources for group therapy should be provided, and also more support in being able to get diagnosis from the university and not outside of it.\\n\\n\\n\\n\\n\\n\\n\\n\\n\\n\\n\\n\\n\\n\\n\\n\\n\\n\\n\\n\\n\\n\\n\\n\\n\\n\\n\\n\\n\\n\\n\\n\\n\\n\\n\\n\\n\\n\\n\\n\\n\\n\\n\\n\\n\\n\\n\\n\\n\\n\\n\\n\\n\\n\\n\\n\\n\\n\\n\\n\\n\\n\\n\\n\\n\", 'there shouldn’t be a limit on the number of mental health service appointments a student can make \\n\\nas a student, i struggle with social anxiety so i find that even when i know the campus map and buildings like the back of my hand, i still get lost when i’m going from one building to another. i’ve considered buying a map but i don’t want to carry the map around because it will take up space in my bag and will also weigh down my arms. so there needs to be more signage throughout the campus to help guide students to', \"i think our staff is great, just limited in time. appointments are booked out months in advance.  i think it's because they're good that they're booked.  we need money to hire more staff.  that's the only thing i can think of.  our services are great, but they're limited in capacity.\\ni think more money needs to be allocated towards our services so the wait times can be reduced.  also, more staff need to be hired so more people can be seen.\\nthe college needs more money to hire more\", 'i know there is an oncampus therapist, they can do a better job spreading the word about what’s available \\n\\ni like the resources that the school provides, more advertisements should be done so that other students know there is help available on campus \\n\\nthere should be more options for people, maybe a counselor, a therapist, and a psychologist. \\n\\ni think the resources that the school provides are adequate, more advertisements should be done so that other students know there is help available on campus \\n\\nmore staff needs to be hired', \"it's nice that it's pretty easy to schedule appointments but sometimes they aren't available when i need them and it's tough to get referrals, especially when they're so difficult to get in the first place. \\n\\nit would be nice if they were more proactive, like contacting students and reaching out when they could see a student could use some extra support, rather than relying on the student to bring up their concerns. \\n\\nmore resources would definitely help in some situations. \\n\\ni think there should be more options for individual\", \"i think they do work well, i just wish there wasn't a limit on how many therapy appointments you can get in a semester. (especially if you need more after the limit) 5 should definitely be the minimum for each semester, but that's just my opinion though. 446\\ni would say the only thing that i wish had more coverage is anxiety. 409\\ni would say that my experience with the wellness centre needs some work. 312\\ni don’t know about other people, but i personally don’t seek out help from on-\", 'expertise - i felt like i was talking to myself and solving my problems because my therapist didn’t give a professional opinion at a time when i thought i had many things wrong with me and needed clarity. \\n\\nstaff responsiveness - i felt like the people on the hotline weren’t helpful because they didn’t give me what i needed and didn’t seem like they wanted to help. they didn’t seem to care. \\n\\nhelpfulness - i didn’t really get a sense of helpfulness or lack thereof, but i think i could have done much better if my therapist had been more helpful. she didn’t give me a sense', \"there are some counselors available which is good, but not nearly enough.. \\n\\nthey need more counselors and make it easier for students to see them. it's a struggle to make an appointment, and they can't accommodate many students. \\n\\nthey also need counselors who are more diverse. i have had a lot of counselors, and i have never had a counselor who is a person of color, which is a huge issue when there are so many POC that need counseling.\\n\\n\", 'they do a good job providing training with where to access and how to provide service.հասար ու մարդահայեքը դրա վերձնում են համիրեր այրին դասանային հանդիսությունները ներկայան օրը ֆա', 'medical care and pharmacy services are good, but mental health is inaccessible and has bad rep \\n/commission on campus that helps you navigate campus resources should be expanded \\n\\n\\n\\n\\n\\n\\n\\n\\n\\n\\n\\n\\n\\n\\n\\n\\n\\n\\n\\n\\n\\n\\n\\n\\n\\n\\n\\n\\n\\n\\n\\n\\n\\n\\n\\n\\n\\n\\n\\n\\n\\n\\n\\n\\n\\n\\n\\n\\n\\n\\n\\n\\n\\n\\n\\n\\n\\n\\n \\n\\n\\n\\n\\n \\n\\n\\n\\n\\n\\n \\n\\n\\n\\n\\n\\n\\n\\n\\n', \"ccph is understaffed and underfunded to serve the entire umass community. the programs in place are advertised to students, but the therapy itself is largely inaccessible and unprofessional.  there's no real way to know ahead of time which therapist you'll get, and some therapists are completely unhelpful, inexperienced, and/or untrained (e.g., graduate students) which can make things even more unhelpful than they are already.  there's little oversight of the quality of services provided, and it's nearly impossible to get a referral or get a diagnosis from the college\", \"everything is working well and bgsu addresses every mental health concern equally. (from personal experience) however, there is a shortage of therapists.  it takes 2-3 months just to get in the first appointment which is not ideal at all.  although there are plenty of therapists, they are not covered by insurances including bgsu. i'm on my second year here and i'm still on my waiting list.  this is a major issue and should be addressed. i would recommend at least having 3-4\", 'i wish there were more counseling in person appointments with a therapist. it is hard to schedule an appointment and hard to find one that aligns with your needs \\n\\nas far as the services go, they are fine. they are able to connect you with a provider and they are able to refer you. it is more getting to the point that they can refer you. i am not sure if it is because there are not enough counselors or what is the cause. although, i have been able to get a referral and it is working out. \\n\\noverall, the services are good. if you can get in, it is', \"i know we have the wellness center but i have not used it. from my friends that have i hear staffing is the biggest issue since there are so many students and not enough counselors. 2. what is the most common reason students use mental health services? 3. what is the one thing that needs to be improved about mental health services the most? (i'm sure there are more but i'm limited by the number of questions allowed) 4. what can be done to make mental health services more accessible to student athletes? 5. what can be done to improve the availability of group therapy? 6. what are some things you would\", 'people would always talk about how caps is there for you, but it feels distant. \\n\\nwhen i went in, the person who helped me was really kind and she made sure to listen to me and talk things through with me.\\n\\ni would say the experience is more of getting a referral instead of therapy.\\n\\ni was referred to a therapist off campus and i never heard from that therapist.\\n\\n\\ni feel like there needs to be more advertising on where to get mental health help on and off campus.\\n\\ni didn', \"there is a counselor and an online quiz thing. i'm an online student, so maybe they can expand that. i don't feel like i would ever get help from them, although i know they are probably overworked and underpaid. they are a great resource for those who need it, though. 12/26/2021\\ni am not aware of any mental health services.\\ni think there should be more.\\ni have had no personal experience with them. 09/02/2022\", \"students shouldn't be put on a waitlist for months when they apply for student counseling. there should be enough staff to provide students with immediate help.  also, there should be a way for students to talk to someone 24/7, because sometimes people need help during the day and it's not feasible to go talk to a therapist during their normal hours.  i think having a 24/7 therapist would greatly benefit students, and it wouldn't be so scary for them to know they can go at anytime and get immediate help.  also, student health services should be more\", 'it is fairly easy to get in for an intake appointment. there are usually opening within a week or so. the therapists are nice, but i do feel as though the counseling is too general. it should be geared more specifically towards the student body. \\n\\noverall i do appreciate that they offer free therapy for students, but i think it should be improved. \\n\\n\\n\\n\\n\\n\\n\\n\\n\\n\\n\\n\\n\\n\\n\\n\\n\\n\\n\\n\\n\\n\\n\\n\\n\\n\\n\\n\\n\\n\\n\\n\\n\\n\\n\\n\\n\\n\\n\\n\\n', 'i think virtual counseling/telecounseling through zoom has been extremely helpful because more students are willing to seek help when they don’t have to meet the counselor in person due to anxiety and other reasons. (although i think some counselors could do a little better when setting up zoom meetings. some counselors schedule the meetings and tell the students how to do it. they don’t offer any direction and it can be a little intimidating. \\ni have not had personal experience with the on-campus counseling but i have heard that some students have had bad experiences with the counseling on campus. the college doesn’t offer any incent', \"i’ve never used any of the services but most students find the services provided by the university as extremely unhelpful. \\n\\nmost often they’re sent to an outside clinic which costs a lot of money. and they’re not covered by financial aid which adds even more pressure. \\n\\ni think more awareness of on and off campus resources needs to be spread. \\n\\nuva also has a long wait time for an initial assessment so students often don't even know if they’re eligible for these resources to begin with before they have to wait another month just\", \"i like that it exists. but i would love if it got expanded more to include a bigger staff to support more students. that way it would be more accessible  and feel less intimidating when you go in. i think that they could use more staff to make it more accessible and welcoming for students. i've heard from other students that there were not as many resources available when they went in, so maybe expanding that could be helpful. \\n\\noverall, i like that there are resources available and that there's no stigma or judgment for going. i think that expanding it to include more staff would help it feel\", \"aspects that could be improved are availability. what they do well is crisis services. \\n\\nthey don't do a good job with preventative work which is something they need to focus on more. \\n\\noverall i think the resources are decent they just need more staff to be able to provide more services. \\n\\nuhs could do a better job of reaching out to students and creating programs that are preventative rather than reactive. \\n\\ni'd recommend that they do outreach programs at all classes and have a counselor in\", \"none work in my opinion. caps was unable to find me a therapist and my only request was a female therapist. so disappointing and embarrassing or penn.\\ni think that the college does a good job of providing therapy options but it could be even more easily accessible. for example, when you go to the on campus services there isn't a way to set an appointment. you have to talk to a counselor first and then they'll give you a time. they could easily just have a time online for students to set an appointment that way they don't have to talk to a counselor beforehand and can just get\", \"from my experience everything is working well. i think they would benefit from having more people staffed to help the students. the staff is super kind and i've never had any issues but they need more people. if they had more staff i wouldn't have to wait 2-3 weeks for an appointment. \\n\\nuva's wellness service needs to be improved. they should have more staff and be more accessible to students. they need to advertise more so students who may need mental health help are aware of the resources available. \\n\\nuva should offer group sessions or therapy\", \"the group sessions for stress relief and meditation has worked great for me.\\ni believe more individual telehealth options would be great. \\n\\nalso, having more wellness coaches that aren't psychologists or therapists. i know many students, and i'm one of them, who would love to speak to a wellness coach or someone who is not a psychologist.\\n\\ni would really love to talk to a health professional who isn't a psychologist and a therapist. \\n\\nalso, more health professionals, especially therapists. it takes forever to\", 'i think we have had a really good counselor who is always willing to talk to students who are struggling \\n\\ni think we can improve on our therapy options for students. it seems like we are limited to only individual therapy, which may not be the best fit for some students.\\n\\n## Recommendation\\n\\n\\nwe need to expand our mental health resources. we need to have more counselors so that students can have more frequent therapy sessions. we also need to have more options for therapy, such as group therapy, because some students may not be comfortable', \"most of my experiences with these services were in 2019, when i was really struggling with depression and anxiety. i was told that there weren't enough resources to really help me, and to try and find a therapist off campus. i feel as though umass does a great job advertising, but it's hard to know that you'll get actual support when you need it. i think they just need more therapists overall and ones that specialize in what each student needs. i went to one therapist off campus and found that she was not the right fit. i was referred to another therapist, and they were able to pinpoint that i needed medication. i was able to get a prescription from the campus health center, but it was a hassle that i didn't need. the campus health center should make it easier to\", 'i have not been too concerned with the college’s mental health program since i work for the state and live in lincoln, both of which also have programs.Љ \\ni think there should be more advertising for the college’s mental health program. \\n\\n### more individual counseling appointments\\n\\nmore individual counseling appointments would be better than more group therapy appointments since i don’t think group therapy helps as much. \\n\\n### more support groups\\n\\nmore support groups would also help more people. \\n\\n#### support groups for different demographics of people\\n\\nsupport groups', \"sails department for special needs students and online students are a great asset for asu and more attention is needed to maintain good standards with them and also look to expand and help more students. \\n\\ni think more staff is a great resource and that aspect of asu is really well developed. i think more staff and more money for counseling is needed, especially for students of color, who have a higher chance of being targeted and are likely to need more assistance with these situations. \\na better online course system is needed. asu's online courses aren't really online courses and are more like hybrid\", \"nothing works as well as it should.  we need more counselors and psychologists who will help and not collect an hourly coin as my friends share their issues with no guidance or resolve.  i would say the wellness center is doing okay. they need more staff.  it's hard to schedule an appointment and they are often cancelled last minute.  i know my friends who have went and they say the advice given was good, but they don't want to go because of the long lines to get an appointment.  there should be a way to get an appt online for those who don't want to make the drive, but it's a good\", 'on site counselors\\n\\nactivities scheduled throughout week like therapy dogs on campus that help reduce stress\\n\\nmore on campus groups/activities for students to join that can aid in mental health needs\\n\\nmore group sessions held throughout week/on weekends\\n\\nmore staff hired that are fluent and able to help all types of students and their unique needs, such as LGBTQ+\\n\\nbetter advertisement of services offered on campus and how to get them \\n\\nbetter advertising of resources off campus and what they provide for students', 'to be totally honest, i’ve heard nothing but negative things about the professionalism and effectiveness of ut mental health services. (i’ve never personally visited them, though.) i know that they’re understaffed, which makes them hard to get an appointment with. \\n\\ni know that they don’t have a psychiatrist, so if you need medication, you’ll have to see an outside professional. i’ve heard from several people who went to the outside psychiatrist and the medication made everything worse, which is a huge fear that people have when looking into ther', 'all aspects have worked great for me, i think more diversity in counseling staff would be helpful. \\n\\ni think having a more visible directory would help. \\n\\nit would be helpful to have more counseling sessions available. \\n\\nit should be easier to get a session. \\n\\ni would like more group options as well. \\n\\nmore online options would be great as well. \\n\\nmore on-campus options, especially at lunch time would be beneficial. \\n\\nmore staff should be trained and hired. \\n\\nbet', \"gw and professors need to be more understanding and accommodating to students struggling with mental health instead of telling them to quit.հ\\n\\nthe counseling service needs more attention.\\n\\nmore groups for specific identity needs and more therapists that can provide more accommodating therapy for transgender people\\n\\nmore staff is needed to provide a consistent therapy option for students\\n\\nmore staff is needed for paws and the mental health advisor.\\n\\nmore staff for the mental health advisor because it's too difficult to book an appointment, especially when they're all fully booked.\\n\", 'i don\\'t think any of it is working \"well.\" iu needs more counselors and psychiatrists and better counselors and psychiatrists. if you are only going to offer help for those struggling on average low mental health rather than those struggling with real mental illnesses, say that. they need to have people on staff that can diagnose and actually help those with personality disorders, schizophrenia,  etc. i have had to go out of state because iu didn\\'t have anyone to help me with my son\\'s diagnosis and they didn\\'t refer me somewhere or give me the help i needed. that\\'s a problem. they also don\\'t help those with addictions. you need to be able to help everyone, not the average person who\\'s just kind of sad and stressed out. if it were up to me, i would outsource to a reput', 'i do not know because i have never had mental health issues.Ёйззз. i think a more professional team is needed. Ёйззз. a more accessible and welcoming team is needed. Ёйззз. more staff is needed. Ёйззз. a more diverse team is needed for the mental health center. Ёйззз. the mental health center needs to be more available to students.\\nthe resources are there, but they need to be more accessible to students. Ё', 'not sure, i have not utilized any of them at this time.\\ni am not aware of any that are specific to mental health.\\ni believe that they all need to be expanded.\\nthey are well connected to other services on campus and they provide individual sessions.  they also have a group called mindfulness and acceptance for students to go to. i would like to see them expand on the types of diagnoses that they treat.  i think it is more common for people to be diagnosed with mental health issues now and that it needs to', \"the fact that i know multiple people who were told they needed more support than mit could provide and then just completely ghosted is absolutely abhorrent. if someone so desperately needs help that the counseling services at the school aren't able to provide it, they absolutely should be doing everything in their power to connect that person with off campus resources that can help them immediately.  also, i have had some very kind people at mit's mental health services and i appreciate them and all the people there very much.  however, their resources just aren't enough and i think that they should take more people than they normally do to ensure that everyone gets the help that they need.\\nmore resources, more help with off campus referrals \\n\\n156\\n\\ni have not used the mental health services, but it seems that there is not enough staff\", \"i think the corec should offer more workout classes targeted to mental heanth and wellness 101 class for first year students that could help them navigate through the campus and find their feet \\n and also more individual appointments for people to talk about their struggles. \\n\\n\\nas a sophmore i don't know what is available other than the corec and i don't know if there is other places i could go.\\n\\n\\nalso it would be helpful to have a map of where all the mental health places are on campus\", 'the petting zoos and puppies are highly therapeutic. wish there were more of these opportunities \\n\\nthe on-campus psychologist seems very beneficial but i don’t know anyone that has gone, so maybe advertise more?\\n\\n\\nthe wellness center could use a bigger space and more staff, especially if you plan to expand.\\n\\nthe college counselor doesn’t offer much and i’m not really sure if it’s because she’s limited or that she just doesn’t care? i have had the privilege of meeting her and', \"telehealth has helped me alot with my mental health issues. however, i wish we had in-person counselors on campus because it is not the same talking to someone over a zoom call or on the phone as in person.  more on-campus services need to be provided, especially for students who live off campus.  for those who live off campus, it might take 30-45 minutes to get to campus and back, which is not ideal when you have an appointment.  i've had to reschedule my mental health appointments a lot because the counseling office can only accommodate a certain amount of students per day.  more staff needs to be hired to accommodate more\", \"a lot of students have benefitted from the student counseling center on campus. \\n\\nmore staff and a dedicated therapist should be appointed to the college, especially since it's such a popular service to use. \\n\\ni have used the services and found the staff to be very friendly and helpful.\\n\\nmore resources in terms of therapists need to be provided to students. \\n\\na therapist should be appointed for every campus.  \\n\\nthe services are great but more staff and a dedicated therapist should be appointed. \", 'i haven’t used any mental health services provided by the college, nor have i been informed of any. \\nhowever, i am familiar with the services that the university provides through my own experiences. \\nthe university does a good job at providing a variety of services for students. \\ni am also familiar with the services provided by my community, but i don’t feel they’re as good at meeting the needs of diverse populations. \\nfor example, the services provided are more focused on diagnosis and medication, which aren’t always necessary, and don’t really consider', 'there is a counseling center but it is always booked months out and by the time you get to a meeting i’m not sure your concern would be needed to be addressed anymore. \\n\\nthere should be a hotline or at least make it easier to sign up for appointments online/through phone.  \\n\\nthe people working there are great but the logistics of it is very unconventional and it’s hard to make an appointment which makes it seem as if they only want the most dire cases. \\n\\ni have never been to a place that doesn’t take at least a month to a couple months to get an appointment.\\n\\nmaybe', \"the campus needs better psychiatrists, the one i got wanted to increase my dose of medication every time, even if it hadn't worked in the past.  the prescribing process is also very long, and i think that needs more attention.  a better on call system would be nice as well.  i know the college tries its best with what they have, and i've met wonderful professionals through them.  it's just that they have limited resources. the therapists are great, and i think that should be expanded more.  overall though, as someone who's been in and out of college mental health services,\", \"i have not visited or experienced any of the facilities.\\ni think caps and the animals are great.\\noverall, more staff and a bigger facility.\\ni think it should be easier and accessible for students to be referred.\\ni've never really needed or wanted to use the mental health facilities on campus.\\nthey seem great but i've never had any experience with them.\\ni think they're doing a good job.\\nthey could always improve on making it easier for students to be referred.\\nit's a little bit difficult to be referred.\\ni like\", 'i was refused mental health counseling on campus because i was not being and abused or risk for my life because they didn’t have enough staff. 2 855-247-health (4325) for more information or to schedule an appointment. 24/7 mental health assessment and counseling services provided for students. the mental health services page has information about counseling, support groups, wellness, and other services. the college has a therapy dog who is available for student visits. the college has a staff member who serves as an on-campus advocate', \"i can think of one thing that works well. but as an online student referrals to services near me would be great. and i'm sure i'm not alone in this. 2.0\\nthey need more staff. they don't answer the phones half the time. and the online resources are limited compared to other schools. 2.0\\ni have no idea, but i'd say more staff is needed so they can answer the phones and direct people to the correct resources without having to transfer multiple times. 2.0\\nit would help if the online resources were more\", 'the counseling center is very accessible and affordable. i wish there were more remote options for counseling. \\n\\nmore remote opportunities for counseling would make the mental health services at mac even stronger. \\n\\nthe staff at the counseling center is wonderful and i appreciate how accessible they are and how affordable they are.\\n\\ni feel the college should focus more on remote opportunities for counseling. \\n\\nthe counseling services at mac have improved since my experience a couple years ago. \\n\\nthe only issue i have with the counseling', \"the uaa student health and counseling center and uaa care team services are great services provided by my college to help students who are struggling with mental health issue. students also have the option to anonymously advocate for teh wellness of a fellow student.  more resources need to be made for people who are on medications, who need a provider, or need an evaluation for diagnoses.  more staff, providers, and clinicians are needed so that people won't have to wait weeks to weeks to months to get an initial appointment.  more options of providers need to be made to help students find a provider they can trust and feel comfortable with.  an option for a psychiatry services needs to be offered for those who need\", \"i appreciate that the cook counseling center has multiple psychiatrists on staff who can prescribe/manage mental health medications (i've had bad experiences with some of the few off-campus providers before switching to cook), and the reception/nursing staff that help manage appointments and rx refill requests are quite helpful (especially nurse crystal) (i think the college needs to have a closer relationship with off-campus providers, as there are many off-campus providers that would welcome/accept student referrals, but are hesitant due to the college's reputation.\\ni've had several referral forms rejected because of the college's reputation, and that needs to improve.) the college definitely needs more on-staff providers, particularly ones who specialize in treating eating disorders\", 'the caps center and black bruin center is working well at ucla to help support students with resources, activities, and counselors regarding mental health.հականի համար առաջ առաջը՞ ներկայաւոր է ու ու հանդը ինչ ներչ հետ ու ու խեռինին՞՞ խեռնե', 'caps short term counseling does not work that well. some student could much benefit from a longer client-therapist relationship but don’t have the time, money, or knowledge of finding a therapist from outside the university. caps referral service also was terrible and didn’t help me. the quality of caps therapists were hit or miss—i’ve tried over 4 different people. the university also doesn’t prioritize student mental health in general, having a “wellness week” does nothing in comparison to actually having policies regarding attendance, longer and/or more frequent breaks, not letting professors assign work during breaks, etc. .  the wellness center is more of a gym with fitness instructors who can’t help with mental health. the university needs a real mental health clinic or a department that is staffed with trained, licensed mental health professionals that can help students on and off campus. \\n\\nthe university has a group therapy program. that is a fantastic resource. \\n\\nthe therapists and other mental health specialists are all contractors who are paid per', \"i believe their student health and wellness program is good and is an outlet for good resources. i believe their online resources such as tele-counseling needs more help.  it is difficult to get an appointment and the staff is not as supportive as they used to be.  i believe their support for students with chronic conditions such as mental health conditions need more attention and are not taken as serious.  for example, i've had a diagnosis of bipolar disorder and depression with a manic episode for several years and i don't think the student health services really cares for me, or my well-being and that i\", \"the mental health hotline works well\\n\\nsometimes there is a waitlist for therapy appointments, which isn't great. \\n\\nmore therapists need to be hired.\\n\\nit's hard to find people who are willing to talk about their mental health, particularly if they are struggling. i think more students need to normalize their own experiences. \\n\\nthe wellness center needs a rebrand to make it more welcoming for students. \\n\\ni don't know, i don't go. i wish i did though, because it's very well done.\", 'the college has a lot of services but medical intervention is typically a band aid for other deeply rooted problems. this is not a college-specific issue, however. mental health issues affect millions of people and the college cannot solve them on its own, no matter how much it offers. 4664053\\ni don’t feel as though we have enough resources for our students. there’s a long waiting list to see a therapist on campus, and i don’t know of any other resources either. i don’t want to have to go off-campus for help, but i don’t know where', 'just more coverage and talk about mental health in order to decrease stigmatization.  more people should feel comfortable reaching out for help.  more resources should be made available as well.  it can be difficult to navigate where to go and who to speak to.  i think that the process of finding a therapist should be simplified for students on campus.  i found that the therapists available through the school were more limited and not as diverse in terms of race/ethnicity and gender compared to the general campus population, which may have deterred me', 'i actually haven’t used them because i’m not used to ask for help when i have to 100% figure things out myself but i’m sure they’re fine. \\n\\nthey should make it so you can make appointments earlier in the day and not at the beginning of every hour because they get booked super early. \\n\\nmore counselors so you don’t have to wait so long to get an appointment. \\n\\nmore group therapy sessions and more therapy sessions in general. \\n\\na hotline so students can have an', 'caps system seems to be working, i wish that they were more clear on their physical location operating hours so that i could go see them when i needed to. (i went in for an initial appointment and they were very helpful, but they weren’t very clear on where they’re located, which was a bit stressful.) \\n\\nuva police should be better equipped to handle students who are in a crisis, both from a mental health perspective and also from a drug use perspective. i have heard many stories about uvp officers arresting students who are under the influence', \"unsure since i haven't used any of said services , although i have heard mental health services have ridiculous wait times.Ъ_Ъ \\nthey need more counselors.\\nmore counselors/psychologists.\\npsychiatrists.\\nbetter training for those who are doing the work.\\nmore staff.\\nmore support groups.\\nbetter support groups.\\nmore individual and small group therapy opportunities.\\ni haven't used any of the campus mental health services so i don't have any advice.\\nmore staff and more training for staff. \", 'i know only of two currently which is the counseling services and the 360 life services. they seem like they work great as i have not yet had to use them, however i am not sure how well they would work with being an only online student and having conflicting schedules and not having consistent counselors. \\n\\noverall the resources seem great and i am very thankful for them. i think having someone to reach out to when you need it can be life saving and i hope i never have to use it. although i think more resources should be available such as a psychiatrist for students who may need medication. \\n\\ni think more information should be available about where to go for what. especially for someone who is looking for a place', 'the activities and services provided by the mental health union run by students and the student wellness center are working great.Љ the resources provided could use more attention. more staff to help spread the resources around and more counselors to help. \\n\\nthe process for finding help could use a little more attention. it would be more helpful to have a page where you could fill out basic information and have your email or phone number to contact and also a form to fill out in the on campus therapist office that is more simple and direct. \\n\\nhigher level staff and faculty should be more', 'more checking in on students’ mental health and easy access to resources. \\n\\n\\nmore understanding of how much weight students put on their grades and how it affects their mental health. \\n\\n\\nbetter professors, especially in general education courses. \\n\\n\\nmore professors willing to work with students when they fall behind. \\n\\n\\nmore leniency with attendance policies, especially in large lecture classes. \\n\\n\\nmore professors willing to let students choose their group project partners, especially in upper division courses that are', \"the on-campus mental health center frequently organizes events to spread awareness of certain mental health issues.  however, i've never really felt like those events did much aside from spread awareness.  i think more individualized, smaller-scale events would be more impactful.  i've never felt like there were many resources to directly help students (ie referrals to therapists in the area, etc).  there are therapy options through the campus health center, but i feel like they could use more providers and the referral process itself could be more stream\", \"i have never struggled with mental health issues. i do not know what my college needs to do or works well. \\n\\ni do not use my college's mental health services. \\n\\ni don't know what my college could improve upon in terms of its mental health services.\\n\\ni do not receive any mental health help from my college. \\n\\nthe college needs to be better at advertising its mental health services and making them more accessible.\\n\\ni would use the college's mental health services if they were more accessible.\\n\\ni have used the college's\", 'there are issues with certain individuals who run the counseling program and how they interact with their patients. at times, it feels inappropriate. overall, i am happy with the counseling services offered. i have seen multiple counselors over the year and i feel i have made great progress. \\n\\ni think the counseling program needs more people to staff it. it is always difficult to see someone for the first time and know no one. i would encourage a more welcoming environment to get new clients. \\n\\nthey need to have an easier process to get into counseling and have more counsel', \"we have a counselor and my coach has bi weekly meetings for mental health. im not sure what else other than a nurse on campus who could like prescribe medication would help. i think they should add that to the staff. \\n\\nuic provides a lot but not many people know about it. they should advertise more about what they offer. \\n\\ni think they could add a 24 hour hotline that way people can call at any time and not wait for the office hours. \\n\\nuic has a lot of resources, i don't think any need to be added. although they need to advertise more and be accessible at\", 'ultimately, i believe that my university is very well educated on and equipped for offering diverse and more than sufficient mental health resources, and it now comes down to student choice and students approaching and accepting the proffered help.Љ\\n\\noverall, my university has very well established and diverse mental health offerings. although it would be nice if it were slightly easier to obtain these resources, they are definitely available and staffed by people who truly care.\\n\\n\\n\\n\\n\\n\\n\\n\\n\\n\\n\\n\\n\\n\\n\\n## 02. what kind of mental health support services and programs are provided by my university? \\n\\nwe have counseling services, but they are limited. we also', 'i have only utilized caps as a resource. i believe this has worked well due to how much i love my counselor. however, it took a while to get to her. before this, i was placed with a counselor (who was a man when i asked for it not to be) who asked extremely invasive questions and was very misunderstanding. it warded me off from caps. i’ve also heard other people caps takes way too long to get back to them and doesn’t have enough room. you, and i have friends who have said the same with umn’s resources. \\n\\nmore counselors need to be available, and they need to be diverse in race and gender. \\n\\ni have no idea where i could go for outside counseling due to the lack of resources i hear about. \\n\\nmy biggest struggle is finding somewhere that i can go that i feel is a safe space. \\n\\ni feel that my college counseling services', \"the caps is working well. it's good with counseling but struggling on diagnosing and giving medication if it's needed. 0370 240 0000\\nthe staff are nice but very understaffed, and they can’t help with certain things.\\ni’ve used it a bit and the staff are really nice. there are not enough staff for diagnosing though, which makes the process really drawn out. they can refer for psychiatry though, which is very helpful. 0370 240 0\", \"cwc counseling is really difficult to get into. drc works really well to help alleviate some of the stressors / pressures that school has on mental health. \\n\\nmore resources for group counseling and more staff members would really help. \\n\\nuic needs more funding to help expand mental health resources \\n\\nuic's wellness center offers free yoga and dance / fitness classes which are really helpful. \\n\\nmore free mindfulness / relaxation / meditation / breathing workshops would help too. \\n\\nuic does need more staff members who speak spanish. \\n\\n\", 'i like group therapies a lot, but we need more resources for getting help for serious mental illnesses.  also, more staff to make appointments and to write letters to insurance companies would be helpful.  the college does an excellent job of getting the initial letters of diagnosis, but it’s a nightmare afterwards.  it’s hard to get a letter and it takes forever to get it processed.   i’m on disability and i’ve been fighting for years with my insurance company.  they won’t even cover the mental health part of my', \"the nutritionist at the student health and wellness center used to provide me with a good support for my poor relationship with food and body image.  however, they no longer provide that service. i wish they still offered it or there was another place on campus that did.  i don't know where to go for that sort of support anymore.   also, the student health and wellness center doesn't offer counseling which i think is also a very important component to one's overall health.  i don't really have a solution, but i think that the campus should offer both counseling and nutr\", 'the fact that mental health services are offered is a step in the right direction, but it does not seem to be meeting the sheer demand of students who require assistance. counselling needs to be expanded, in addition to being made more accessible and personalised for students, or else its efficacy, in my opinion, will be severely limited. \\n\\n\\noverall, the university does a fantastic job in making mental health services known, and i believe that this is a crucial and necessary aspect of a university experience, particularly given how demanding university life can be. although i have never used these services, i know that many people do and that it is of significant help to them.\\n\\n\\ni think that the university’s mental health services should also be expanded to include more resources in areas, such as eating', 'we have a varieties of counseling, but it seems intimidating for those not familiar with counseling.հիս մասինընք ու հետազրակին կարող ենք հասնել վիճարերին, բոլոր այլ համար կարողի էնք խանտավորությու', \"the counseling office is small and can't accommodate the number of students who are seeking mental health counseling. it makes it extremely difficult to get an appointment. as a student studying abroad right now, i do not feel like i have any support or connection to the mental health services at wsu. 0.2% of the student body receives mental health counseling at wsu. this should be a priority and needs to be expanded. 804 student athletes receive counseling. why are the athletic teams getting more resources than the students studying? it's a huge problem. i hope that more students reach out to wsu's mental health services and that they will get more resources. they need it. 31% of wsu students experience de\", \"we only have one counselor at the asia campus. she's nice but not every person works well with the same type of counselor. 24 hour on demand counseling should be made available.  also, there needs to be a way to see how far back your appointments are filled.  they've filled up my first appointment before it's even time to make the appointment.  i have to go through the counseling office to see how far they're filled at any given time but they won't tell me. i know there's only one counselor because i asked. \", \"they have a 24-hour hotline and a counseling center. i don't know. i've never used their services. 4 457\\nthey have a 24-hour hotline and a counseling center. they also have therapists on-campus during office hours. i've used these services and they are good. 4 458\\nthe counseling center is pretty good. they should just advertise it more so people know how to contact it. 3 453\\nthe campus health services are\", \"i feel the college has notoriously let people down in regard to mental health services. it is difficult to receive ongoing counseling, many of the counselors that i've seen have been unfriendly or unhelpful, and it is extremely difficult to get a psychiatric diagnosis in order to receive accommodations. above all, the majority of the counselors are white women, which makes it difficult to describe my experiences to them as a person of color and they often provide culture-blind strategies for dealing with problems. john hancock has been the most helpful person to me, but he is unavailable for ongoing counseling appointments. or nonbinary person, who doesn't often see counselors who reflect my experiences.  that being said, the resources that we have are helpful for the most part, and i do feel that the college has improved in this area in terms of expanding the resources that are available.  i think more staff of color and staff who identify as lgbtq+ are needed, and that they are welcomed.  overall, i have a very negative view of the mental health\", \"i have not reached out yet, personally, but i know some people who have had relatively good luck with caps counseling. \\n\\noverall, i don't think my professors really care about students and how mental health impacts their schooling. \\n\\nthere needs to be more staff and a better website for caps. \\n\\nthe staff needs to be more invested in students. \\n\\nit is hard to get an appointment. \\n\\ni think there needs to be more resources and a way to connect students to these resources.\\n\\nmore staff. \\n\\nthe website needs\", 'i know that they have several different options for talking to a counselor. however, there are many more students per councilor, which is likely one of the reasons that several suicides on campus have occurred from the lack of actual availability. in addition, dispite the reduced cost, therapy is still expensive, especially if you have long term issues like i do.  the college needs more funding for counseling so that it is more accessible to everyone.  i also wish that they had more specialized counseling such as for eating disorders, lgbtq issues, or other identity focused issues. although many providers have a general practice, it is still difficult for them to connect with you if you have specific needs.  for example, i have bipolar disorder, but i still get referred to psychiatrists', 'i think that there needs to be greater accessibility to on campus counseling and therapy. if it was easier to get an appointment, or talk to someone over the phone, it would be easier for people.  also, a greater variety of counselors should be available. not everyone is going to benefit from therapy with a woman.  there should be options for people looking for a male therapist, or a therapist of color.  i think that a greater variety of ethnic backgrounds should be available as well.   overall, i think that counseling and therapy should have more accessibility to those looking to talk, or get help. ', \"i'm not sure, i've had trouble figuring out what resources online students have, and i can't find very much.Љ\\nim not sure, i've had trouble finding what resources online students have, and i can't find very mucgh online 9\\nim not sure, i've had trouble finding what resources online students have, and i can't find very mucghh online\\nim not sure, i've had trouble finding what resources online students have, and i can't find very much online\\nim not sure, i've had trouble finding what resources online\", \"i think more attention should be brought to mental health and wellness in general (ex. how to manage stress) rather than specifically to romantic relationships.  also, i feel as though they should be more open to accepting referrals from outside therapy offices rather than being closed off because they're a small school campus.  the resources should be available to people regardless of who is providing them.  lastly, the prices are outrageous (i mean, $60 for 30 minutes?) and should be more affordable, especially when they have to drive at least 15\", 'the therapists need to be trained better to deal with current student issues.\\ni am not familiar with the services offered but maybe they should look into having more licensed practitioners rather than graduate students. i have friends who went for the first time and were not impressed that therapy was being conducted by a grad student who was not licensed. i also would like to see them expand their outreach efforts to be more diverse.\\nmore outreach to students of color, more licensed therapists, more resources\\nthe therapists', \"i personally have not used the mental health facilities on campus because they have a poor reputation \\n\\nbut they should definitely have a hotline or something for people to reach out to anonymously\\n\\nthe college should also look into making the resources easier to find and promoting them more \\n\\nand the counseling should focus more on helping students with academic stress and how to prioritize \\n\\ninstead of focusing on individual problems \\n\\nalso the counseling should focus more on the student's goals and how they can achieve them\\n\\ninst\", \"many students have complained that the therapists and counseling services offered through the university are unhelpful at best. therapists are described as apathetic and dismissive of issues, while the pace of referrals and appointments is extremely sluggish. \\n\\nthere are limited staff to handle the overwhelming number of students seeking counseling. the on-campus counseling services are woefully understaffed, especially during peak demand periods like midterms and finals. this is likely exacerbated by the university's unwillingness to significantly expand its budget for mental health services, which is in line with its general approach towards mental illness. this is especially concerning in an era of growing anx\", 'mental health services are not the best. i had to find resources outside of school. \\n\\nmore therapists/counselors/therapists should be hired. they should specialize in specific problems, like addiction, grief, relationship issues, etc. the college needs a system that allows students to easily find resources. a place like a \"therapist center\" should be established on campus, with maps and directories, so students can easily find a therapist. more staff should be hired to be on call for students. more group', \"the access to mental health resources but the awareness to these need more attention \\n i feel that the university could improve on it's staff that deals with mental health. i think that the staff can improve on it's compassion and understanding towards students. it's easy to feel intimidated when talking to these people. i feel that they could improve on making these resources more inviting.  \\n\\n\\n\\n\\n\\n\\n\\n\\n\\n\\n\\n\\n\\n\\n\\n\\n\\n\\n\\n\\n\\n\\n\\n\\n\\n\\n\\n\\n\\n\", \"there are not enough therapists, and campus culture as a whole is pretty toxic when it comes to mental health. the response from the administration is not consistent across professors \\n\\nuhs should be more accessible. \\n\\nuhs needs more staff. \\n\\nmore groups need to be established that are focused on mental health for specific identities. \\n\\ni think a good place to start would be creating an on-campus group for latinx students who struggle with mental health. \\n\\ni think that the college needs more staff who can speak more languages, especially Spanish. \\n\\ni'm a heritage speaker, so i\", \"i couldn’t tell you what goes into what category. i just didn’t receive effective treatment from them. \\nthe college needs to make sure that its therapists are actually capable of helping. \\nas a former therapy patient at ascc, i wish i had a way to give this college's therapy program a negative review. \\noverall, i think ascc is an amazing and helpful place. they are very accommodating with their hours and are always ready to help.\\ni think that the staff just needs to be a little more effective.\\nthe college does\", \"the counselors and psychiatrists work very well when you can get an appointment. however, you generally have to wait weeks or months to get a first appointment and the physical location of the services is so far away from campus.  the college should expand their services to a more central location.  also when they expanded the services they should create a 24 hour on call service so that emergencies can be seen immediately instead of having to wait for a day or more for an appointment.  a day or two isn't that bad but when you're in crisis you don't need a day or two. a day is a day. that is what i wish was improved.  i've used\", 'therapy dogs seem to be quite popular, but the counseling provided by caps needs to be more accessible to students for longer periods of time before recommending off-campus help.Љ 0\\nmore therapists available \\n\\n12 more\\n\\nmore available therapists\\n\\n16 more\\n\\nmore counselors and more accessible counseling for students who need it \\n\\nmore accessible counseling for students who need it\\n\\n27 more\\n\\nbetter and more accessible counseling for students who need it \\n\\nbetter and more accessible counseling for students who need it\\n\\n38 more\\n\\n', \"our therapists need to be more responsible and make more of an effort to reach out to their patients \\n (u should do more to make your therapists more helpful, they're kinda unhelpful atm) \\nmore accessible therapists \\nmore accessible counselors \\nmore counselors/therapists on campus \\nmore accessible therapists/counselors \\nbetter trained/more experienced therapists\\nmore therapists/counselors\\nmore available therapists/counselors \\nmore helpful\", 'i can’t really say anything works well. i called our counseling center in spring 2021 and referred to an off campus online therapy service, had my appointments that i waited months for canceled twice. it was pretty disheartening \\ni think the counseling center is doing a good job and should receive more funding. \\nthe college should have more group therapy options for students. \\nthere should be more options for therapists that are diverse. \\nthe college should do something about how difficult it is to get counseling and make it accessible to more students who need it. \\nthe college should offer more individual therapy appointments and make that accessible to more students who need it.', \"i never used the campus resources so i could not say. i always see posters everywhere so i know that they exist. \\n\\n\\ni think that the resources should be posted more around campus. i also think that it should be easier to find on the counseling center website. \\n\\n\\ni would say that the counseling services are good at helping people. they always have staff available which is nice. i think that they should have more staff. \\n\\n\\ni think that the counseling services could be improved by having more available staff. it's nice that they are almost\", 'caps is an accessible resource but it can only do so much.համահայթներումըընի հիվանդություններումըընի ընթերը կայանարկույթին էինինք կարուղիչ ընթերը չ', \"osu’s counseling and consultation services is a complete mess. it is advertised as a therapy option, yet students in crisis aren’t able to get in for months, and the help is near useless.  buckeye healthcare is the college’s insurance provider, but the counseling services are provided by ohio state, so it’s a little convoluted.  buckeye healthcare doesn't provide mental health services, but ohio state is required to refer students, regardless of whether it can or can't offer said services.  buckeye healthcare has to refer students to ohio state for counseling services, which\", 'i love the space on the main campus, it\\'s so welcoming and safe, it doesn\\'t even feel like i\\'m on campus. i also like how many, not all, of the counselors, are licensed professionals, which gives me peace of mind. i think most students agree there needs to be more counselors or if not a good relationship with a network of counselors. once you are in the system it\\'s not bad to get an appointment, but the initial appointment is hard to get. help but you need to go to the wellness center to get help and they don\\'t take walk-ins. \\n\\ni think the staff could do a better job of making it more accessible. for example, i went to the wellness center in the fall and when i was checking in they told me that they were a little busy and i could go back in 30 minute to an hour. i ended up waiting about an hour and that\\'s when the whole \"you', 'i think that the thing that needs the most focus on is making sure that we have complete access to wellness services 24/7.\\n\\ni think that the staff needs more training on the different types of mental illnesses that people have. \\n\\ni think the college needs more group therapy sessions that students can attend.\\n\\nalso, the college needs more information about what different types of mental illnesses are. \\n\\n\\ni am very impressed by the amount of resources that the college provides for the students. \\n\\ni think that it needs more advertising so that students know what', \"not sure i have not used the services because i honestly didn't know about them.\\nthe school should advertise more about the services provided\\ni would say that they need more staff to be able to help more students.\\ni think that they should also have group therapy because sometimes you need to share your struggles with others, and they don't provide that.\\noverall, i would rate the overall wellness resources at my school as mediocre.\\nthey need to have a better marketing plan to reach out to more students.\\nthe school needs\", 'i understand counseling is a profession but we pay so much in tuition and counseling on campus still costs money. many don’t seek help because they cannot afford it due to the insane tuition prices they’re already paying. \\n\\nas a student i know i would be more inclined to talk to a counselor at the campus if they were free. also the counseling needs to be more open. it should be a more open environment. they should be able to help students even if they’re not diagnosed or whatever. the counseling on campus is very specific, i think a better way to do it is have different counselors for different things. like one counselor for de', 'i think the university does a good job advertising different support groups but i think that there should be more access to counselors. i have heard that it is difficult to find an appointment and that they only have a limited amount of time per appointment, which makes it not as helpful. \\n\\n\\noverall, our college/university provides a good amount of mental health resources, but i think that it could be improved by offering more counseling services that are more open and accessible to all students and faculty. for example, there should be more group therapy sessions, more individual appointments available, and they should be more widely promoted on campus. i think that', \"general attention should be increased for he availability of mental health services on campus.  also the process of getting appointments needs to be more efficient as i was on the wait list for 3 months and i was told they only do 6 appointments a day.  more money should also be given to this department as it seems like they only do a surface level job and don't go deep enough.  there needs to be more therapists available.  the college does a good job of making this resource available but it's hard to find someone to fit your\", 'i feel that the mental health services could be better expanded on campus \\n \\ni feel that there should be more options in terms of which mental health provider that students can go to. \\n \\ni feel that there should be more options when it comes to which mental health providers that students can go to.\\n \\n\\ni wish that the campus would be more proactive and pro-student in terms of mental health, instead of reactive and anti-student. \\n \\nthe campus should be more proactive because they should take the', \"i haven't used any mental health services on campus so i can't really answer that question. i think one thing that needs to be focused on more is just overall loneliness. loneliness is so much more than just being alone. \\n\\nas far as improving the services at the wellness center i think more outreach and advertising is needed. \\n\\nfor improving the counseling services on campus i would say that there needs to be more staff and more flexible hours. \\n\\nfor improving the counseling services at the college i think they should look to the university counseling services and see what they do differently.\", \"not too sure. don't have a ton of exposure to on campus counseling 29 83 97 99 09 12 14 19 19 22 24 (1) 24 (22) 25 26 34 35 39 40 (9) 40 (2) 40 42 43 44 48 59 66 66 70 75 \", \"the appointment system for mental health services is bad. it doesn't represent the full range of services. i don't think they do individual therapy because i didn't get referred for individual therapy. 12 week time commitment isn't that helpful especially for someone who is struggling to the point of seeking help but not to the point where they are committed. 12 weeks of therapy isn't going to be that helpful for a student who has been struggling for years. they should have more staff to help. they should also be able to be a bit more flexible\", \"while caps is doing a good job it is my understanding that they need additional resources to better serve the college community \\n, i think they should open up a tip line so that students could report when they are starting to feel overwhelmed and unsupported but don't want to report to a formal resource. i also think a better system should be put in for referrals to off campus resources as the current process is very vague and doesn’t give the student much information or guidance beyond what type of resource they need.\\n\\nas a peer advocate i see a lot of students who are\", \"tuttleman counseling is nice when you have access to a counselor, but not many people seem to have the privilege of that, since many are referred out. i think there should be more done related to trauma and news, such as racially-charged incidents  that are harmful to students of color.  i am a person of color and many of the racially-biased articles and events are triggering to me, and i think there needs to be more staff who can help with these types of situations.  more staff means more access and more people can be referred.  it's also very difficult to get referred out, as many counselors are not taking more clients, especially since covid.  there should be a better system\", 'i am not sure i got mental health counseling through my insurance \\n (although i did have therapy on my own).  i think the mental health coverage is a good idea as part of my insurance.\\n\\n13. do you think college is doing enough to help students with mental health?  why or why not?  \\ni would give them a 50 on this question.  we need more people on the staff.  i know they have increased the number of people, but we still need more.  it is difficult to', \"i tried reaching out to campus mental health service online last semester, which was when i needed the most help but didnt get reply till now. so now i just tried to not rely on them and help myself more.\\nthe counselor i met online at campus's website was great. she listened patiently, asked questions, and gave me tips and resources. i think they need more staff. they need to hire more counselors so that they can help more students.\\n\\ncampus health and wellness services are great. they are always available. they are also diverse as they have staff and therapists of different races and sexualities.\\nthe college health office needs more\", \"i hardly hear about the resources available concerning mental health.they are either nonexistent, too few or not well advertised. \\n\\n\\nmore attention on available resources for mental health is needed. \\n\\ni have had no experience with counseling on campus so i don't know what they can offer. \\n\\nmore advertisement for the resources available is needed. \\n\\nmore staff is also needed for those who may need help immediately. \\n\\n\\n\\ni would give them a c or a d because they need more staff and better advertisement of these resources on campus.\", \"timely md was a great addition. just all psychiatry as a whole. students should be able to get in to see someone immediately. mental health isn't something that can wait a couple of months.  also, a bigger emphasis on group therapy should be expanded. a lot of people don't want individual therapy but group therapy.  also, they're often put on ssri's which isn't always helpful and aren't as helpful as other meds.  i wish there's a bigger emphasis on other meds. also a referral program to see off campus resources that are more geared to the specific need (ie. addiction).\", 'the mental health service that is helping students is the coaches that we get. it helps students to always have someone to talk. it is a great resource for students but it is only for sports related.  they also have the wellness centre but it is only for individual appointments. they could use more resources for individual appointments. the wellness centre could be expanded as well.  they also have groups that you can join like yoga and meditation which i do often. i think that they could also have an on-campus counsellor to help students on an individual basis. they also have a', ' mainly one counselor, jasmine, has been helpful. need more services/talks about nutrition/body image for students of color and athletes of color because elizabeth allred is not a safe space to discuss either of those. need more groups that focus on these issues.  more groups that are led by poc. need more options and that they be posted in more places like on the boards around campus, in the library.  need more group leaders that are people of color (especially for athletes and students of color).  more options to be posted on the website. more options on the wellesley college app.  better options to be posted in the student handbook.  options for groups that are']\n"
     ]
    }
   ],
   "source": [
    "# prompt: use pred_model to generate inferences for dataset['test']\n",
    "\n",
    "from transformers import pipeline\n",
    "\n",
    "# Assuming 'tokenizer' is already defined as in your preceding code\n",
    "\n",
    "generator = pipeline(task=\"text-generation\", model=pred_model, tokenizer=tokenizer, max_new_tokens=100,\n",
    "                     device = \"cuda:0\")\n",
    "\n",
    "# Store generated inferences\n",
    "inferences = []\n",
    "\n",
    "for item in dataset['test']:\n",
    "    input_text = item['text']\n",
    "    result = generator(input_text, max_length=100, do_sample=True, top_k=10, num_return_sequences=1, eos_token_id=tokenizer.eos_token_id)\n",
    "\n",
    "    print(result[0]['generated_text'])\n",
    "\n",
    "    inferences.append(result[0]['generated_text'])\n",
    "\n",
    "# Print or further process the inferences\n",
    "print(inferences)\n"
   ]
  },
  {
   "cell_type": "code",
   "execution_count": null,
   "metadata": {
    "id": "YJ8YY-ef2Lz6"
   },
   "outputs": [],
   "source": []
  },
  {
   "cell_type": "code",
   "execution_count": null,
   "metadata": {
    "id": "Y53ZAR65noJL"
   },
   "outputs": [],
   "source": [
    "# load PEFT model and predict\n",
    "from peft import PeftModel, PeftConfig, LoraConfig, TaskType, get_peft_model\n",
    "\n",
    "peft_bert_model_path = \"/content/drive/MyDrive/github_LEAF_LAB/survey_analysis/finetuned_results/orca/save/\"\n",
    "\n",
    "config = PeftConfig.from_pretrained(peft_bert_model_path)\n",
    "pred_model = AutoModelForSequenceClassification.from_pretrained(\"bert-base-cased\",\n",
    "                                                      num_labels=4)\n",
    "pred_model = PeftModel.from_pretrained(pred_model, peft_bert_model_path)\n",
    "\n",
    "trainer = Trainer(\n",
    "    model=pred_model,\n",
    "    compute_metrics=compute_metrics,\n",
    "    # data_collator=DataCollatorWithPadding(tokenizer=tokenizer)\n",
    ")\n",
    "\n",
    "test_dataset = dataset['test']\n",
    "tokenized_test_dataset = test_dataset.map(tokenize_function, batched=True)\n",
    "\n",
    "test_predictions = trainer.evaluate(tokenized_test_dataset)"
   ]
  }
 ],
 "metadata": {
  "colab": {
   "collapsed_sections": [
    "d9ENGeDyihky",
    "zStzG-y8qika",
    "H042uWA7Gusg",
    "8fPAikt5GzHl",
    "GiHAlMKHNCVs",
    "1fo-oOC772HE",
    "htZLubYezd5f",
    "9UeRoUy9IsW0",
    "Pza4wur6FFXy",
    "nd7II0B_X1to",
    "aCxpIugA_4oB",
    "IwYWeMEOhWg1",
    "w3Yhx1ycDIxU",
    "1bNe7eBwHX18",
    "RLmG0jP0MJVe",
    "PgugGvbXfqF-",
    "39tNDkghSxYj",
    "HrL6Xnmxq8nZ"
   ],
   "provenance": [],
   "toc_visible": true
  },
  "kernelspec": {
   "display_name": "Python 3 (ipykernel)",
   "language": "python",
   "name": "python3"
  },
  "language_info": {
   "codemirror_mode": {
    "name": "ipython",
    "version": 3
   },
   "file_extension": ".py",
   "mimetype": "text/x-python",
   "name": "python",
   "nbconvert_exporter": "python",
   "pygments_lexer": "ipython3",
   "version": "3.11.9"
  },
  "widgets": {
   "application/vnd.jupyter.widget-state+json": {
    "0298b4eaee3b411c93e691e663059b94": {
     "model_module": "@jupyter-widgets/controls",
     "model_module_version": "1.5.0",
     "model_name": "HTMLModel",
     "state": {
      "_dom_classes": [],
      "_model_module": "@jupyter-widgets/controls",
      "_model_module_version": "1.5.0",
      "_model_name": "HTMLModel",
      "_view_count": null,
      "_view_module": "@jupyter-widgets/controls",
      "_view_module_version": "1.5.0",
      "_view_name": "HTMLView",
      "description": "",
      "description_tooltip": null,
      "layout": "IPY_MODEL_cf035a6fe7a242f480c4e8e449e5d3dd",
      "placeholder": "​",
      "style": "IPY_MODEL_0583da490d44425baab2fb175fda3d04",
      "value": "config.json: 100%"
     }
    },
    "0583da490d44425baab2fb175fda3d04": {
     "model_module": "@jupyter-widgets/controls",
     "model_module_version": "1.5.0",
     "model_name": "DescriptionStyleModel",
     "state": {
      "_model_module": "@jupyter-widgets/controls",
      "_model_module_version": "1.5.0",
      "_model_name": "DescriptionStyleModel",
      "_view_count": null,
      "_view_module": "@jupyter-widgets/base",
      "_view_module_version": "1.2.0",
      "_view_name": "StyleView",
      "description_width": ""
     }
    },
    "0c0b2d9db258479a83c0017d0ea81965": {
     "model_module": "@jupyter-widgets/controls",
     "model_module_version": "1.5.0",
     "model_name": "HBoxModel",
     "state": {
      "_dom_classes": [],
      "_model_module": "@jupyter-widgets/controls",
      "_model_module_version": "1.5.0",
      "_model_name": "HBoxModel",
      "_view_count": null,
      "_view_module": "@jupyter-widgets/controls",
      "_view_module_version": "1.5.0",
      "_view_name": "HBoxView",
      "box_style": "",
      "children": [
       "IPY_MODEL_460af244c30644e8a7ddaa0c5003a4a9",
       "IPY_MODEL_33f0b8f3987549cab807619cfb1299f1",
       "IPY_MODEL_2ccfb2c75c0c4130be1d26de5fdaa3ce"
      ],
      "layout": "IPY_MODEL_75ef319bb5194c51961061eb0fa00195"
     }
    },
    "132ee9c1862d4a58b1df42833eaf654d": {
     "model_module": "@jupyter-widgets/controls",
     "model_module_version": "1.5.0",
     "model_name": "ProgressStyleModel",
     "state": {
      "_model_module": "@jupyter-widgets/controls",
      "_model_module_version": "1.5.0",
      "_model_name": "ProgressStyleModel",
      "_view_count": null,
      "_view_module": "@jupyter-widgets/base",
      "_view_module_version": "1.2.0",
      "_view_name": "StyleView",
      "bar_color": null,
      "description_width": ""
     }
    },
    "198c2127045140c5bd79974231d5c822": {
     "model_module": "@jupyter-widgets/base",
     "model_module_version": "1.2.0",
     "model_name": "LayoutModel",
     "state": {
      "_model_module": "@jupyter-widgets/base",
      "_model_module_version": "1.2.0",
      "_model_name": "LayoutModel",
      "_view_count": null,
      "_view_module": "@jupyter-widgets/base",
      "_view_module_version": "1.2.0",
      "_view_name": "LayoutView",
      "align_content": null,
      "align_items": null,
      "align_self": null,
      "border": null,
      "bottom": null,
      "display": null,
      "flex": null,
      "flex_flow": null,
      "grid_area": null,
      "grid_auto_columns": null,
      "grid_auto_flow": null,
      "grid_auto_rows": null,
      "grid_column": null,
      "grid_gap": null,
      "grid_row": null,
      "grid_template_areas": null,
      "grid_template_columns": null,
      "grid_template_rows": null,
      "height": null,
      "justify_content": null,
      "justify_items": null,
      "left": null,
      "margin": null,
      "max_height": null,
      "max_width": null,
      "min_height": null,
      "min_width": null,
      "object_fit": null,
      "object_position": null,
      "order": null,
      "overflow": null,
      "overflow_x": null,
      "overflow_y": null,
      "padding": null,
      "right": null,
      "top": null,
      "visibility": null,
      "width": null
     }
    },
    "1a38b0e931b44a238b19132ef7064574": {
     "model_module": "@jupyter-widgets/controls",
     "model_module_version": "1.5.0",
     "model_name": "DescriptionStyleModel",
     "state": {
      "_model_module": "@jupyter-widgets/controls",
      "_model_module_version": "1.5.0",
      "_model_name": "DescriptionStyleModel",
      "_view_count": null,
      "_view_module": "@jupyter-widgets/base",
      "_view_module_version": "1.2.0",
      "_view_name": "StyleView",
      "description_width": ""
     }
    },
    "2404904d36544a3cb2bac9d6bb823f9b": {
     "model_module": "@jupyter-widgets/controls",
     "model_module_version": "1.5.0",
     "model_name": "FloatProgressModel",
     "state": {
      "_dom_classes": [],
      "_model_module": "@jupyter-widgets/controls",
      "_model_module_version": "1.5.0",
      "_model_name": "FloatProgressModel",
      "_view_count": null,
      "_view_module": "@jupyter-widgets/controls",
      "_view_module_version": "1.5.0",
      "_view_name": "ProgressView",
      "bar_style": "success",
      "description": "",
      "description_tooltip": null,
      "layout": "IPY_MODEL_d966740f77c64710b984f9971dc38bd4",
      "max": 582,
      "min": 0,
      "orientation": "horizontal",
      "style": "IPY_MODEL_7f1027a7da394a16bdec4a7a6671a062",
      "value": 582
     }
    },
    "25ed71ae2ecd45ed89340c331e22253d": {
     "model_module": "@jupyter-widgets/controls",
     "model_module_version": "1.5.0",
     "model_name": "FloatProgressModel",
     "state": {
      "_dom_classes": [],
      "_model_module": "@jupyter-widgets/controls",
      "_model_module_version": "1.5.0",
      "_model_name": "FloatProgressModel",
      "_view_count": null,
      "_view_module": "@jupyter-widgets/controls",
      "_view_module_version": "1.5.0",
      "_view_name": "ProgressView",
      "bar_style": "",
      "description": "",
      "description_tooltip": null,
      "layout": "IPY_MODEL_f991250c3bed4f32ac571d06b2ba6530",
      "max": 3,
      "min": 0,
      "orientation": "horizontal",
      "style": "IPY_MODEL_6ccc66ec2aea4b87bafc0ba84ee7428d",
      "value": 0
     }
    },
    "2c05fe7be6f94fd98cb672489f365e32": {
     "model_module": "@jupyter-widgets/controls",
     "model_module_version": "1.5.0",
     "model_name": "DescriptionStyleModel",
     "state": {
      "_model_module": "@jupyter-widgets/controls",
      "_model_module_version": "1.5.0",
      "_model_name": "DescriptionStyleModel",
      "_view_count": null,
      "_view_module": "@jupyter-widgets/base",
      "_view_module_version": "1.2.0",
      "_view_name": "StyleView",
      "description_width": ""
     }
    },
    "2ccfb2c75c0c4130be1d26de5fdaa3ce": {
     "model_module": "@jupyter-widgets/controls",
     "model_module_version": "1.5.0",
     "model_name": "HTMLModel",
     "state": {
      "_dom_classes": [],
      "_model_module": "@jupyter-widgets/controls",
      "_model_module_version": "1.5.0",
      "_model_name": "HTMLModel",
      "_view_count": null,
      "_view_module": "@jupyter-widgets/controls",
      "_view_module_version": "1.5.0",
      "_view_name": "HTMLView",
      "description": "",
      "description_tooltip": null,
      "layout": "IPY_MODEL_f5ca41dd12404708ba889e99990f0c98",
      "placeholder": "​",
      "style": "IPY_MODEL_7e20ac378ee94e6e8f80712b3f6026aa",
      "value": " 2.60G/9.88G [00:22&lt;00:45, 161MB/s]"
     }
    },
    "2ff742abf8ee4c219677915ed820bb15": {
     "model_module": "@jupyter-widgets/controls",
     "model_module_version": "1.5.0",
     "model_name": "HTMLModel",
     "state": {
      "_dom_classes": [],
      "_model_module": "@jupyter-widgets/controls",
      "_model_module_version": "1.5.0",
      "_model_name": "HTMLModel",
      "_view_count": null,
      "_view_module": "@jupyter-widgets/controls",
      "_view_module_version": "1.5.0",
      "_view_name": "HTMLView",
      "description": "",
      "description_tooltip": null,
      "layout": "IPY_MODEL_575e3a1744574a64ba90bfd75fd40a1c",
      "placeholder": "​",
      "style": "IPY_MODEL_2c05fe7be6f94fd98cb672489f365e32",
      "value": "pytorch_model.bin.index.json: 100%"
     }
    },
    "33f0b8f3987549cab807619cfb1299f1": {
     "model_module": "@jupyter-widgets/controls",
     "model_module_version": "1.5.0",
     "model_name": "FloatProgressModel",
     "state": {
      "_dom_classes": [],
      "_model_module": "@jupyter-widgets/controls",
      "_model_module_version": "1.5.0",
      "_model_name": "FloatProgressModel",
      "_view_count": null,
      "_view_module": "@jupyter-widgets/controls",
      "_view_module_version": "1.5.0",
      "_view_name": "ProgressView",
      "bar_style": "",
      "description": "",
      "description_tooltip": null,
      "layout": "IPY_MODEL_3fbb00ce3d1e439eac10969228e9588e",
      "max": 9878031538,
      "min": 0,
      "orientation": "horizontal",
      "style": "IPY_MODEL_56baf8db47094c5ab6fe50527a0c2b5b",
      "value": 2600468480
     }
    },
    "39be6b10e4ab4db3873a6975e55a85d6": {
     "model_module": "@jupyter-widgets/controls",
     "model_module_version": "1.5.0",
     "model_name": "HTMLModel",
     "state": {
      "_dom_classes": [],
      "_model_module": "@jupyter-widgets/controls",
      "_model_module_version": "1.5.0",
      "_model_name": "HTMLModel",
      "_view_count": null,
      "_view_module": "@jupyter-widgets/controls",
      "_view_module_version": "1.5.0",
      "_view_name": "HTMLView",
      "description": "",
      "description_tooltip": null,
      "layout": "IPY_MODEL_855152a41dc142ffba7afc737c83fc7c",
      "placeholder": "​",
      "style": "IPY_MODEL_6c6a94cb1d8e4bc09fa8d1dd7bd5138e",
      "value": " 582/582 [00:00&lt;00:00, 19.5kB/s]"
     }
    },
    "3b2ef6d837d045249007331328bff2f3": {
     "model_module": "@jupyter-widgets/controls",
     "model_module_version": "1.5.0",
     "model_name": "HTMLModel",
     "state": {
      "_dom_classes": [],
      "_model_module": "@jupyter-widgets/controls",
      "_model_module_version": "1.5.0",
      "_model_name": "HTMLModel",
      "_view_count": null,
      "_view_module": "@jupyter-widgets/controls",
      "_view_module_version": "1.5.0",
      "_view_name": "HTMLView",
      "description": "",
      "description_tooltip": null,
      "layout": "IPY_MODEL_725d58c63b2f40da94f420adc432c796",
      "placeholder": "​",
      "style": "IPY_MODEL_5689abe70e6f4b6fbe5ed3cfc225664a",
      "value": " 23.9k/23.9k [00:00&lt;00:00, 1.05MB/s]"
     }
    },
    "3c60896026564a7ebfc8c43000890c02": {
     "model_module": "@jupyter-widgets/base",
     "model_module_version": "1.2.0",
     "model_name": "LayoutModel",
     "state": {
      "_model_module": "@jupyter-widgets/base",
      "_model_module_version": "1.2.0",
      "_model_name": "LayoutModel",
      "_view_count": null,
      "_view_module": "@jupyter-widgets/base",
      "_view_module_version": "1.2.0",
      "_view_name": "LayoutView",
      "align_content": null,
      "align_items": null,
      "align_self": null,
      "border": null,
      "bottom": null,
      "display": null,
      "flex": null,
      "flex_flow": null,
      "grid_area": null,
      "grid_auto_columns": null,
      "grid_auto_flow": null,
      "grid_auto_rows": null,
      "grid_column": null,
      "grid_gap": null,
      "grid_row": null,
      "grid_template_areas": null,
      "grid_template_columns": null,
      "grid_template_rows": null,
      "height": null,
      "justify_content": null,
      "justify_items": null,
      "left": null,
      "margin": null,
      "max_height": null,
      "max_width": null,
      "min_height": null,
      "min_width": null,
      "object_fit": null,
      "object_position": null,
      "order": null,
      "overflow": null,
      "overflow_x": null,
      "overflow_y": null,
      "padding": null,
      "right": null,
      "top": null,
      "visibility": null,
      "width": null
     }
    },
    "3fbb00ce3d1e439eac10969228e9588e": {
     "model_module": "@jupyter-widgets/base",
     "model_module_version": "1.2.0",
     "model_name": "LayoutModel",
     "state": {
      "_model_module": "@jupyter-widgets/base",
      "_model_module_version": "1.2.0",
      "_model_name": "LayoutModel",
      "_view_count": null,
      "_view_module": "@jupyter-widgets/base",
      "_view_module_version": "1.2.0",
      "_view_name": "LayoutView",
      "align_content": null,
      "align_items": null,
      "align_self": null,
      "border": null,
      "bottom": null,
      "display": null,
      "flex": null,
      "flex_flow": null,
      "grid_area": null,
      "grid_auto_columns": null,
      "grid_auto_flow": null,
      "grid_auto_rows": null,
      "grid_column": null,
      "grid_gap": null,
      "grid_row": null,
      "grid_template_areas": null,
      "grid_template_columns": null,
      "grid_template_rows": null,
      "height": null,
      "justify_content": null,
      "justify_items": null,
      "left": null,
      "margin": null,
      "max_height": null,
      "max_width": null,
      "min_height": null,
      "min_width": null,
      "object_fit": null,
      "object_position": null,
      "order": null,
      "overflow": null,
      "overflow_x": null,
      "overflow_y": null,
      "padding": null,
      "right": null,
      "top": null,
      "visibility": null,
      "width": null
     }
    },
    "449c985ab0bf40d8815b55933d3b6885": {
     "model_module": "@jupyter-widgets/controls",
     "model_module_version": "1.5.0",
     "model_name": "HBoxModel",
     "state": {
      "_dom_classes": [],
      "_model_module": "@jupyter-widgets/controls",
      "_model_module_version": "1.5.0",
      "_model_name": "HBoxModel",
      "_view_count": null,
      "_view_module": "@jupyter-widgets/controls",
      "_view_module_version": "1.5.0",
      "_view_name": "HBoxView",
      "box_style": "",
      "children": [
       "IPY_MODEL_0298b4eaee3b411c93e691e663059b94",
       "IPY_MODEL_2404904d36544a3cb2bac9d6bb823f9b",
       "IPY_MODEL_39be6b10e4ab4db3873a6975e55a85d6"
      ],
      "layout": "IPY_MODEL_e1d894bf5c6d478a998b94e396a6760c"
     }
    },
    "44d664b7a4c94dc09f5b42349367e91f": {
     "model_module": "@jupyter-widgets/controls",
     "model_module_version": "1.5.0",
     "model_name": "HTMLModel",
     "state": {
      "_dom_classes": [],
      "_model_module": "@jupyter-widgets/controls",
      "_model_module_version": "1.5.0",
      "_model_name": "HTMLModel",
      "_view_count": null,
      "_view_module": "@jupyter-widgets/controls",
      "_view_module_version": "1.5.0",
      "_view_name": "HTMLView",
      "description": "",
      "description_tooltip": null,
      "layout": "IPY_MODEL_79beb4f3b8ca4209968ec523409f6b9c",
      "placeholder": "​",
      "style": "IPY_MODEL_6b20e526ac1a4a2a808f84cbb9de57cd",
      "value": " 0/3 [00:00&lt;?, ?it/s]"
     }
    },
    "460af244c30644e8a7ddaa0c5003a4a9": {
     "model_module": "@jupyter-widgets/controls",
     "model_module_version": "1.5.0",
     "model_name": "HTMLModel",
     "state": {
      "_dom_classes": [],
      "_model_module": "@jupyter-widgets/controls",
      "_model_module_version": "1.5.0",
      "_model_name": "HTMLModel",
      "_view_count": null,
      "_view_module": "@jupyter-widgets/controls",
      "_view_module_version": "1.5.0",
      "_view_name": "HTMLView",
      "description": "",
      "description_tooltip": null,
      "layout": "IPY_MODEL_3c60896026564a7ebfc8c43000890c02",
      "placeholder": "​",
      "style": "IPY_MODEL_1a38b0e931b44a238b19132ef7064574",
      "value": "pytorch_model-00001-of-00003.bin:  26%"
     }
    },
    "5689abe70e6f4b6fbe5ed3cfc225664a": {
     "model_module": "@jupyter-widgets/controls",
     "model_module_version": "1.5.0",
     "model_name": "DescriptionStyleModel",
     "state": {
      "_model_module": "@jupyter-widgets/controls",
      "_model_module_version": "1.5.0",
      "_model_name": "DescriptionStyleModel",
      "_view_count": null,
      "_view_module": "@jupyter-widgets/base",
      "_view_module_version": "1.2.0",
      "_view_name": "StyleView",
      "description_width": ""
     }
    },
    "56baf8db47094c5ab6fe50527a0c2b5b": {
     "model_module": "@jupyter-widgets/controls",
     "model_module_version": "1.5.0",
     "model_name": "ProgressStyleModel",
     "state": {
      "_model_module": "@jupyter-widgets/controls",
      "_model_module_version": "1.5.0",
      "_model_name": "ProgressStyleModel",
      "_view_count": null,
      "_view_module": "@jupyter-widgets/base",
      "_view_module_version": "1.2.0",
      "_view_name": "StyleView",
      "bar_color": null,
      "description_width": ""
     }
    },
    "575e3a1744574a64ba90bfd75fd40a1c": {
     "model_module": "@jupyter-widgets/base",
     "model_module_version": "1.2.0",
     "model_name": "LayoutModel",
     "state": {
      "_model_module": "@jupyter-widgets/base",
      "_model_module_version": "1.2.0",
      "_model_name": "LayoutModel",
      "_view_count": null,
      "_view_module": "@jupyter-widgets/base",
      "_view_module_version": "1.2.0",
      "_view_name": "LayoutView",
      "align_content": null,
      "align_items": null,
      "align_self": null,
      "border": null,
      "bottom": null,
      "display": null,
      "flex": null,
      "flex_flow": null,
      "grid_area": null,
      "grid_auto_columns": null,
      "grid_auto_flow": null,
      "grid_auto_rows": null,
      "grid_column": null,
      "grid_gap": null,
      "grid_row": null,
      "grid_template_areas": null,
      "grid_template_columns": null,
      "grid_template_rows": null,
      "height": null,
      "justify_content": null,
      "justify_items": null,
      "left": null,
      "margin": null,
      "max_height": null,
      "max_width": null,
      "min_height": null,
      "min_width": null,
      "object_fit": null,
      "object_position": null,
      "order": null,
      "overflow": null,
      "overflow_x": null,
      "overflow_y": null,
      "padding": null,
      "right": null,
      "top": null,
      "visibility": null,
      "width": null
     }
    },
    "617c2a2e6233464a804b52c7ee437a93": {
     "model_module": "@jupyter-widgets/controls",
     "model_module_version": "1.5.0",
     "model_name": "DescriptionStyleModel",
     "state": {
      "_model_module": "@jupyter-widgets/controls",
      "_model_module_version": "1.5.0",
      "_model_name": "DescriptionStyleModel",
      "_view_count": null,
      "_view_module": "@jupyter-widgets/base",
      "_view_module_version": "1.2.0",
      "_view_name": "StyleView",
      "description_width": ""
     }
    },
    "651a621e67f14497a544b75ee5cd4cd8": {
     "model_module": "@jupyter-widgets/controls",
     "model_module_version": "1.5.0",
     "model_name": "HTMLModel",
     "state": {
      "_dom_classes": [],
      "_model_module": "@jupyter-widgets/controls",
      "_model_module_version": "1.5.0",
      "_model_name": "HTMLModel",
      "_view_count": null,
      "_view_module": "@jupyter-widgets/controls",
      "_view_module_version": "1.5.0",
      "_view_name": "HTMLView",
      "description": "",
      "description_tooltip": null,
      "layout": "IPY_MODEL_83be346cb1e642c587e5eb3d8eadf294",
      "placeholder": "​",
      "style": "IPY_MODEL_617c2a2e6233464a804b52c7ee437a93",
      "value": "Downloading shards:   0%"
     }
    },
    "6b20e526ac1a4a2a808f84cbb9de57cd": {
     "model_module": "@jupyter-widgets/controls",
     "model_module_version": "1.5.0",
     "model_name": "DescriptionStyleModel",
     "state": {
      "_model_module": "@jupyter-widgets/controls",
      "_model_module_version": "1.5.0",
      "_model_name": "DescriptionStyleModel",
      "_view_count": null,
      "_view_module": "@jupyter-widgets/base",
      "_view_module_version": "1.2.0",
      "_view_name": "StyleView",
      "description_width": ""
     }
    },
    "6c6a94cb1d8e4bc09fa8d1dd7bd5138e": {
     "model_module": "@jupyter-widgets/controls",
     "model_module_version": "1.5.0",
     "model_name": "DescriptionStyleModel",
     "state": {
      "_model_module": "@jupyter-widgets/controls",
      "_model_module_version": "1.5.0",
      "_model_name": "DescriptionStyleModel",
      "_view_count": null,
      "_view_module": "@jupyter-widgets/base",
      "_view_module_version": "1.2.0",
      "_view_name": "StyleView",
      "description_width": ""
     }
    },
    "6ccc66ec2aea4b87bafc0ba84ee7428d": {
     "model_module": "@jupyter-widgets/controls",
     "model_module_version": "1.5.0",
     "model_name": "ProgressStyleModel",
     "state": {
      "_model_module": "@jupyter-widgets/controls",
      "_model_module_version": "1.5.0",
      "_model_name": "ProgressStyleModel",
      "_view_count": null,
      "_view_module": "@jupyter-widgets/base",
      "_view_module_version": "1.2.0",
      "_view_name": "StyleView",
      "bar_color": null,
      "description_width": ""
     }
    },
    "725d58c63b2f40da94f420adc432c796": {
     "model_module": "@jupyter-widgets/base",
     "model_module_version": "1.2.0",
     "model_name": "LayoutModel",
     "state": {
      "_model_module": "@jupyter-widgets/base",
      "_model_module_version": "1.2.0",
      "_model_name": "LayoutModel",
      "_view_count": null,
      "_view_module": "@jupyter-widgets/base",
      "_view_module_version": "1.2.0",
      "_view_name": "LayoutView",
      "align_content": null,
      "align_items": null,
      "align_self": null,
      "border": null,
      "bottom": null,
      "display": null,
      "flex": null,
      "flex_flow": null,
      "grid_area": null,
      "grid_auto_columns": null,
      "grid_auto_flow": null,
      "grid_auto_rows": null,
      "grid_column": null,
      "grid_gap": null,
      "grid_row": null,
      "grid_template_areas": null,
      "grid_template_columns": null,
      "grid_template_rows": null,
      "height": null,
      "justify_content": null,
      "justify_items": null,
      "left": null,
      "margin": null,
      "max_height": null,
      "max_width": null,
      "min_height": null,
      "min_width": null,
      "object_fit": null,
      "object_position": null,
      "order": null,
      "overflow": null,
      "overflow_x": null,
      "overflow_y": null,
      "padding": null,
      "right": null,
      "top": null,
      "visibility": null,
      "width": null
     }
    },
    "75ef319bb5194c51961061eb0fa00195": {
     "model_module": "@jupyter-widgets/base",
     "model_module_version": "1.2.0",
     "model_name": "LayoutModel",
     "state": {
      "_model_module": "@jupyter-widgets/base",
      "_model_module_version": "1.2.0",
      "_model_name": "LayoutModel",
      "_view_count": null,
      "_view_module": "@jupyter-widgets/base",
      "_view_module_version": "1.2.0",
      "_view_name": "LayoutView",
      "align_content": null,
      "align_items": null,
      "align_self": null,
      "border": null,
      "bottom": null,
      "display": null,
      "flex": null,
      "flex_flow": null,
      "grid_area": null,
      "grid_auto_columns": null,
      "grid_auto_flow": null,
      "grid_auto_rows": null,
      "grid_column": null,
      "grid_gap": null,
      "grid_row": null,
      "grid_template_areas": null,
      "grid_template_columns": null,
      "grid_template_rows": null,
      "height": null,
      "justify_content": null,
      "justify_items": null,
      "left": null,
      "margin": null,
      "max_height": null,
      "max_width": null,
      "min_height": null,
      "min_width": null,
      "object_fit": null,
      "object_position": null,
      "order": null,
      "overflow": null,
      "overflow_x": null,
      "overflow_y": null,
      "padding": null,
      "right": null,
      "top": null,
      "visibility": null,
      "width": null
     }
    },
    "79beb4f3b8ca4209968ec523409f6b9c": {
     "model_module": "@jupyter-widgets/base",
     "model_module_version": "1.2.0",
     "model_name": "LayoutModel",
     "state": {
      "_model_module": "@jupyter-widgets/base",
      "_model_module_version": "1.2.0",
      "_model_name": "LayoutModel",
      "_view_count": null,
      "_view_module": "@jupyter-widgets/base",
      "_view_module_version": "1.2.0",
      "_view_name": "LayoutView",
      "align_content": null,
      "align_items": null,
      "align_self": null,
      "border": null,
      "bottom": null,
      "display": null,
      "flex": null,
      "flex_flow": null,
      "grid_area": null,
      "grid_auto_columns": null,
      "grid_auto_flow": null,
      "grid_auto_rows": null,
      "grid_column": null,
      "grid_gap": null,
      "grid_row": null,
      "grid_template_areas": null,
      "grid_template_columns": null,
      "grid_template_rows": null,
      "height": null,
      "justify_content": null,
      "justify_items": null,
      "left": null,
      "margin": null,
      "max_height": null,
      "max_width": null,
      "min_height": null,
      "min_width": null,
      "object_fit": null,
      "object_position": null,
      "order": null,
      "overflow": null,
      "overflow_x": null,
      "overflow_y": null,
      "padding": null,
      "right": null,
      "top": null,
      "visibility": null,
      "width": null
     }
    },
    "7bc35d9f6d954015b366922c00dca7e3": {
     "model_module": "@jupyter-widgets/base",
     "model_module_version": "1.2.0",
     "model_name": "LayoutModel",
     "state": {
      "_model_module": "@jupyter-widgets/base",
      "_model_module_version": "1.2.0",
      "_model_name": "LayoutModel",
      "_view_count": null,
      "_view_module": "@jupyter-widgets/base",
      "_view_module_version": "1.2.0",
      "_view_name": "LayoutView",
      "align_content": null,
      "align_items": null,
      "align_self": null,
      "border": null,
      "bottom": null,
      "display": null,
      "flex": null,
      "flex_flow": null,
      "grid_area": null,
      "grid_auto_columns": null,
      "grid_auto_flow": null,
      "grid_auto_rows": null,
      "grid_column": null,
      "grid_gap": null,
      "grid_row": null,
      "grid_template_areas": null,
      "grid_template_columns": null,
      "grid_template_rows": null,
      "height": null,
      "justify_content": null,
      "justify_items": null,
      "left": null,
      "margin": null,
      "max_height": null,
      "max_width": null,
      "min_height": null,
      "min_width": null,
      "object_fit": null,
      "object_position": null,
      "order": null,
      "overflow": null,
      "overflow_x": null,
      "overflow_y": null,
      "padding": null,
      "right": null,
      "top": null,
      "visibility": null,
      "width": null
     }
    },
    "7e20ac378ee94e6e8f80712b3f6026aa": {
     "model_module": "@jupyter-widgets/controls",
     "model_module_version": "1.5.0",
     "model_name": "DescriptionStyleModel",
     "state": {
      "_model_module": "@jupyter-widgets/controls",
      "_model_module_version": "1.5.0",
      "_model_name": "DescriptionStyleModel",
      "_view_count": null,
      "_view_module": "@jupyter-widgets/base",
      "_view_module_version": "1.2.0",
      "_view_name": "StyleView",
      "description_width": ""
     }
    },
    "7f1027a7da394a16bdec4a7a6671a062": {
     "model_module": "@jupyter-widgets/controls",
     "model_module_version": "1.5.0",
     "model_name": "ProgressStyleModel",
     "state": {
      "_model_module": "@jupyter-widgets/controls",
      "_model_module_version": "1.5.0",
      "_model_name": "ProgressStyleModel",
      "_view_count": null,
      "_view_module": "@jupyter-widgets/base",
      "_view_module_version": "1.2.0",
      "_view_name": "StyleView",
      "bar_color": null,
      "description_width": ""
     }
    },
    "83be346cb1e642c587e5eb3d8eadf294": {
     "model_module": "@jupyter-widgets/base",
     "model_module_version": "1.2.0",
     "model_name": "LayoutModel",
     "state": {
      "_model_module": "@jupyter-widgets/base",
      "_model_module_version": "1.2.0",
      "_model_name": "LayoutModel",
      "_view_count": null,
      "_view_module": "@jupyter-widgets/base",
      "_view_module_version": "1.2.0",
      "_view_name": "LayoutView",
      "align_content": null,
      "align_items": null,
      "align_self": null,
      "border": null,
      "bottom": null,
      "display": null,
      "flex": null,
      "flex_flow": null,
      "grid_area": null,
      "grid_auto_columns": null,
      "grid_auto_flow": null,
      "grid_auto_rows": null,
      "grid_column": null,
      "grid_gap": null,
      "grid_row": null,
      "grid_template_areas": null,
      "grid_template_columns": null,
      "grid_template_rows": null,
      "height": null,
      "justify_content": null,
      "justify_items": null,
      "left": null,
      "margin": null,
      "max_height": null,
      "max_width": null,
      "min_height": null,
      "min_width": null,
      "object_fit": null,
      "object_position": null,
      "order": null,
      "overflow": null,
      "overflow_x": null,
      "overflow_y": null,
      "padding": null,
      "right": null,
      "top": null,
      "visibility": null,
      "width": null
     }
    },
    "845d57d8be2543788813762fad88eea4": {
     "model_module": "@jupyter-widgets/base",
     "model_module_version": "1.2.0",
     "model_name": "LayoutModel",
     "state": {
      "_model_module": "@jupyter-widgets/base",
      "_model_module_version": "1.2.0",
      "_model_name": "LayoutModel",
      "_view_count": null,
      "_view_module": "@jupyter-widgets/base",
      "_view_module_version": "1.2.0",
      "_view_name": "LayoutView",
      "align_content": null,
      "align_items": null,
      "align_self": null,
      "border": null,
      "bottom": null,
      "display": null,
      "flex": null,
      "flex_flow": null,
      "grid_area": null,
      "grid_auto_columns": null,
      "grid_auto_flow": null,
      "grid_auto_rows": null,
      "grid_column": null,
      "grid_gap": null,
      "grid_row": null,
      "grid_template_areas": null,
      "grid_template_columns": null,
      "grid_template_rows": null,
      "height": null,
      "justify_content": null,
      "justify_items": null,
      "left": null,
      "margin": null,
      "max_height": null,
      "max_width": null,
      "min_height": null,
      "min_width": null,
      "object_fit": null,
      "object_position": null,
      "order": null,
      "overflow": null,
      "overflow_x": null,
      "overflow_y": null,
      "padding": null,
      "right": null,
      "top": null,
      "visibility": null,
      "width": null
     }
    },
    "855152a41dc142ffba7afc737c83fc7c": {
     "model_module": "@jupyter-widgets/base",
     "model_module_version": "1.2.0",
     "model_name": "LayoutModel",
     "state": {
      "_model_module": "@jupyter-widgets/base",
      "_model_module_version": "1.2.0",
      "_model_name": "LayoutModel",
      "_view_count": null,
      "_view_module": "@jupyter-widgets/base",
      "_view_module_version": "1.2.0",
      "_view_name": "LayoutView",
      "align_content": null,
      "align_items": null,
      "align_self": null,
      "border": null,
      "bottom": null,
      "display": null,
      "flex": null,
      "flex_flow": null,
      "grid_area": null,
      "grid_auto_columns": null,
      "grid_auto_flow": null,
      "grid_auto_rows": null,
      "grid_column": null,
      "grid_gap": null,
      "grid_row": null,
      "grid_template_areas": null,
      "grid_template_columns": null,
      "grid_template_rows": null,
      "height": null,
      "justify_content": null,
      "justify_items": null,
      "left": null,
      "margin": null,
      "max_height": null,
      "max_width": null,
      "min_height": null,
      "min_width": null,
      "object_fit": null,
      "object_position": null,
      "order": null,
      "overflow": null,
      "overflow_x": null,
      "overflow_y": null,
      "padding": null,
      "right": null,
      "top": null,
      "visibility": null,
      "width": null
     }
    },
    "892ed76c0f2547db8852e93f0e80e7c6": {
     "model_module": "@jupyter-widgets/controls",
     "model_module_version": "1.5.0",
     "model_name": "HBoxModel",
     "state": {
      "_dom_classes": [],
      "_model_module": "@jupyter-widgets/controls",
      "_model_module_version": "1.5.0",
      "_model_name": "HBoxModel",
      "_view_count": null,
      "_view_module": "@jupyter-widgets/controls",
      "_view_module_version": "1.5.0",
      "_view_name": "HBoxView",
      "box_style": "",
      "children": [
       "IPY_MODEL_2ff742abf8ee4c219677915ed820bb15",
       "IPY_MODEL_eb9be5f4ad1549a98a8093ac7899fcdb",
       "IPY_MODEL_3b2ef6d837d045249007331328bff2f3"
      ],
      "layout": "IPY_MODEL_198c2127045140c5bd79974231d5c822"
     }
    },
    "cf035a6fe7a242f480c4e8e449e5d3dd": {
     "model_module": "@jupyter-widgets/base",
     "model_module_version": "1.2.0",
     "model_name": "LayoutModel",
     "state": {
      "_model_module": "@jupyter-widgets/base",
      "_model_module_version": "1.2.0",
      "_model_name": "LayoutModel",
      "_view_count": null,
      "_view_module": "@jupyter-widgets/base",
      "_view_module_version": "1.2.0",
      "_view_name": "LayoutView",
      "align_content": null,
      "align_items": null,
      "align_self": null,
      "border": null,
      "bottom": null,
      "display": null,
      "flex": null,
      "flex_flow": null,
      "grid_area": null,
      "grid_auto_columns": null,
      "grid_auto_flow": null,
      "grid_auto_rows": null,
      "grid_column": null,
      "grid_gap": null,
      "grid_row": null,
      "grid_template_areas": null,
      "grid_template_columns": null,
      "grid_template_rows": null,
      "height": null,
      "justify_content": null,
      "justify_items": null,
      "left": null,
      "margin": null,
      "max_height": null,
      "max_width": null,
      "min_height": null,
      "min_width": null,
      "object_fit": null,
      "object_position": null,
      "order": null,
      "overflow": null,
      "overflow_x": null,
      "overflow_y": null,
      "padding": null,
      "right": null,
      "top": null,
      "visibility": null,
      "width": null
     }
    },
    "d966740f77c64710b984f9971dc38bd4": {
     "model_module": "@jupyter-widgets/base",
     "model_module_version": "1.2.0",
     "model_name": "LayoutModel",
     "state": {
      "_model_module": "@jupyter-widgets/base",
      "_model_module_version": "1.2.0",
      "_model_name": "LayoutModel",
      "_view_count": null,
      "_view_module": "@jupyter-widgets/base",
      "_view_module_version": "1.2.0",
      "_view_name": "LayoutView",
      "align_content": null,
      "align_items": null,
      "align_self": null,
      "border": null,
      "bottom": null,
      "display": null,
      "flex": null,
      "flex_flow": null,
      "grid_area": null,
      "grid_auto_columns": null,
      "grid_auto_flow": null,
      "grid_auto_rows": null,
      "grid_column": null,
      "grid_gap": null,
      "grid_row": null,
      "grid_template_areas": null,
      "grid_template_columns": null,
      "grid_template_rows": null,
      "height": null,
      "justify_content": null,
      "justify_items": null,
      "left": null,
      "margin": null,
      "max_height": null,
      "max_width": null,
      "min_height": null,
      "min_width": null,
      "object_fit": null,
      "object_position": null,
      "order": null,
      "overflow": null,
      "overflow_x": null,
      "overflow_y": null,
      "padding": null,
      "right": null,
      "top": null,
      "visibility": null,
      "width": null
     }
    },
    "e1d894bf5c6d478a998b94e396a6760c": {
     "model_module": "@jupyter-widgets/base",
     "model_module_version": "1.2.0",
     "model_name": "LayoutModel",
     "state": {
      "_model_module": "@jupyter-widgets/base",
      "_model_module_version": "1.2.0",
      "_model_name": "LayoutModel",
      "_view_count": null,
      "_view_module": "@jupyter-widgets/base",
      "_view_module_version": "1.2.0",
      "_view_name": "LayoutView",
      "align_content": null,
      "align_items": null,
      "align_self": null,
      "border": null,
      "bottom": null,
      "display": null,
      "flex": null,
      "flex_flow": null,
      "grid_area": null,
      "grid_auto_columns": null,
      "grid_auto_flow": null,
      "grid_auto_rows": null,
      "grid_column": null,
      "grid_gap": null,
      "grid_row": null,
      "grid_template_areas": null,
      "grid_template_columns": null,
      "grid_template_rows": null,
      "height": null,
      "justify_content": null,
      "justify_items": null,
      "left": null,
      "margin": null,
      "max_height": null,
      "max_width": null,
      "min_height": null,
      "min_width": null,
      "object_fit": null,
      "object_position": null,
      "order": null,
      "overflow": null,
      "overflow_x": null,
      "overflow_y": null,
      "padding": null,
      "right": null,
      "top": null,
      "visibility": null,
      "width": null
     }
    },
    "eb9be5f4ad1549a98a8093ac7899fcdb": {
     "model_module": "@jupyter-widgets/controls",
     "model_module_version": "1.5.0",
     "model_name": "FloatProgressModel",
     "state": {
      "_dom_classes": [],
      "_model_module": "@jupyter-widgets/controls",
      "_model_module_version": "1.5.0",
      "_model_name": "FloatProgressModel",
      "_view_count": null,
      "_view_module": "@jupyter-widgets/controls",
      "_view_module_version": "1.5.0",
      "_view_name": "ProgressView",
      "bar_style": "success",
      "description": "",
      "description_tooltip": null,
      "layout": "IPY_MODEL_845d57d8be2543788813762fad88eea4",
      "max": 23950,
      "min": 0,
      "orientation": "horizontal",
      "style": "IPY_MODEL_132ee9c1862d4a58b1df42833eaf654d",
      "value": 23950
     }
    },
    "f2058a709b1749a888b9b0d73de0ebab": {
     "model_module": "@jupyter-widgets/controls",
     "model_module_version": "1.5.0",
     "model_name": "HBoxModel",
     "state": {
      "_dom_classes": [],
      "_model_module": "@jupyter-widgets/controls",
      "_model_module_version": "1.5.0",
      "_model_name": "HBoxModel",
      "_view_count": null,
      "_view_module": "@jupyter-widgets/controls",
      "_view_module_version": "1.5.0",
      "_view_name": "HBoxView",
      "box_style": "",
      "children": [
       "IPY_MODEL_651a621e67f14497a544b75ee5cd4cd8",
       "IPY_MODEL_25ed71ae2ecd45ed89340c331e22253d",
       "IPY_MODEL_44d664b7a4c94dc09f5b42349367e91f"
      ],
      "layout": "IPY_MODEL_7bc35d9f6d954015b366922c00dca7e3"
     }
    },
    "f5ca41dd12404708ba889e99990f0c98": {
     "model_module": "@jupyter-widgets/base",
     "model_module_version": "1.2.0",
     "model_name": "LayoutModel",
     "state": {
      "_model_module": "@jupyter-widgets/base",
      "_model_module_version": "1.2.0",
      "_model_name": "LayoutModel",
      "_view_count": null,
      "_view_module": "@jupyter-widgets/base",
      "_view_module_version": "1.2.0",
      "_view_name": "LayoutView",
      "align_content": null,
      "align_items": null,
      "align_self": null,
      "border": null,
      "bottom": null,
      "display": null,
      "flex": null,
      "flex_flow": null,
      "grid_area": null,
      "grid_auto_columns": null,
      "grid_auto_flow": null,
      "grid_auto_rows": null,
      "grid_column": null,
      "grid_gap": null,
      "grid_row": null,
      "grid_template_areas": null,
      "grid_template_columns": null,
      "grid_template_rows": null,
      "height": null,
      "justify_content": null,
      "justify_items": null,
      "left": null,
      "margin": null,
      "max_height": null,
      "max_width": null,
      "min_height": null,
      "min_width": null,
      "object_fit": null,
      "object_position": null,
      "order": null,
      "overflow": null,
      "overflow_x": null,
      "overflow_y": null,
      "padding": null,
      "right": null,
      "top": null,
      "visibility": null,
      "width": null
     }
    },
    "f991250c3bed4f32ac571d06b2ba6530": {
     "model_module": "@jupyter-widgets/base",
     "model_module_version": "1.2.0",
     "model_name": "LayoutModel",
     "state": {
      "_model_module": "@jupyter-widgets/base",
      "_model_module_version": "1.2.0",
      "_model_name": "LayoutModel",
      "_view_count": null,
      "_view_module": "@jupyter-widgets/base",
      "_view_module_version": "1.2.0",
      "_view_name": "LayoutView",
      "align_content": null,
      "align_items": null,
      "align_self": null,
      "border": null,
      "bottom": null,
      "display": null,
      "flex": null,
      "flex_flow": null,
      "grid_area": null,
      "grid_auto_columns": null,
      "grid_auto_flow": null,
      "grid_auto_rows": null,
      "grid_column": null,
      "grid_gap": null,
      "grid_row": null,
      "grid_template_areas": null,
      "grid_template_columns": null,
      "grid_template_rows": null,
      "height": null,
      "justify_content": null,
      "justify_items": null,
      "left": null,
      "margin": null,
      "max_height": null,
      "max_width": null,
      "min_height": null,
      "min_width": null,
      "object_fit": null,
      "object_position": null,
      "order": null,
      "overflow": null,
      "overflow_x": null,
      "overflow_y": null,
      "padding": null,
      "right": null,
      "top": null,
      "visibility": null,
      "width": null
     }
    }
   }
  }
 },
 "nbformat": 4,
 "nbformat_minor": 4
}
